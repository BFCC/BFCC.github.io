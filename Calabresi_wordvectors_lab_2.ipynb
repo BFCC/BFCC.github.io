{
  "nbformat": 4,
  "nbformat_minor": 0,
  "metadata": {
    "colab": {
      "provenance": [],
      "authorship_tag": "ABX9TyOyOTjF+j7FLwpXtrnE7HKV",
      "include_colab_link": true
    },
    "kernelspec": {
      "name": "python3",
      "display_name": "Python 3"
    },
    "language_info": {
      "name": "python"
    }
  },
  "cells": [
    {
      "cell_type": "markdown",
      "metadata": {
        "id": "view-in-github",
        "colab_type": "text"
      },
      "source": [
        "<a href=\"https://colab.research.google.com/github/BFCC/BFCC.github.io/blob/main/Calabresi_wordvectors_lab_2.ipynb\" target=\"_parent\"><img src=\"https://colab.research.google.com/assets/colab-badge.svg\" alt=\"Open In Colab\"/></a>"
      ]
    },
    {
      "cell_type": "code",
      "execution_count": 1,
      "metadata": {
        "id": "2aIxKwYlTVmS"
      },
      "outputs": [],
      "source": [
        "import re\n",
        "import multiprocessing\n",
        "from gensim.models import Word2Vec"
      ]
    },
    {
      "cell_type": "code",
      "source": [
        "file = open(\"hunger_games-1.txt\", 'r').read()"
      ],
      "metadata": {
        "id": "zjYjxpDvV3Le"
      },
      "execution_count": 5,
      "outputs": []
    },
    {
      "cell_type": "code",
      "source": [
        "for char in [\"\\n\", \"\\r\", \"\\d\", \"\\t\"]:\n",
        "    file = file.replace(char, \" \")"
      ],
      "metadata": {
        "id": "t1kIs4gJWMkl"
      },
      "execution_count": 6,
      "outputs": []
    },
    {
      "cell_type": "code",
      "source": [
        "print(file[:100])"
      ],
      "metadata": {
        "colab": {
          "base_uri": "https://localhost:8080/"
        },
        "id": "gclM1cv-WOo9",
        "outputId": "5eeba908-360d-4f24-ecde-15ec2401a66e"
      },
      "execution_count": 7,
      "outputs": [
        {
          "output_type": "stream",
          "name": "stdout",
          "text": [
            "The Second Book of THE HUNGER GAMES     New York Times Bestsel ling Author   SUZHNNE  COLLINS     PA\n"
          ]
        }
      ]
    },
    {
      "cell_type": "code",
      "source": [
        "import nltk\n",
        "\n",
        "nltk.download('punkt')"
      ],
      "metadata": {
        "colab": {
          "base_uri": "https://localhost:8080/"
        },
        "id": "jiHon-b2jZZz",
        "outputId": "4cff15f6-e98c-4dd6-da66-1200825eec08"
      },
      "execution_count": 12,
      "outputs": [
        {
          "output_type": "stream",
          "name": "stderr",
          "text": [
            "[nltk_data] Downloading package punkt to /root/nltk_data...\n",
            "[nltk_data]   Package punkt is already up-to-date!\n"
          ]
        },
        {
          "output_type": "execute_result",
          "data": {
            "text/plain": [
              "True"
            ]
          },
          "metadata": {},
          "execution_count": 12
        }
      ]
    },
    {
      "cell_type": "code",
      "source": [
        "# this is simplified for demonstration\n",
        "def sample_clean_text(text: str):\n",
        "    # lowercase\n",
        "    text = text.lower()\n",
        "\n",
        "    # remove punctuation from text\n",
        "    text = re.sub(r\"[^\\w\\s]\", \"\", text)\n",
        "\n",
        "    # tokenize the text\n",
        "    tokens = nltk.word_tokenize(text)\n",
        "\n",
        "    # return your tokens\n",
        "    return tokens\n",
        "\n",
        "# call the function\n",
        "sample_tokens = sample_clean_text(text = file)\n",
        "\n",
        "# check\n",
        "print(sample_tokens[:50])"
      ],
      "metadata": {
        "colab": {
          "base_uri": "https://localhost:8080/"
        },
        "id": "ulClespUix3G",
        "outputId": "59b24780-68f8-47a4-f053-eb12653b06bb"
      },
      "execution_count": 13,
      "outputs": [
        {
          "output_type": "stream",
          "name": "stdout",
          "text": [
            "['the', 'second', 'book', 'of', 'the', 'hunger', 'games', 'new', 'york', 'times', 'bestsel', 'ling', 'author', 'suzhnne', 'collins', 'parti', 'the', 'spark', '2', 'p', 'a', 'g', 'e', 'catching', 'fire', 'suzanne', 'collins', 'i', 'clasp', 'the', 'flask', 'between', 'my', 'hands', 'even', 'though', 'the', 'warmth', 'from', 'the', 'tea', 'has', 'long', 'since', 'leached', 'into', 'the', 'frozen', 'air', 'my']\n"
          ]
        }
      ]
    }
  ]
}