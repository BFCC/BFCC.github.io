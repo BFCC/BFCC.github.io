{
  "nbformat": 4,
  "nbformat_minor": 0,
  "metadata": {
    "colab": {
      "provenance": [],
      "authorship_tag": "ABX9TyNoqH9uG9ral558SNPIJ2/n",
      "include_colab_link": true
    },
    "kernelspec": {
      "name": "python3",
      "display_name": "Python 3"
    },
    "language_info": {
      "name": "python"
    }
  },
  "cells": [
    {
      "cell_type": "markdown",
      "metadata": {
        "id": "view-in-github",
        "colab_type": "text"
      },
      "source": [
        "<a href=\"https://colab.research.google.com/github/BFCC/BFCC.github.io/blob/main/TaylorvWillredux.ipynb\" target=\"_parent\"><img src=\"https://colab.research.google.com/assets/colab-badge.svg\" alt=\"Open In Colab\"/></a>"
      ]
    },
    {
      "cell_type": "code",
      "execution_count": 1,
      "metadata": {
        "id": "u5_Lkwgf-D80"
      },
      "outputs": [],
      "source": [
        "import re\n",
        "import nltk\n",
        "import numpy as np\n",
        "import matplotlib.pyplot as plt\n",
        "import random\n",
        "\n",
        "from gensim.models import Word2Vec\n",
        "\n",
        "from sklearn.decomposition import IncrementalPCA\n",
        "from sklearn.manifold import TSNE"
      ]
    },
    {
      "cell_type": "code",
      "source": [
        "import nltk\n",
        "nltk.download('punkt')"
      ],
      "metadata": {
        "colab": {
          "base_uri": "https://localhost:8080/"
        },
        "id": "ALetmKep-4pT",
        "outputId": "477324e9-b230-4522-81ec-13374f31c6d5"
      },
      "execution_count": 2,
      "outputs": [
        {
          "output_type": "stream",
          "name": "stderr",
          "text": [
            "[nltk_data] Downloading package punkt to /root/nltk_data...\n",
            "[nltk_data]   Unzipping tokenizers/punkt.zip.\n"
          ]
        },
        {
          "output_type": "execute_result",
          "data": {
            "text/plain": [
              "True"
            ]
          },
          "metadata": {},
          "execution_count": 2
        }
      ]
    },
    {
      "cell_type": "code",
      "source": [
        "file = open(\"taylorvsshakes 3.csv\", 'r').read()"
      ],
      "metadata": {
        "id": "KOWQu1kd-9Dp"
      },
      "execution_count": 3,
      "outputs": []
    },
    {
      "cell_type": "code",
      "source": [
        "for char in [\"\\n\", \"\\r\", \"\\d\", \"\\t\"]:\n",
        "    file = file.replace(char, \" \")"
      ],
      "metadata": {
        "id": "kcbIJN25_DLR"
      },
      "execution_count": 4,
      "outputs": []
    },
    {
      "cell_type": "code",
      "source": [
        "print(file[:400])"
      ],
      "metadata": {
        "colab": {
          "base_uri": "https://localhost:8080/"
        },
        "id": "iEITKZfR_HYo",
        "outputId": "a509a4f7-b1ec-4b9b-de75-4a91f13d945f"
      },
      "execution_count": 5,
      "outputs": [
        {
          "output_type": "stream",
          "name": "stdout",
          "text": [
            "Text,Author \"Nice to meet you, where you been?\",TAYLOR I could show you incredible things,TAYLOR \"Magic, madness, heaven sin\",TAYLOR Saw you there and I thought,TAYLOR \"Oh my God, look at that face\",TAYLOR You look like my next mistake,TAYLOR \"Love's a game, want to play?\",TAYLOR \"New money, suit and tie\",TAYLOR I can read you like a magazine,TAYLOR \"Ain't it funny, rumors, lie\",TAYLOR And I know \n"
          ]
        }
      ]
    },
    {
      "cell_type": "code",
      "source": [
        "def sample_clean_text(text: str):\n",
        "\n",
        "    sentences = nltk.sent_tokenize(text)\n",
        "\n",
        "\n",
        "    tokenized_sentences = [nltk.word_tokenize(sent) for sent in sentences]\n",
        "\n",
        "\n",
        "    tokenized_text = [[word.lower() for word in sent] for sent in tokenized_sentences]\n",
        "\n",
        "\n",
        "    return tokenized_text\n",
        "\n",
        "\n",
        "tokens = sample_clean_text(text = file)\n",
        "\n",
        "\n",
        "print(tokens[:10])"
      ],
      "metadata": {
        "colab": {
          "base_uri": "https://localhost:8080/"
        },
        "id": "_gv7xSaJ_UsD",
        "outputId": "c824d862-e7eb-4bf4-f2fa-ca8802d5f70e"
      },
      "execution_count": 6,
      "outputs": [
        {
          "output_type": "stream",
          "name": "stdout",
          "text": [
            "[['text', ',', 'author', '``', 'nice', 'to', 'meet', 'you', ',', 'where', 'you', 'been', '?'], ['``', ',', 'taylor', 'i', 'could', 'show', 'you', 'incredible', 'things', ',', 'taylor', '``', 'magic', ',', 'madness', ',', 'heaven', 'sin', \"''\", ',', 'taylor', 'saw', 'you', 'there', 'and', 'i', 'thought', ',', 'taylor', '``', 'oh', 'my', 'god', ',', 'look', 'at', 'that', 'face', \"''\", ',', 'taylor', 'you', 'look', 'like', 'my', 'next', 'mistake', ',', 'taylor', '``', 'love', \"'s\", 'a', 'game', ',', 'want', 'to', 'play', '?'], ['``', ',', 'taylor', '``', 'new', 'money', ',', 'suit', 'and', 'tie', \"''\", ',', 'taylor', 'i', 'can', 'read', 'you', 'like', 'a', 'magazine', ',', 'taylor', '``', 'ai', \"n't\", 'it', 'funny', ',', 'rumors', ',', 'lie', \"''\", ',', 'taylor', 'and', 'i', 'know', 'you', 'heard', 'about', 'me', ',', 'taylor', '``', 'so', 'hey', ',', 'let', \"'s\", 'be', 'friends', \"''\", ',', 'taylor', 'i', \"'m\", 'dying', 'to', 'see', 'how', 'this', 'one', 'ends', ',', 'taylor', 'grab', 'your', 'passport', 'and', 'my', 'hand', ',', 'taylor', 'i', 'can', 'make', 'the', 'bad', 'guys', 'good', 'for', 'a', 'weekend', ',', 'taylor', 'so', 'it', \"'s\", 'gon', 'na', 'be', 'forever', ',', 'taylor', 'or', 'it', \"'s\", 'gon', 'na', 'go', 'down', 'in', 'flames', ',', 'taylor', 'you', 'can', 'tell', 'me', 'when', 'it', \"'s\", 'over', ',', 'taylor', 'if', 'the', 'high', 'was', 'worth', 'the', 'pain', ',', 'taylor', 'got', 'a', 'long', 'list', 'of', 'ex-lovers', ',', 'taylor', 'they', \"'ll\", 'tell', 'you', 'i', \"'m\", 'insane', ',', 'taylor', 'cause', 'you', 'know', 'i', 'love', 'the', 'players', ',', 'taylor', 'and', 'you', 'love', 'the', 'game', ',', 'taylor', 'cause', 'we', \"'re\", 'young', 'and', 'we', \"'re\", 'reckless', ',', 'taylor', 'we', \"'ll\", 'take', 'this', 'way', 'too', 'far', ',', 'taylor', 'it', \"'ll\", 'leave', 'you', 'breathless', ',', 'taylor', 'or', 'with', 'a', 'nasty', 'scar', ',', 'taylor', 'got', 'a', 'long', 'list', 'of', 'ex-lovers', ',', 'taylor', 'they', \"'ll\", 'tell', 'you', 'i', \"'m\", 'insane', ',', 'taylor', 'but', 'i', \"'ve\", 'got', 'a', 'blank', 'space', 'baby', ',', 'taylor', 'and', 'i', \"'ll\", 'write', 'your', 'name', ',', 'taylor', '``', 'cherry', 'lips', ',', 'crystal', 'skies', \"''\", ',', 'taylor', 'i', 'could', 'show', 'you', 'incredible', 'things', ',', 'taylor', '``', 'stolen', 'kisses', ',', 'pretty', 'lies', \"''\", ',', 'taylor', 'you', \"'re\", 'the', 'king', 'baby', 'i', \"'m\", 'your', 'queen', ',', 'taylor', 'find', 'out', 'what', 'you', 'want', ',', 'taylor', 'be', 'that', 'girl', 'for', 'a', 'month', ',', 'taylor', '``', 'wait', 'the', 'worst', 'is', 'yet', 'to', 'come', ',', 'oh', 'no', \"''\", ',', 'taylor', '``', 'screaming', ',', 'crying', ',', 'perfect', 'storm', \"''\", ',', 'taylor', 'i', 'can', 'make', 'all', 'the', 'tables', 'turn', ',', 'taylor', 'rose', 'gardens', 'filled', 'with', 'thorns', ',', 'taylor', 'keep', 'you', 'second', 'guessing', 'like', ',', 'taylor', '``', \"''\", \"''\", 'oh', 'my', 'god', ',', 'who', 'is', 'she', '?'], ['``', '``', \"''\", ',', 'taylor', 'i', 'get', 'drunk', 'on', 'jealousy', ',', 'taylor', 'but', 'you', \"'ll\", 'come', 'back', 'each', 'time', 'you', 'leave', ',', 'taylor', 'cause', 'darling', 'i', \"'m\", 'a', 'nightmare', 'dressed', 'like', 'a', 'daydream', ',', 'taylor', 'i', 'do', \"n't\", 'like', 'your', 'little', 'games', ',', 'taylor', 'do', \"n't\", 'like', 'your', 'tilted', 'stage', ',', 'taylor', 'the', 'role', 'you', 'made', 'me', 'play', ',', 'taylor', '``', 'of', 'the', 'fool', ',', 'no', ',', 'i', 'do', \"n't\", 'like', 'you', \"''\", ',', 'taylor', 'i', 'do', \"n't\", 'like', 'your', 'perfect', 'crime', ',', 'taylor', 'how', 'you', 'laugh', 'when', 'you', 'lie', ',', 'taylor', 'you', 'said', 'the', 'gun', 'was', 'mine', ',', 'taylor', '``', 'is', \"n't\", 'cool', ',', 'no', ',', 'i', 'do', \"n't\", 'like', 'you', \"''\", ',', 'taylor', '``', 'but', 'i', 'got', 'smarter', ',', 'i', 'got', 'harder', 'in', 'the', 'nick', 'of', 'time', \"''\", ',', 'taylor', '``', 'honey', ',', 'i', 'rose', 'up', 'from', 'the', 'dead', ',', 'i', 'do', 'it', 'all', 'the', 'time', \"''\", ',', 'taylor', '``', 'i', \"'ve\", 'got', 'a', 'list', 'of', 'names', 'and', 'yours', 'is', 'in', 'red', ',', 'underlined', \"''\", ',', 'taylor', '``', 'i', 'check', 'it', 'once', ',', 'then', 'i', 'check', 'it', 'twice', \"''\", ',', 'taylor', 'i', 'do', \"n't\", 'like', 'your', 'kingdom', 'keys', ',', 'taylor', 'they', 'once', 'belonged', 'to', 'me', ',', 'taylor', 'you', 'ask', 'me', 'for', 'a', 'place', 'to', 'sleep', ',', 'taylor', 'locked', 'me', 'out', 'and', 'threw', 'a', 'feast', ',', 'taylor', '``', 'the', 'world', 'moves', 'on', ',', 'another', 'day', ',', 'another', 'drama', ',', 'drama', \"''\", ',', 'taylor', '``', 'but', 'not', 'for', 'me', ',', 'not', 'for', 'me', ',', 'all', 'i', 'think', 'about', 'is', 'karma', \"''\", ',', 'taylor', '``', 'and', 'then', 'the', 'world', 'moves', 'on', ',', 'but', 'one', 'thing', \"'s\", 'for', 'sure', \"''\", ',', 'taylor', '``', 'maybe', 'i', 'got', 'mine', ',', 'but', 'you', \"'ll\", 'all', 'get', 'yours', \"''\", ',', 'taylor', 'you', 'are', 'somebody', 'that', 'i', 'do', \"n't\", 'know', ',', 'taylor', 'but', 'you', \"'re\", 'takin', \"'\", 'shots', 'at', 'me', 'like', 'it', \"'s\", 'patrón', ',', 'taylor', '``', 'and', 'i', \"'m\", 'just', 'like', ',', 'damn', ',', 'it', \"'s\", '7', 'am', \"''\", ',', 'taylor', '``', 'say', 'it', 'in', 'the', 'street', ',', 'that', \"'s\", 'a', 'knock-out', \"''\", ',', 'taylor', '``', 'but', 'you', 'say', 'it', 'in', 'a', 'tweet', ',', 'that', \"'s\", 'a', 'cop-out', \"''\", ',', 'taylor', '``', 'and', 'i', \"'m\", 'just', 'like', ',', '``', \"''\", 'hey', ',', 'are', 'you', 'okay', '?'], ['``', '``', \"''\", ',', 'taylor', 'and', 'i', 'ai', \"n't\", 'tryna', 'mess', 'with', 'your', 'self-expression', ',', 'taylor', 'but', 'i', \"'ve\", 'learned', 'a', 'lesson', 'that', 'stressin', \"'\", 'and', 'obsessin', \"'\", \"'bout\", 'somebody', 'else', 'is', 'no', 'fun', ',', 'taylor', 'and', 'snakes', 'and', 'stones', 'never', 'broke', 'my', 'bones', ',', 'taylor', '``', 'you', 'need', 'to', 'calm', 'down', ',', 'you', \"'re\", 'being', 'too', 'loud', \"''\", ',', 'taylor', 'you', 'need', 'to', 'just', 'stop', ',', 'taylor', 'like', 'can', 'you', 'just', 'not', 'step', 'on', 'my', 'gown', '?', ',', 'taylor', 'you', 'need', 'to', 'calm', 'down', ',', 'taylor', 'you', 'are', 'somebody', 'that', 'we', 'do', \"n't\", 'know', ',', 'taylor', 'but', 'you', \"'re\", 'comin', \"'\", 'at', 'my', 'friends', 'like', 'a', 'missile', ',', 'taylor', 'why', 'are', 'you', 'mad', '?', ',', 'taylor', 'when', 'you', 'could', 'be', 'glaad', '?'], ['(', 'you', 'could', 'be', 'glaad', ')', ',', 'taylor', 'sunshine', 'on', 'the', 'street', 'at', 'the', 'parade', ',', 'taylor', 'but', 'you', 'would', 'rather', 'be', 'in', 'the', 'dark', 'age', ',', 'taylor', 'just', 'makin', \"'\", 'that', 'sign', 'must', \"'ve\", 'taken', 'all', 'night', ',', 'taylor', 'you', 'just', 'need', 'to', 'take', 'several', 'seats', 'and', 'then', 'try', 'to', 'restore', 'the', 'peace', ',', 'taylor', 'and', 'control', 'your', 'urges', 'to', 'scream', 'about', 'all', 'the', 'people', 'you', 'hate', ',', 'taylor', 'cause', 'shade', 'never', 'made', 'anybody', 'less', 'gay', ',', 'taylor', 'and', 'we', 'see', 'you', 'over', 'there', 'on', 'the', 'internet', ',', 'taylor', 'comparing', 'all', 'the', 'girls', 'who', 'are', 'killing', 'it', ',', 'taylor', 'but', 'we', 'figured', 'you', 'out', ',', 'taylor', 'we', 'all', 'know', 'now', 'we', 'all', 'got', 'crowns', ',', 'taylor', 'you', 'need', 'to', 'calm', 'down', ',', 'taylor', 'we', 'could', 'leave', 'the', 'christmas', 'lights', 'up', \"'til\", 'january', ',', 'taylor', '``', 'this', 'is', 'our', 'place', ',', 'we', 'make', 'the', 'rules', \"''\", ',', 'taylor', '``', 'and', 'there', \"'s\", 'a', 'dazzling', 'haze', ',', 'a', 'mysterious', 'way', 'about', 'you', ',', 'dear', \"''\", ',', 'taylor', 'have', 'i', 'known', 'you', 'twenty', 'seconds', 'or', 'twenty', 'years', '?', ',', 'taylor', 'can', 'i', 'go', 'where', 'you', 'go', '?', ',', 'taylor', 'can', 'we', 'always', 'be', 'this', 'close', 'forever', 'and', 'ever', '?', ',', 'taylor', '``', 'and', 'ah', ',', 'take', 'me', 'out', ',', 'and', 'take', 'me', 'home', \"''\", ',', 'taylor', '``', 'you', \"'re\", 'my', ',', 'my', ',', 'my', ',', 'my', 'lover', \"''\", ',', 'taylor', 'we', 'could', 'let', 'our', 'friends', 'crash', 'in', 'the', 'living', 'room', ',', 'taylor', '``', 'this', 'is', 'our', 'place', ',', 'we', 'make', 'the', 'call', \"''\", ',', 'taylor', 'and', 'i', \"'m\", 'highly', 'suspicious', 'that', 'everyone', 'who', 'sees', 'you', 'wants', 'you', ',', 'taylor', '``', 'i', \"'ve\", 'loved', 'you', 'three', 'summers', 'now', ',', 'honey', ',', 'but', 'i', 'want', \"'em\", 'all', \"''\", ',', 'taylor', '``', 'ladies', 'and', 'gentlemen', ',', 'will', 'you', 'please', 'stand', '?'], ['``', ',', 'taylor', 'with', 'every', 'guitar', 'string', 'scar', 'on', 'my', 'hand', ',', 'taylor', 'i', 'take', 'this', 'magnetic', 'force', 'of', 'a', 'man', 'to', 'be', 'my', 'lover', ',', 'taylor', 'my', 'heart', \"'s\", 'been', 'borrowed', 'and', 'yours', 'has', 'been', 'blue', ',', 'taylor', 'all', \"'s\", 'well', 'that', 'ends', 'well', 'to', 'end', 'up', 'with', 'you', ',', 'taylor', 'swear', 'to', 'be', 'overdramatic', 'and', 'true', 'to', 'my', 'lover', ',', 'taylor', 'and', 'you', \"'ll\", 'save', 'all', 'your', 'dirtiest', 'jokes', 'for', 'me', ',', 'taylor', '``', 'and', 'at', 'every', 'table', ',', 'i', \"'ll\", 'save', 'you', 'a', 'seat', ',', 'lover', \"''\", ',', 'taylor', 'shall', 'i', 'compare', 'thee', 'to', 'a', 'summer', \"'s\", 'day', '?', ',', 'shakes', 'thou', 'art', 'more', 'lovely', 'and', 'more', 'temperate', ':', ',shakes', '``', 'rough', 'winds', 'do', 'shake', 'the', 'darling', 'buds', 'of', 'may', ',', \"''\", ',', 'shakes', 'and', 'summer', \"'s\", 'lease', 'hath', 'all', 'too', 'short', 'a', 'date', ':', ',shakes', '``', 'sometime', 'too', 'hot', 'the', 'eye', 'of', 'heaven', 'shines', ',', \"''\", ',', 'shakes', 'and', 'often', 'is', 'his', 'gold', 'complexion', 'dimm', \"'d\", ';', ',', 'shakes', '``', 'and', 'every', 'fair', 'from', 'fair', 'sometime', 'declines', ',', \"''\", ',', 'shakes', 'by', 'chance', 'or', 'nature', \"'s\", 'changing', 'course', 'untrimm', \"'d\", ';', ',', 'shakes', 'but', 'thy', 'eternal', 'summer', 'shall', 'not', 'fade', ',', 'shakes', 'nor', 'lose', 'possession', 'of', 'that', 'fair', 'thou', 'owest', ';', ',', 'shakes', '``', 'nor', 'shall', 'death', 'brag', 'thou', \"wander'st\", 'in', 'his', 'shade', ',', \"''\", ',', 'shakes', 'when', 'in', 'eternal', 'lines', 'to', 'time', 'thou', 'growest', ':', ',shakes', '``', 'so', 'long', 'as', 'men', 'can', 'breathe', 'or', 'eyes', 'can', 'see', ',', \"''\", ',', 'shakes', 'so', 'long', 'lives', 'this', 'and', 'this', 'gives', 'life', 'to', 'thee.', ',', 'shakes', 'that', 'time', 'of', 'year', 'thou', 'mayst', 'in', 'me', 'behold', ',', 'shakes', '``', 'when', 'yellow', 'leaves', ',', 'or', 'none', ',', 'or', 'few', ',', 'do', 'hang', \"''\", ',', 'shakes', '``', 'upon', 'those', 'boughs', 'which', 'shake', 'against', 'the', 'cold', ',', \"''\", ',', 'shakes', '``', 'bare', 'ruin', \"'d\", 'choirs', ',', 'where', 'late', 'the', 'sweet', 'birds', 'sang', '.'], ['``', ',', 'shakes', 'in', 'me', 'thou', \"see'st\", 'the', 'twilight', 'of', 'such', 'day', ',', 'shakes', '``', 'as', 'after', 'sunset', 'fadeth', 'in', 'the', 'west', ',', \"''\", ',', 'shakes', '``', 'which', 'by', 'and', 'by', 'black', 'night', 'doth', 'take', 'away', ',', \"''\", ',', 'shakes', '``', 'death', \"'s\", 'second', 'self', ',', 'that', 'seals', 'up', 'all', 'in', 'rest', '.'], ['``', ',', 'shakes', 'in', 'me', 'thou', \"see'st\", 'the', 'glowing', 'of', 'such', 'fire', ',', 'shakes', '``', 'that', 'on', 'the', 'ashes', 'of', 'his', 'youth', 'doth', 'lie', ',', \"''\", ',', 'shakes', '``', 'as', 'the', 'death-bed', 'whereon', 'it', 'must', 'expire', ',', \"''\", ',', 'shakes', 'consum', \"'d\", 'with', 'that', 'which', 'it', 'was', 'nourish', \"'d\", 'by.', ',', 'shakes', '``', 'this', 'thou', \"perceiv'st\", ',', 'which', 'makes', 'thy', 'love', 'more', 'strong', ',', \"''\", ',', 'shakes', 'to', 'love', 'that', 'well', 'which', 'thou', 'must', 'leave', 'ere', 'long.', ',', 'shakes', 'let', 'me', 'not', 'to', 'the', 'marriage', 'of', 'true', 'minds', ',', 'shakes', 'admit', 'impediments', '.'], ['love', 'is', 'not', 'love', ',', 'shakes', '``', 'which', 'alters', 'when', 'it', 'alteration', 'finds', ',', \"''\", ',', 'shakes', 'or', 'bends', 'with', 'the', 'remover', 'to', 'remove.', ',', 'shakes', 'o', 'no', '!']]\n"
          ]
        }
      ]
    },
    {
      "cell_type": "code",
      "source": [
        "model = Word2Vec(tokens,vector_size=400)"
      ],
      "metadata": {
        "id": "aSaAhNa0_cq0"
      },
      "execution_count": 7,
      "outputs": []
    },
    {
      "cell_type": "code",
      "source": [
        "model.wv.key_to_index"
      ],
      "metadata": {
        "colab": {
          "base_uri": "https://localhost:8080/"
        },
        "id": "3pKDStoU_kej",
        "outputId": "27437586-4a6c-4060-be0c-d9bf94317c7a"
      },
      "execution_count": 8,
      "outputs": [
        {
          "output_type": "execute_result",
          "data": {
            "text/plain": [
              "{',': 0,\n",
              " '``': 1,\n",
              " 'taylor': 2,\n",
              " \"''\": 3,\n",
              " 'shakes': 4,\n",
              " 'the': 5,\n",
              " 'i': 6,\n",
              " 'and': 7,\n",
              " 'you': 8,\n",
              " 'to': 9,\n",
              " 'of': 10,\n",
              " \"'s\": 11,\n",
              " 'a': 12,\n",
              " 'that': 13,\n",
              " 'in': 14,\n",
              " 'my': 15,\n",
              " 'is': 16,\n",
              " 'it': 17,\n",
              " ';': 18,\n",
              " 'but': 19,\n",
              " 'be': 20,\n",
              " 'we': 21,\n",
              " 'on': 22,\n",
              " \"n't\": 23,\n",
              " 'me': 24,\n",
              " 'love': 25,\n",
              " 'do': 26,\n",
              " 'like': 27,\n",
              " 'shake': 28,\n",
              " 'with': 29,\n",
              " 'your': 30,\n",
              " 'all': 31,\n",
              " '.': 32,\n",
              " 'this': 33,\n",
              " 'for': 34,\n",
              " 'so': 35,\n",
              " 'not': 36,\n",
              " '?': 37,\n",
              " \"'d\": 38,\n",
              " \"'ll\": 39,\n",
              " 'as': 40,\n",
              " \"'m\": 41,\n",
              " \"'\": 42,\n",
              " 'mmm': 43,\n",
              " 'what': 44,\n",
              " 'can': 45,\n",
              " 'when': 46,\n",
              " 'know': 47,\n",
              " 'his': 48,\n",
              " 'see': 49,\n",
              " 'got': 50,\n",
              " 'go': 51,\n",
              " 'or': 52,\n",
              " 'just': 53,\n",
              " 'from': 54,\n",
              " 'no': 55,\n",
              " 'there': 56,\n",
              " 'gon': 57,\n",
              " 'na': 58,\n",
              " 'say': 59,\n",
              " 'he': 60,\n",
              " ':': 61,\n",
              " 'make': 62,\n",
              " 'which': 63,\n",
              " 'up': 64,\n",
              " 'out': 65,\n",
              " 'take': 66,\n",
              " 'thou': 67,\n",
              " 'more': 68,\n",
              " 'they': 69,\n",
              " 'our': 70,\n",
              " 'was': 71,\n",
              " 'if': 72,\n",
              " 'never': 73,\n",
              " 'their': 74,\n",
              " \"'re\": 75,\n",
              " 'have': 76,\n",
              " 'are': 77,\n",
              " 'said': 78,\n",
              " 'could': 79,\n",
              " 'play': 80,\n",
              " 'were': 81,\n",
              " 'fair': 82,\n",
              " 'eyes': 83,\n",
              " 'baby': 84,\n",
              " 'time': 85,\n",
              " 'then': 86,\n",
              " 'by': 87,\n",
              " ',shakes': 88,\n",
              " 'at': 89,\n",
              " 'her': 90,\n",
              " 'now': 91,\n",
              " 'hate': 92,\n",
              " \"'ve\": 93,\n",
              " 'come': 94,\n",
              " 'let': 95,\n",
              " 'break': 96,\n",
              " 'too': 97,\n",
              " 'cause': 98,\n",
              " 'sleep': 99,\n",
              " 'off': 100,\n",
              " 'where': 101,\n",
              " 'us': 102,\n",
              " 'whose': 103,\n",
              " 'death': 104,\n",
              " 'down': 105,\n",
              " 'oh': 106,\n",
              " 'shall': 107,\n",
              " 'every': 108,\n",
              " 'long': 109,\n",
              " 'people': 110,\n",
              " 'need': 111,\n",
              " 'who': 112,\n",
              " 'fake': 113,\n",
              " 'will': 114}"
            ]
          },
          "metadata": {},
          "execution_count": 8
        }
      ]
    },
    {
      "cell_type": "code",
      "source": [
        "model.wv.get_vector(\"love\", norm=True)"
      ],
      "metadata": {
        "colab": {
          "base_uri": "https://localhost:8080/"
        },
        "id": "NY51kHpF_oVL",
        "outputId": "889df611-6780-4f1f-c81d-633760a8b90e"
      },
      "execution_count": 9,
      "outputs": [
        {
          "output_type": "execute_result",
          "data": {
            "text/plain": [
              "array([-0.01244316, -0.00474818, -0.00226204,  0.07110666, -0.01293106,\n",
              "       -0.05858142,  0.01537734,  0.04405263,  0.00846672,  0.04501512,\n",
              "       -0.03430844, -0.05251516, -0.00454302,  0.02986043,  0.00792217,\n",
              "       -0.0402973 , -0.06446647,  0.04706138, -0.01737349, -0.10458827,\n",
              "        0.04513253, -0.0209356 , -0.00444568,  0.01638206, -0.0236436 ,\n",
              "        0.0581891 , -0.0251887 , -0.03999691, -0.09759444,  0.00049621,\n",
              "        0.07086493, -0.02136696,  0.07312963, -0.00674354, -0.08552502,\n",
              "        0.01412842,  0.0585466 , -0.04093691, -0.01351422, -0.06974103,\n",
              "       -0.09837921,  0.02411548, -0.05792809, -0.05431444,  0.07759665,\n",
              "       -0.06264051,  0.03448279, -0.01006333,  0.05433099,  0.0624646 ,\n",
              "        0.02363323, -0.01816585, -0.02740839, -0.06264055,  0.08153925,\n",
              "       -0.05015216, -0.01850825, -0.00759975, -0.06680286,  0.0099658 ,\n",
              "       -0.01194362, -0.02522598,  0.00268466, -0.05520289, -0.11807021,\n",
              "        0.01811071, -0.06527038,  0.09138719, -0.07361459,  0.1647909 ,\n",
              "       -0.0452909 , -0.01775342,  0.01880376, -0.01042079,  0.01709031,\n",
              "       -0.02834767,  0.01899007, -0.02578412, -0.05511561, -0.06964509,\n",
              "        0.01903229, -0.08552375, -0.04894852,  0.15011927, -0.08532739,\n",
              "        0.01214253, -0.00389591,  0.00356912, -0.04985946, -0.01725629,\n",
              "        0.03172194,  0.02538849,  0.00202997,  0.00065351,  0.11594157,\n",
              "        0.0668646 , -0.04811069,  0.02513065,  0.04902508,  0.02734394,\n",
              "       -0.03853873,  0.04933538,  0.04235991, -0.02478253, -0.09617211,\n",
              "       -0.0013522 ,  0.02410796,  0.06148582, -0.03980591, -0.05440868,\n",
              "       -0.0453308 ,  0.01307083, -0.05980833, -0.05477937,  0.02521269,\n",
              "       -0.02484778,  0.05881567, -0.02524145, -0.04488485, -0.02230967,\n",
              "       -0.00772225,  0.0697649 , -0.0004001 ,  0.00789073,  0.06801253,\n",
              "        0.01995972, -0.0920481 ,  0.0060336 ,  0.00746641,  0.01216132,\n",
              "        0.0574916 ,  0.06608396, -0.04329526, -0.02319765, -0.00131036,\n",
              "        0.03061255, -0.05296826, -0.00901253, -0.00817203, -0.06463756,\n",
              "        0.00120242, -0.09771645, -0.06527486, -0.01810446, -0.00130905,\n",
              "       -0.05557608, -0.01790285,  0.07160698, -0.03716084,  0.03861061,\n",
              "        0.02258539, -0.06153137, -0.04046036,  0.03021664, -0.09060193,\n",
              "        0.0012936 , -0.01619679, -0.01879817, -0.04984885,  0.03950808,\n",
              "        0.00126267, -0.01782809,  0.03370547, -0.01425841,  0.03997185,\n",
              "       -0.01457467,  0.10041653, -0.08960748, -0.07725341,  0.04276432,\n",
              "       -0.02978385,  0.0216266 , -0.03018108, -0.03905208,  0.04885547,\n",
              "        0.02627666, -0.04923291,  0.07208966,  0.05383714,  0.06397863,\n",
              "        0.02777638,  0.00786841,  0.01985371, -0.00423152,  0.04801731,\n",
              "        0.04781629,  0.0279658 ,  0.04287678,  0.00364126,  0.00599107,\n",
              "        0.06955266,  0.01033903,  0.01256623, -0.06264357,  0.01696097,\n",
              "        0.04891691, -0.00362502, -0.02702612, -0.01341849, -0.04185771,\n",
              "        0.05466934, -0.01130755, -0.04960962,  0.04976247,  0.06369552,\n",
              "        0.00084798,  0.05959191,  0.12321838, -0.06359324,  0.02047042,\n",
              "       -0.01667574,  0.00359588,  0.09528675,  0.0574343 , -0.03644791,\n",
              "       -0.02423562,  0.06249667, -0.0166116 , -0.01456204, -0.04624784,\n",
              "        0.03123668, -0.05896127, -0.01264924, -0.04721241, -0.00284458,\n",
              "       -0.09153149,  0.00719132, -0.06560093,  0.0038938 ,  0.0593872 ,\n",
              "        0.02533912,  0.05551611, -0.000969  ,  0.05966317,  0.00923618,\n",
              "        0.02874632, -0.00166361, -0.00752098,  0.01800474, -0.04275456,\n",
              "        0.06738263, -0.03594548,  0.01472522,  0.05281075,  0.02877877,\n",
              "        0.04874087, -0.02940302, -0.04800693, -0.00624343, -0.0304096 ,\n",
              "        0.03585466, -0.06186263, -0.03148522,  0.02507748, -0.00119884,\n",
              "        0.02739466, -0.03224779, -0.00985905, -0.0818857 , -0.01917408,\n",
              "       -0.00289151, -0.01950411, -0.00352528, -0.05734379, -0.0734854 ,\n",
              "       -0.04225208,  0.070342  ,  0.04959115, -0.06632993, -0.071306  ,\n",
              "        0.03975786, -0.02093258,  0.10037239,  0.00849673, -0.01408112,\n",
              "        0.09867497,  0.05424352, -0.05402016, -0.09226459,  0.08208993,\n",
              "       -0.02150552,  0.04233813, -0.03690568,  0.04526675, -0.02784236,\n",
              "       -0.03672701,  0.00365262,  0.07687986,  0.1270305 ,  0.00347021,\n",
              "        0.08535989,  0.06357852,  0.00977615,  0.11306263,  0.02404109,\n",
              "        0.0418252 ,  0.06967376, -0.0228089 ,  0.01991422, -0.00805781,\n",
              "       -0.01532842,  0.06784003,  0.04948656, -0.02793763, -0.01289637,\n",
              "       -0.07608557, -0.00273069,  0.05440436, -0.03378322, -0.058358  ,\n",
              "        0.05082843, -0.0761837 ,  0.0027932 , -0.00043796,  0.00878821,\n",
              "       -0.01694986,  0.02669272, -0.1576291 , -0.01421993, -0.05504039,\n",
              "        0.01090675,  0.03732561,  0.09336861, -0.13003455, -0.14907296,\n",
              "        0.01408419, -0.02941688, -0.0547814 , -0.08533616, -0.02363474,\n",
              "       -0.0286524 , -0.07674985,  0.06002987, -0.08012713,  0.00272943,\n",
              "        0.03208225, -0.01770145, -0.06229324, -0.04969519, -0.04604343,\n",
              "        0.04186763, -0.0346684 ,  0.06510791,  0.00152717,  0.05613594,\n",
              "        0.03646575,  0.00854951, -0.00488417, -0.01965302,  0.00660063,\n",
              "        0.03610259, -0.01518974,  0.03327235,  0.02671154, -0.04935693,\n",
              "        0.09122755,  0.05483146,  0.08558008,  0.02767851, -0.01666714,\n",
              "        0.02163172,  0.03555993, -0.05364275, -0.01502382, -0.06871419,\n",
              "        0.06450638, -0.01679851,  0.03741403, -0.0265309 , -0.03600886,\n",
              "       -0.06227188,  0.0296464 ,  0.04183368, -0.01936905,  0.03032353,\n",
              "        0.01986358, -0.06773046,  0.00669747, -0.03200407,  0.01108589,\n",
              "       -0.06094823,  0.01268984, -0.0466908 ,  0.07947858, -0.01233944,\n",
              "        0.02764567, -0.02055075,  0.02460217,  0.1117608 ,  0.02437303,\n",
              "       -0.01563232, -0.00987737, -0.11185891, -0.01228434,  0.07077304,\n",
              "       -0.0167802 ,  0.02838549, -0.04344622,  0.01249639, -0.01176099],\n",
              "      dtype=float32)"
            ]
          },
          "metadata": {},
          "execution_count": 9
        }
      ]
    },
    {
      "cell_type": "code",
      "source": [
        "model.wv.most_similar('love')"
      ],
      "metadata": {
        "colab": {
          "base_uri": "https://localhost:8080/"
        },
        "id": "rTPMALuY_6HU",
        "outputId": "2371a655-681b-47bc-ff70-adbf5c6df9d8"
      },
      "execution_count": 10,
      "outputs": [
        {
          "output_type": "execute_result",
          "data": {
            "text/plain": [
              "[(',', 0.9992855787277222),\n",
              " ('the', 0.9991974234580994),\n",
              " (\"''\", 0.9991714954376221),\n",
              " ('``', 0.9991647601127625),\n",
              " ('shakes', 0.9991487264633179),\n",
              " ('and', 0.9991065859794617),\n",
              " ('taylor', 0.9990973472595215),\n",
              " ('you', 0.9990931749343872),\n",
              " ('i', 0.999040961265564),\n",
              " ('that', 0.9990392327308655)]"
            ]
          },
          "metadata": {},
          "execution_count": 10
        }
      ]
    },
    {
      "cell_type": "code",
      "source": [
        "model.wv.get_vector(\"baby\", norm=True)"
      ],
      "metadata": {
        "colab": {
          "base_uri": "https://localhost:8080/"
        },
        "id": "ZsvJU6D5__At",
        "outputId": "6aaeecd4-1a0c-4465-bf52-bece4348c4b2"
      },
      "execution_count": 22,
      "outputs": [
        {
          "output_type": "execute_result",
          "data": {
            "text/plain": [
              "array([-0.01163442, -0.00149913, -0.0062196 ,  0.07109404, -0.01360983,\n",
              "       -0.05484423,  0.01330073,  0.05002466,  0.00992617,  0.04046572,\n",
              "       -0.03064542, -0.05187479, -0.00519226,  0.02947073,  0.00654973,\n",
              "       -0.04217781, -0.07082838,  0.04107527, -0.02143601, -0.10036758,\n",
              "        0.044134  , -0.02101821, -0.00419646,  0.02028404, -0.0242014 ,\n",
              "        0.0527554 , -0.02410161, -0.03896075, -0.09993555, -0.00108917,\n",
              "        0.07298011, -0.02018335,  0.07049435, -0.01288289, -0.08924879,\n",
              "        0.0139113 ,  0.05784003, -0.03907659, -0.01853936, -0.07200664,\n",
              "       -0.09712283,  0.02263428, -0.05554783, -0.05372822,  0.07747141,\n",
              "       -0.06852892,  0.0348012 , -0.00391475,  0.05883604,  0.05979948,\n",
              "        0.02888854, -0.01707758, -0.02782644, -0.06285546,  0.07825546,\n",
              "       -0.0461849 , -0.01516677, -0.0037682 , -0.06498522,  0.01018276,\n",
              "       -0.01341166, -0.02402634,  0.00039991, -0.05984943, -0.11706498,\n",
              "        0.02168069, -0.06165081,  0.08863923, -0.07090677,  0.16394287,\n",
              "       -0.04284707, -0.01544583,  0.01887433, -0.01326988,  0.01418212,\n",
              "       -0.02922038,  0.02209538, -0.02643444, -0.05795249, -0.06933625,\n",
              "        0.02034101, -0.08616293, -0.05137939,  0.14599903, -0.08625251,\n",
              "        0.00992596, -0.00546644, -0.00056805, -0.04599873, -0.01487728,\n",
              "        0.02746542,  0.02615001,  0.00517451,  0.00431064,  0.1151261 ,\n",
              "        0.07324313, -0.04811442,  0.02009573,  0.05141761,  0.03211142,\n",
              "       -0.03785674,  0.05529251,  0.0416958 , -0.02407363, -0.09076788,\n",
              "        0.00284557,  0.02924198,  0.06216176, -0.04298262, -0.05758838,\n",
              "       -0.04194713,  0.01556102, -0.05493613, -0.05021239,  0.02745669,\n",
              "       -0.02138238,  0.05919858, -0.02028299, -0.04725812, -0.01938912,\n",
              "       -0.0125995 ,  0.06746227,  0.00337515,  0.00518685,  0.06291267,\n",
              "        0.02298947, -0.09655574,  0.00921504,  0.00643905,  0.00826599,\n",
              "        0.0583449 ,  0.07144664, -0.0413443 , -0.02211242,  0.00276877,\n",
              "        0.02941069, -0.05000081, -0.00374082, -0.01108294, -0.0579121 ,\n",
              "        0.00052023, -0.09366693, -0.06157634, -0.01240603,  0.00098288,\n",
              "       -0.05640144, -0.01984484,  0.06719703, -0.04062585,  0.03483253,\n",
              "        0.0205148 , -0.06004563, -0.04211438,  0.03218361, -0.09234334,\n",
              "        0.00108819, -0.01668411, -0.02226641, -0.0494635 ,  0.04266262,\n",
              "        0.0010999 , -0.0186949 ,  0.03118133, -0.01496762,  0.0362669 ,\n",
              "       -0.01752898,  0.09947886, -0.0917751 , -0.07988393,  0.03996997,\n",
              "       -0.02734338,  0.0245234 , -0.03087159, -0.03725815,  0.0487203 ,\n",
              "        0.02136845, -0.05062212,  0.07581405,  0.05045329,  0.05986871,\n",
              "        0.02916359,  0.00681467,  0.01525554, -0.00572405,  0.053185  ,\n",
              "        0.04516096,  0.02967654,  0.04111601,  0.0093821 ,  0.00345291,\n",
              "        0.07030895,  0.01066554,  0.01124438, -0.06911588,  0.01959916,\n",
              "        0.05132576, -0.00773018, -0.03365824, -0.00842464, -0.04118561,\n",
              "        0.05517843, -0.01386287, -0.04733676,  0.05175475,  0.05828492,\n",
              "        0.00769205,  0.05650342,  0.12068814, -0.06417414,  0.02275739,\n",
              "       -0.01000885,  0.00156983,  0.09764636,  0.05702021, -0.03951295,\n",
              "       -0.02388454,  0.06821334, -0.02256576, -0.01337744, -0.05086368,\n",
              "        0.03809335, -0.05430142, -0.017435  , -0.04716729, -0.0044074 ,\n",
              "       -0.09354635,  0.00264441, -0.06642393,  0.00581767,  0.06431394,\n",
              "        0.02503181,  0.05384819, -0.00219307,  0.05984033,  0.01205619,\n",
              "        0.02933867, -0.00022068, -0.01364921,  0.01611576, -0.04521711,\n",
              "        0.07255285, -0.03727738,  0.02008858,  0.05269441,  0.03476235,\n",
              "        0.05050172, -0.03245828, -0.04588062, -0.00293226, -0.03138143,\n",
              "        0.03344301, -0.05771882, -0.03135914,  0.02417075,  0.00303164,\n",
              "        0.02354145, -0.03445153, -0.01299097, -0.08062045, -0.01537347,\n",
              "       -0.0033043 , -0.01559038, -0.00405213, -0.06139696, -0.07434941,\n",
              "       -0.04149247,  0.06411925,  0.0489835 , -0.06745595, -0.07293979,\n",
              "        0.04121966, -0.02649922,  0.09829583,  0.00823728, -0.01934897,\n",
              "        0.09725723,  0.05184629, -0.05323604, -0.0997977 ,  0.08847067,\n",
              "       -0.01653491,  0.04263216, -0.03334259,  0.05160866, -0.02925493,\n",
              "       -0.03588482, -0.00291223,  0.07681073,  0.12259028,  0.00677374,\n",
              "        0.08864547,  0.06072073,  0.00545436,  0.10723781,  0.02587506,\n",
              "        0.03766041,  0.06748138, -0.02582452,  0.02028334, -0.0091056 ,\n",
              "       -0.01767351,  0.07275152,  0.04399758, -0.0294654 , -0.01008588,\n",
              "       -0.07624272, -0.00441313,  0.05782969, -0.03082999, -0.05984059,\n",
              "        0.05435364, -0.07704297,  0.00279378,  0.00068278,  0.00893935,\n",
              "       -0.0167097 ,  0.02483943, -0.15986316, -0.01685627, -0.05813942,\n",
              "        0.00796006,  0.03594796,  0.09151711, -0.12728299, -0.14933085,\n",
              "        0.00818952, -0.03154266, -0.05532452, -0.08708714, -0.01778663,\n",
              "       -0.03283233, -0.07517283,  0.05939392, -0.08154372, -0.00274447,\n",
              "        0.03226966, -0.0195974 , -0.06613801, -0.04529019, -0.04035608,\n",
              "        0.04582289, -0.03877465,  0.06683587,  0.00537745,  0.05760639,\n",
              "        0.0303992 ,  0.01408186, -0.00545295, -0.01945517,  0.00420656,\n",
              "        0.03300238, -0.01784239,  0.03646366,  0.02674479, -0.04799647,\n",
              "        0.09257461,  0.06047866,  0.08757989,  0.02461317, -0.01508046,\n",
              "        0.02148866,  0.03745072, -0.05258001, -0.01724631, -0.06778759,\n",
              "        0.06357685, -0.01401008,  0.0424573 , -0.02446461, -0.03505495,\n",
              "       -0.0566198 ,  0.03268272,  0.04336281, -0.01463228,  0.02639102,\n",
              "        0.01712894, -0.06722264,  0.00289442, -0.03119389,  0.01044761,\n",
              "       -0.063843  ,  0.00751287, -0.04373803,  0.08529375, -0.01527352,\n",
              "        0.03084685, -0.02489769,  0.02283231,  0.10647169,  0.02741292,\n",
              "       -0.01032849, -0.01408228, -0.10713117, -0.00709393,  0.07273232,\n",
              "       -0.01451466,  0.03064642, -0.04555197,  0.01357669, -0.01482717],\n",
              "      dtype=float32)"
            ]
          },
          "metadata": {},
          "execution_count": 22
        }
      ]
    },
    {
      "cell_type": "code",
      "source": [
        "model.wv.most_similar('baby')"
      ],
      "metadata": {
        "colab": {
          "base_uri": "https://localhost:8080/"
        },
        "id": "-cIb2mitARAP",
        "outputId": "7cc930ed-1bd8-4320-c442-74a44528a26e"
      },
      "execution_count": 12,
      "outputs": [
        {
          "output_type": "execute_result",
          "data": {
            "text/plain": [
              "[(',', 0.9985888004302979),\n",
              " ('the', 0.9984907507896423),\n",
              " (\"''\", 0.9984638094902039),\n",
              " ('``', 0.9984490871429443),\n",
              " ('taylor', 0.9984366297721863),\n",
              " ('you', 0.9984309077262878),\n",
              " ('i', 0.9984195828437805),\n",
              " ('shakes', 0.9984118938446045),\n",
              " ('and', 0.998359203338623),\n",
              " ('a', 0.9983288645744324)]"
            ]
          },
          "metadata": {},
          "execution_count": 12
        }
      ]
    },
    {
      "cell_type": "code",
      "source": [
        "model.wv.similarity('will', 'love')"
      ],
      "metadata": {
        "colab": {
          "base_uri": "https://localhost:8080/"
        },
        "id": "PI61O1ZqAUsO",
        "outputId": "c8101fb6-923c-40d5-f1e4-ef26947b1e8a"
      },
      "execution_count": 14,
      "outputs": [
        {
          "output_type": "execute_result",
          "data": {
            "text/plain": [
              "0.9962447"
            ]
          },
          "metadata": {},
          "execution_count": 14
        }
      ]
    },
    {
      "cell_type": "code",
      "source": [
        "model.wv.similarity('taylor', 'love')"
      ],
      "metadata": {
        "colab": {
          "base_uri": "https://localhost:8080/"
        },
        "id": "iqcO7_pnEpsj",
        "outputId": "cd18ffcc-7bea-4529-9c8c-32a7b2bc5c6a"
      },
      "execution_count": 30,
      "outputs": [
        {
          "output_type": "execute_result",
          "data": {
            "text/plain": [
              "0.9990973"
            ]
          },
          "metadata": {},
          "execution_count": 30
        }
      ]
    },
    {
      "cell_type": "code",
      "source": [
        "model.wv.similarity('baby', 'love')"
      ],
      "metadata": {
        "colab": {
          "base_uri": "https://localhost:8080/"
        },
        "id": "4t3sN8E2AzFQ",
        "outputId": "2686477f-d936-46ac-f76d-9488dbbb6bf1"
      },
      "execution_count": 15,
      "outputs": [
        {
          "output_type": "execute_result",
          "data": {
            "text/plain": [
              "0.99791527"
            ]
          },
          "metadata": {},
          "execution_count": 15
        }
      ]
    },
    {
      "cell_type": "code",
      "source": [
        "model.wv.similarity('thou', 'taylor')"
      ],
      "metadata": {
        "colab": {
          "base_uri": "https://localhost:8080/"
        },
        "id": "RowsM_JuA2Ju",
        "outputId": "0e434510-d5f7-44b6-caa0-beeb5e0e7453"
      },
      "execution_count": 20,
      "outputs": [
        {
          "output_type": "execute_result",
          "data": {
            "text/plain": [
              "0.9985268"
            ]
          },
          "metadata": {},
          "execution_count": 20
        }
      ]
    },
    {
      "cell_type": "code",
      "source": [
        "model.wv.get_vector(\"hate\", norm=True)"
      ],
      "metadata": {
        "colab": {
          "base_uri": "https://localhost:8080/"
        },
        "id": "0zB_XKfKCHnv",
        "outputId": "7fdf7454-128c-4d49-deee-2ef07225c905"
      },
      "execution_count": 23,
      "outputs": [
        {
          "output_type": "execute_result",
          "data": {
            "text/plain": [
              "array([-1.37987863e-02, -2.58264551e-03,  3.41834209e-04,  7.04631135e-02,\n",
              "       -1.40270311e-02, -5.94077446e-02,  1.76857859e-02,  4.85377163e-02,\n",
              "        1.15830153e-02,  4.75967340e-02, -3.45395096e-02, -5.68195358e-02,\n",
              "       -3.97316646e-03,  2.78746709e-02,  5.82332630e-03, -4.27201129e-02,\n",
              "       -7.07092360e-02,  4.53368239e-02, -1.76689010e-02, -1.03365928e-01,\n",
              "        4.46406528e-02, -2.23226324e-02, -2.83306884e-03,  1.64264217e-02,\n",
              "       -2.47545317e-02,  5.77206276e-02, -2.38405243e-02, -4.06019576e-02,\n",
              "       -1.01155572e-01,  6.07350934e-03,  7.26282299e-02, -2.17171125e-02,\n",
              "        7.35199526e-02, -1.08701093e-02, -8.56019631e-02,  1.15968399e-02,\n",
              "        5.95839806e-02, -4.11794558e-02, -1.02721006e-02, -6.91789985e-02,\n",
              "       -1.02114886e-01,  2.07576547e-02, -5.50272837e-02, -5.59224673e-02,\n",
              "        7.76021630e-02, -6.81997612e-02,  3.16179208e-02, -4.62121470e-03,\n",
              "        5.85112758e-02,  6.31545112e-02,  2.54274867e-02, -2.17810702e-02,\n",
              "       -3.03411409e-02, -5.84668517e-02,  8.13457519e-02, -4.82629128e-02,\n",
              "       -1.90683473e-02, -5.44657744e-03, -6.66909069e-02,  8.26492440e-03,\n",
              "       -6.58400031e-03, -2.08935235e-02,  4.67335666e-03, -5.21905720e-02,\n",
              "       -1.13229908e-01,  1.94277428e-02, -6.48863837e-02,  9.20534879e-02,\n",
              "       -7.17134774e-02,  1.63216978e-01, -4.56855670e-02, -1.99568849e-02,\n",
              "        2.12983228e-02, -1.49498004e-02,  1.11866649e-02, -2.79959925e-02,\n",
              "        2.37664022e-02, -2.63431910e-02, -5.46395332e-02, -7.12132901e-02,\n",
              "        2.16496494e-02, -8.48989636e-02, -4.47149090e-02,  1.45194814e-01,\n",
              "       -8.64529163e-02,  8.54313467e-03, -3.19045014e-03,  4.03133221e-03,\n",
              "       -4.96741533e-02, -1.66523196e-02,  3.47533822e-02,  2.73930132e-02,\n",
              "       -2.12766696e-03,  4.52023698e-03,  1.19880006e-01,  7.29598105e-02,\n",
              "       -4.41151485e-02,  2.06187144e-02,  5.23345694e-02,  2.84825228e-02,\n",
              "       -4.44970727e-02,  5.08769490e-02,  4.26019132e-02, -2.75772382e-02,\n",
              "       -9.01257992e-02, -6.84157363e-04,  2.97975764e-02,  6.62216544e-02,\n",
              "       -3.90649736e-02, -5.40500581e-02, -4.02728021e-02,  1.09150270e-02,\n",
              "       -5.80234602e-02, -5.26937358e-02,  2.88942773e-02, -2.45400015e-02,\n",
              "        5.51382191e-02, -2.39875615e-02, -4.85923588e-02, -2.16941983e-02,\n",
              "       -8.66245572e-03,  6.59396872e-02,  1.41150190e-03,  5.93831437e-03,\n",
              "        6.70866445e-02,  2.13693138e-02, -9.33062434e-02,  3.55617702e-03,\n",
              "        6.57149637e-03,  1.32607296e-02,  6.12242036e-02,  6.37345836e-02,\n",
              "       -4.60511409e-02, -2.96272729e-02, -4.32143128e-03,  2.78961733e-02,\n",
              "       -4.99143079e-02, -1.02592511e-02, -1.06583256e-02, -5.94262145e-02,\n",
              "        1.37038773e-03, -9.18395147e-02, -6.39320612e-02, -1.86761227e-02,\n",
              "       -1.00220076e-03, -5.65721840e-02, -1.27773890e-02,  6.99125901e-02,\n",
              "       -3.43751311e-02,  3.87406908e-02,  2.48013884e-02, -6.63976371e-02,\n",
              "       -4.30542044e-02,  3.25488076e-02, -8.59950483e-02, -2.55149556e-03,\n",
              "       -1.85020082e-02, -2.35254336e-02, -5.25812842e-02,  3.91443931e-02,\n",
              "        2.02880648e-04, -1.91571396e-02,  3.39488089e-02, -1.15701314e-02,\n",
              "        4.29500975e-02, -1.11186607e-02,  9.88082290e-02, -9.28163975e-02,\n",
              "       -8.15951675e-02,  3.95874605e-02, -2.83052195e-02,  2.40612011e-02,\n",
              "       -3.62341627e-02, -4.08751145e-02,  5.37763461e-02,  2.39874218e-02,\n",
              "       -5.47725223e-02,  7.04806522e-02,  5.58935292e-02,  6.57044500e-02,\n",
              "        2.93252934e-02,  7.81649724e-03,  1.30679850e-02, -6.20159495e-04,\n",
              "        4.87335064e-02,  4.83732447e-02,  2.93492787e-02,  4.21696790e-02,\n",
              "        4.43743449e-03,  8.70661903e-03,  7.35412538e-02,  9.53270029e-03,\n",
              "        1.07717067e-02, -6.87725917e-02,  2.29574572e-02,  4.85439785e-02,\n",
              "       -1.13514881e-03, -2.89288554e-02, -1.15591651e-02, -4.25641723e-02,\n",
              "        5.13453707e-02, -9.24199354e-03, -5.17873354e-02,  5.05553447e-02,\n",
              "        5.84143773e-02,  5.00922464e-03,  5.67597225e-02,  1.20551117e-01,\n",
              "       -6.26458079e-02,  1.76587757e-02, -1.55663546e-02,  4.77804011e-03,\n",
              "        9.98424739e-02,  5.90838604e-02, -3.97850275e-02, -2.03148834e-02,\n",
              "        6.08074963e-02, -1.86176188e-02, -9.27414093e-03, -4.76329960e-02,\n",
              "        3.08183245e-02, -5.76851927e-02, -1.95478685e-02, -4.75042313e-02,\n",
              "       -1.78136548e-03, -9.15357843e-02,  9.22396779e-03, -6.25603721e-02,\n",
              "        9.65250283e-03,  6.22001961e-02,  2.26138122e-02,  5.54821528e-02,\n",
              "       -1.07949294e-04,  6.10703900e-02,  4.90035163e-03,  2.86607165e-02,\n",
              "       -3.02468217e-03, -8.19649734e-03,  1.64140407e-02, -4.24953476e-02,\n",
              "        6.67728409e-02, -3.07102054e-02,  1.87937655e-02,  5.35409637e-02,\n",
              "        2.94624381e-02,  4.44016606e-02, -3.51117738e-02, -4.98689413e-02,\n",
              "       -8.65869503e-03, -3.68535295e-02,  3.40866707e-02, -6.21371195e-02,\n",
              "       -3.13777104e-02,  1.87203325e-02, -5.06900810e-03,  2.80196611e-02,\n",
              "       -3.35032418e-02, -1.38705727e-02, -8.02522153e-02, -2.00626887e-02,\n",
              "       -7.46483356e-03, -1.67965740e-02, -3.79175181e-03, -5.70266545e-02,\n",
              "       -7.79680610e-02, -4.15896438e-02,  6.52878061e-02,  5.07180281e-02,\n",
              "       -6.95958287e-02, -7.16856420e-02,  3.77321318e-02, -2.71608718e-02,\n",
              "        9.78012085e-02,  4.71087312e-03, -1.99960452e-02,  1.00880884e-01,\n",
              "        4.77918535e-02, -5.40264212e-02, -9.46107581e-02,  8.73396024e-02,\n",
              "       -1.72859374e-02,  3.65273878e-02, -3.39773521e-02,  4.81841117e-02,\n",
              "       -3.00964378e-02, -3.34349237e-02,  3.83146154e-03,  7.72986785e-02,\n",
              "        1.24273300e-01,  3.49762524e-03,  8.76517221e-02,  5.85271344e-02,\n",
              "        4.02502762e-03,  1.08931400e-01,  2.51240153e-02,  4.28007543e-02,\n",
              "        6.85579106e-02, -2.04180460e-02,  1.53242322e-02, -5.28552942e-03,\n",
              "       -1.96566209e-02,  6.85725883e-02,  4.97655682e-02, -2.77487971e-02,\n",
              "       -1.64639447e-02, -7.65671209e-02, -1.77082221e-03,  5.41053265e-02,\n",
              "       -3.41711789e-02, -5.18112555e-02,  4.81227227e-02, -7.28721991e-02,\n",
              "       -2.24337983e-03,  1.09283940e-03,  8.60301498e-03, -1.99367795e-02,\n",
              "        2.42682416e-02, -1.52271405e-01, -1.46326376e-02, -5.69227226e-02,\n",
              "        5.07591898e-03,  3.52365151e-02,  9.70979258e-02, -1.32512316e-01,\n",
              "       -1.44772395e-01,  1.05298664e-02, -3.12365070e-02, -4.91604209e-02,\n",
              "       -8.79897028e-02, -1.81851480e-02, -3.47673930e-02, -7.22914338e-02,\n",
              "        6.01478778e-02, -7.73313791e-02,  3.02249729e-03,  3.85710970e-02,\n",
              "       -2.07639951e-02, -6.57263249e-02, -5.04525341e-02, -4.40557040e-02,\n",
              "        4.77996208e-02, -3.64552513e-02,  6.53639659e-02,  1.75393128e-03,\n",
              "        6.17949590e-02,  3.57852355e-02,  1.18878121e-02, -5.96990576e-03,\n",
              "       -1.96056627e-02,  2.34766863e-03,  3.28990407e-02, -1.78363435e-02,\n",
              "        3.27391662e-02,  3.20593491e-02, -4.72379290e-02,  8.69905278e-02,\n",
              "        6.14427924e-02,  8.55165571e-02,  2.76431497e-02, -1.61757022e-02,\n",
              "        2.52274871e-02,  3.84912938e-02, -5.30396327e-02, -1.71339642e-02,\n",
              "       -6.98771849e-02,  6.64251149e-02, -1.70085039e-02,  4.30690721e-02,\n",
              "       -3.12342905e-02, -3.12198829e-02, -5.80745675e-02,  2.95303222e-02,\n",
              "        4.69924733e-02, -1.88772175e-02,  2.99553853e-02,  1.78070311e-02,\n",
              "       -6.43799752e-02,  3.71161546e-03, -3.62776034e-02,  5.08350786e-03,\n",
              "       -5.86426929e-02,  1.14785898e-02, -4.89393137e-02,  8.10441375e-02,\n",
              "       -1.25914495e-02,  2.85955276e-02, -2.19025705e-02,  2.44988129e-02,\n",
              "        1.07193008e-01,  2.83075813e-02, -1.12039754e-02, -9.08723101e-03,\n",
              "       -1.08511090e-01, -8.64819344e-03,  6.96271583e-02, -1.44181671e-02,\n",
              "        3.11088990e-02, -4.27085124e-02,  1.31625645e-02, -1.27217509e-02],\n",
              "      dtype=float32)"
            ]
          },
          "metadata": {},
          "execution_count": 23
        }
      ]
    },
    {
      "cell_type": "code",
      "source": [
        "model.wv.similarity('thou', 'baby')"
      ],
      "metadata": {
        "colab": {
          "base_uri": "https://localhost:8080/"
        },
        "id": "YxIUPhmFCPkt",
        "outputId": "a0efd6d2-6e09-40ed-d05d-30cf25855131"
      },
      "execution_count": 26,
      "outputs": [
        {
          "output_type": "execute_result",
          "data": {
            "text/plain": [
              "0.9972226"
            ]
          },
          "metadata": {},
          "execution_count": 26
        }
      ]
    },
    {
      "cell_type": "code",
      "source": [
        "model.wv.similarity('thou', 'mmm')"
      ],
      "metadata": {
        "colab": {
          "base_uri": "https://localhost:8080/"
        },
        "id": "kzavX2cNC5Wz",
        "outputId": "c36a57e5-063e-4512-d9f9-a48bedf3fdc3"
      },
      "execution_count": 27,
      "outputs": [
        {
          "output_type": "execute_result",
          "data": {
            "text/plain": [
              "0.99817157"
            ]
          },
          "metadata": {},
          "execution_count": 27
        }
      ]
    },
    {
      "cell_type": "code",
      "source": [
        "model.wv.similarity('will', 'thou')"
      ],
      "metadata": {
        "colab": {
          "base_uri": "https://localhost:8080/"
        },
        "id": "5BGJSbQiC-s5",
        "outputId": "d4e382e4-ce62-43a8-fff2-4ecf72910cae"
      },
      "execution_count": 32,
      "outputs": [
        {
          "output_type": "execute_result",
          "data": {
            "text/plain": [
              "0.99591875"
            ]
          },
          "metadata": {},
          "execution_count": 32
        }
      ]
    },
    {
      "cell_type": "code",
      "source": [
        "model.wv.most_similar('taylor')"
      ],
      "metadata": {
        "colab": {
          "base_uri": "https://localhost:8080/"
        },
        "id": "ws_EIxJPFm9n",
        "outputId": "30eaaac6-6391-4bed-8d7c-9ed1a2421502"
      },
      "execution_count": 33,
      "outputs": [
        {
          "output_type": "execute_result",
          "data": {
            "text/plain": [
              "[(',', 0.9997791051864624),\n",
              " (\"''\", 0.9996920824050903),\n",
              " ('``', 0.9996811151504517),\n",
              " ('the', 0.9996777176856995),\n",
              " ('you', 0.9996488094329834),\n",
              " ('shakes', 0.999617338180542),\n",
              " ('and', 0.999591588973999),\n",
              " ('i', 0.9995555281639099),\n",
              " ('that', 0.9995548725128174),\n",
              " ('a', 0.9995308518409729)]"
            ]
          },
          "metadata": {},
          "execution_count": 33
        }
      ]
    },
    {
      "cell_type": "code",
      "source": [
        "model.wv.most_similar('fake')"
      ],
      "metadata": {
        "colab": {
          "base_uri": "https://localhost:8080/"
        },
        "id": "MtkrKIk0F1iS",
        "outputId": "02e7c410-d0f5-49af-e1ca-742c9a1f9ea8"
      },
      "execution_count": 34,
      "outputs": [
        {
          "output_type": "execute_result",
          "data": {
            "text/plain": [
              "[(',', 0.9980595707893372),\n",
              " ('the', 0.9980000853538513),\n",
              " ('``', 0.9979833364486694),\n",
              " (\"''\", 0.9979669451713562),\n",
              " ('you', 0.9979196190834045),\n",
              " ('shakes', 0.997901439666748),\n",
              " ('that', 0.9978917837142944),\n",
              " ('taylor', 0.9978893995285034),\n",
              " ('i', 0.9978635907173157),\n",
              " ('but', 0.9978451728820801)]"
            ]
          },
          "metadata": {},
          "execution_count": 34
        }
      ]
    },
    {
      "cell_type": "code",
      "source": [
        "model.wv.most_similar('people')"
      ],
      "metadata": {
        "colab": {
          "base_uri": "https://localhost:8080/"
        },
        "id": "cnJreN8rGCBV",
        "outputId": "ec274f82-1c55-4431-df20-58fc1fea524b"
      },
      "execution_count": 35,
      "outputs": [
        {
          "output_type": "execute_result",
          "data": {
            "text/plain": [
              "[('``', 0.9978945255279541),\n",
              " (',', 0.9978510737419128),\n",
              " ('shakes', 0.9977887272834778),\n",
              " ('taylor', 0.9977452754974365),\n",
              " (\"''\", 0.9977203607559204),\n",
              " ('the', 0.9976797103881836),\n",
              " ('i', 0.9976478219032288),\n",
              " ('a', 0.9976374506950378),\n",
              " ('mmm', 0.9976281523704529),\n",
              " ('you', 0.9976206421852112)]"
            ]
          },
          "metadata": {},
          "execution_count": 35
        }
      ]
    },
    {
      "cell_type": "code",
      "source": [
        "model.wv.most_similar('her')"
      ],
      "metadata": {
        "colab": {
          "base_uri": "https://localhost:8080/"
        },
        "id": "0JjgUGRKGe8d",
        "outputId": "1d1b13b2-33d4-4181-f043-07e2ac47d9e5"
      },
      "execution_count": 38,
      "outputs": [
        {
          "output_type": "execute_result",
          "data": {
            "text/plain": [
              "[(',', 0.998116672039032),\n",
              " ('``', 0.998040497303009),\n",
              " ('and', 0.9980130195617676),\n",
              " ('you', 0.9980091452598572),\n",
              " (\"''\", 0.9979930520057678),\n",
              " ('the', 0.9979685544967651),\n",
              " ('taylor', 0.9979426860809326),\n",
              " ('i', 0.9978976249694824),\n",
              " ('that', 0.997887909412384),\n",
              " ('shakes', 0.9978725910186768)]"
            ]
          },
          "metadata": {},
          "execution_count": 38
        }
      ]
    },
    {
      "cell_type": "code",
      "source": [
        "model.wv.most_similar('his')"
      ],
      "metadata": {
        "colab": {
          "base_uri": "https://localhost:8080/"
        },
        "id": "XxMkVzzzGoW6",
        "outputId": "63e79aa8-4539-449f-f6f4-0415306d616b"
      },
      "execution_count": 40,
      "outputs": [
        {
          "output_type": "execute_result",
          "data": {
            "text/plain": [
              "[(',', 0.9982366561889648),\n",
              " ('``', 0.9982103705406189),\n",
              " ('shakes', 0.9982041716575623),\n",
              " (\"''\", 0.9981958866119385),\n",
              " ('taylor', 0.9981184005737305),\n",
              " ('and', 0.998102605342865),\n",
              " ('the', 0.9980757832527161),\n",
              " ('you', 0.9980562329292297),\n",
              " ('i', 0.9979768395423889),\n",
              " ('a', 0.9979667067527771)]"
            ]
          },
          "metadata": {},
          "execution_count": 40
        }
      ]
    },
    {
      "cell_type": "code",
      "source": [
        "model.wv.most_similar('their')"
      ],
      "metadata": {
        "colab": {
          "base_uri": "https://localhost:8080/"
        },
        "id": "6kmgCzCuHegw",
        "outputId": "35eac22e-dfed-41ec-8195-ccc61a83b6be"
      },
      "execution_count": 46,
      "outputs": [
        {
          "output_type": "execute_result",
          "data": {
            "text/plain": [
              "[(',', 0.9991352558135986),\n",
              " ('``', 0.9990623593330383),\n",
              " ('shakes', 0.9990174770355225),\n",
              " (\"''\", 0.9990147352218628),\n",
              " ('the', 0.9989834427833557),\n",
              " ('and', 0.9989603757858276),\n",
              " ('taylor', 0.9989443421363831),\n",
              " ('you', 0.9989287257194519),\n",
              " ('i', 0.9989184141159058),\n",
              " (\"'s\", 0.9988483190536499)]"
            ]
          },
          "metadata": {},
          "execution_count": 46
        }
      ]
    },
    {
      "cell_type": "code",
      "source": [
        "model.wv.most_similar('play')"
      ],
      "metadata": {
        "colab": {
          "base_uri": "https://localhost:8080/"
        },
        "id": "ww6ARy3GH3Ly",
        "outputId": "7a7fa111-3e92-439e-9564-7e1d10404c67"
      },
      "execution_count": 48,
      "outputs": [
        {
          "output_type": "execute_result",
          "data": {
            "text/plain": [
              "[(',', 0.9980928301811218),\n",
              " ('the', 0.9979978203773499),\n",
              " (\"''\", 0.9979841113090515),\n",
              " ('taylor', 0.9979763031005859),\n",
              " ('you', 0.9979591965675354),\n",
              " ('and', 0.9979342222213745),\n",
              " ('``', 0.9978725910186768),\n",
              " ('but', 0.9978664517402649),\n",
              " ('i', 0.9978252053260803),\n",
              " ('to', 0.9978216290473938)]"
            ]
          },
          "metadata": {},
          "execution_count": 48
        }
      ]
    }
  ]
}