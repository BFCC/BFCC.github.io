{
  "nbformat": 4,
  "nbformat_minor": 0,
  "metadata": {
    "colab": {
      "provenance": [],
      "authorship_tag": "ABX9TyOuG2znoIU29DekPSAQTfGx",
      "include_colab_link": true
    },
    "kernelspec": {
      "name": "python3",
      "display_name": "Python 3"
    },
    "language_info": {
      "name": "python"
    }
  },
  "cells": [
    {
      "cell_type": "markdown",
      "metadata": {
        "id": "view-in-github",
        "colab_type": "text"
      },
      "source": [
        "<a href=\"https://colab.research.google.com/github/BFCC/BFCC.github.io/blob/main/Calabresi_Shakespeare_%26_LLMs.ipynb\" target=\"_parent\"><img src=\"https://colab.research.google.com/assets/colab-badge.svg\" alt=\"Open In Colab\"/></a>"
      ]
    },
    {
      "cell_type": "code",
      "execution_count": 1,
      "metadata": {
        "id": "jtmbDXNQ-jsQ"
      },
      "outputs": [],
      "source": [
        "import re\n",
        "import nltk\n",
        "import numpy as np\n",
        "import matplotlib.pyplot as plt\n",
        "import random\n",
        "\n",
        "from gensim.models import Word2Vec\n",
        "\n",
        "from sklearn.decomposition import IncrementalPCA\n",
        "from sklearn.manifold import TSNE"
      ]
    },
    {
      "cell_type": "code",
      "source": [
        "file = open(\"input.txt\", 'r').read()"
      ],
      "metadata": {
        "id": "RXBi-YH0CGo7"
      },
      "execution_count": 5,
      "outputs": []
    },
    {
      "cell_type": "code",
      "source": [
        "for char in [\"\\n\", \"\\r\", \"\\d\", \"\\t\"]:\n",
        "    file = file.replace(char, \" \")"
      ],
      "metadata": {
        "id": "gm_lhsAQCORX"
      },
      "execution_count": 6,
      "outputs": []
    },
    {
      "cell_type": "code",
      "source": [
        "print(file[:100])"
      ],
      "metadata": {
        "colab": {
          "base_uri": "https://localhost:8080/"
        },
        "id": "DAmyMjjkCTpb",
        "outputId": "e6775612-a787-469c-b424-559bc22ab94c"
      },
      "execution_count": 7,
      "outputs": [
        {
          "output_type": "stream",
          "name": "stdout",
          "text": [
            "First Citizen: Before we proceed any further, hear me speak.  All: Speak, speak.  First Citizen: You\n"
          ]
        }
      ]
    },
    {
      "cell_type": "code",
      "source": [
        "import nltk\n",
        "nltk.download('punkt')"
      ],
      "metadata": {
        "colab": {
          "base_uri": "https://localhost:8080/"
        },
        "id": "A5DKQKnUC39t",
        "outputId": "66c86a86-dd58-4e1b-b7fa-5ecfbaec7ced"
      },
      "execution_count": 8,
      "outputs": [
        {
          "output_type": "stream",
          "name": "stderr",
          "text": [
            "[nltk_data] Downloading package punkt to /root/nltk_data...\n",
            "[nltk_data]   Unzipping tokenizers/punkt.zip.\n"
          ]
        },
        {
          "output_type": "execute_result",
          "data": {
            "text/plain": [
              "True"
            ]
          },
          "metadata": {},
          "execution_count": 8
        }
      ]
    },
    {
      "cell_type": "code",
      "source": [
        "def sample_clean_text(text: str):\n",
        "    # step 1: tokenize the text into sentences\n",
        "    sentences = nltk.sent_tokenize(text)\n",
        "\n",
        "    # step 2: tokenize each sentence into words\n",
        "    tokenized_sentences = [nltk.word_tokenize(sent) for sent in sentences]\n",
        "\n",
        "    # step 3: convert each word to lowercase\n",
        "    tokenized_text = [[word.lower() for word in sent] for sent in tokenized_sentences]\n",
        "\n",
        "    # return your tokens\n",
        "    return tokenized_text\n",
        "\n",
        "# call the function\n",
        "tokens = sample_clean_text(text = file)\n",
        "\n",
        "# check\n",
        "print(tokens[:10])"
      ],
      "metadata": {
        "colab": {
          "base_uri": "https://localhost:8080/"
        },
        "id": "A4wmd32jC-sz",
        "outputId": "46a057d9-51a8-40b6-9f9f-30a1b198713c"
      },
      "execution_count": 9,
      "outputs": [
        {
          "output_type": "stream",
          "name": "stdout",
          "text": [
            "[['first', 'citizen', ':', 'before', 'we', 'proceed', 'any', 'further', ',', 'hear', 'me', 'speak', '.'], ['all', ':', 'speak', ',', 'speak', '.'], ['first', 'citizen', ':', 'you', 'are', 'all', 'resolved', 'rather', 'to', 'die', 'than', 'to', 'famish', '?'], ['all', ':', 'resolved', '.'], ['resolved', '.'], ['first', 'citizen', ':', 'first', ',', 'you', 'know', 'caius', 'marcius', 'is', 'chief', 'enemy', 'to', 'the', 'people', '.'], ['all', ':', 'we', \"know't\", ',', 'we', \"know't\", '.'], ['first', 'citizen', ':', 'let', 'us', 'kill', 'him', ',', 'and', 'we', \"'ll\", 'have', 'corn', 'at', 'our', 'own', 'price', '.'], [\"is't\", 'a', 'verdict', '?'], ['all', ':', 'no', 'more', 'talking', 'o', \"n't\", ';', 'let', 'it', 'be', 'done', ':', 'away', ',', 'away', '!']]\n"
          ]
        }
      ]
    },
    {
      "cell_type": "code",
      "source": [
        "model = Word2Vec(tokens,vector_size=100)"
      ],
      "metadata": {
        "id": "imOjlzb9DGzj"
      },
      "execution_count": 10,
      "outputs": []
    },
    {
      "cell_type": "code",
      "source": [
        "model.wv.key_to_index"
      ],
      "metadata": {
        "colab": {
          "base_uri": "https://localhost:8080/"
        },
        "id": "Mwzmpmu9DOSn",
        "outputId": "a502d369-7e64-4a73-ebc1-df2573b9975a"
      },
      "execution_count": 11,
      "outputs": [
        {
          "output_type": "execute_result",
          "data": {
            "text/plain": [
              "{',': 0,\n",
              " ':': 1,\n",
              " '.': 2,\n",
              " 'the': 3,\n",
              " 'and': 4,\n",
              " 'i': 5,\n",
              " 'to': 6,\n",
              " 'of': 7,\n",
              " ';': 8,\n",
              " 'you': 9,\n",
              " 'my': 10,\n",
              " 'a': 11,\n",
              " 'that': 12,\n",
              " '?': 13,\n",
              " 'is': 14,\n",
              " 'in': 15,\n",
              " 'not': 16,\n",
              " '!': 17,\n",
              " 'for': 18,\n",
              " \"'s\": 19,\n",
              " 'with': 20,\n",
              " 'it': 21,\n",
              " 'me': 22,\n",
              " 'be': 23,\n",
              " 'your': 24,\n",
              " 'he': 25,\n",
              " 'his': 26,\n",
              " 'but': 27,\n",
              " 'this': 28,\n",
              " 'have': 29,\n",
              " \"'d\": 30,\n",
              " 'as': 31,\n",
              " 'thou': 32,\n",
              " 'him': 33,\n",
              " 'what': 34,\n",
              " 'so': 35,\n",
              " 'thy': 36,\n",
              " 'will': 37,\n",
              " 'we': 38,\n",
              " 'king': 39,\n",
              " 'no': 40,\n",
              " 'by': 41,\n",
              " 'all': 42,\n",
              " 'shall': 43,\n",
              " 'her': 44,\n",
              " 'if': 45,\n",
              " 'our': 46,\n",
              " 'are': 47,\n",
              " 'do': 48,\n",
              " 'thee': 49,\n",
              " 'lord': 50,\n",
              " 'now': 51,\n",
              " 'o': 52,\n",
              " 'on': 53,\n",
              " 'good': 54,\n",
              " \"'\": 55,\n",
              " 'from': 56,\n",
              " 'come': 57,\n",
              " 'sir': 58,\n",
              " 'or': 59,\n",
              " 'which': 60,\n",
              " 'more': 61,\n",
              " 'was': 62,\n",
              " \"'ll\": 63,\n",
              " 'then': 64,\n",
              " 'here': 65,\n",
              " 'at': 66,\n",
              " 'they': 67,\n",
              " 'she': 68,\n",
              " 'would': 69,\n",
              " 'let': 70,\n",
              " 'how': 71,\n",
              " 'well': 72,\n",
              " 'than': 73,\n",
              " 'their': 74,\n",
              " 'them': 75,\n",
              " 'duke': 76,\n",
              " 'can': 77,\n",
              " 'am': 78,\n",
              " 'hath': 79,\n",
              " '--': 80,\n",
              " 'say': 81,\n",
              " 'there': 82,\n",
              " 'when': 83,\n",
              " 'one': 84,\n",
              " 'love': 85,\n",
              " 'go': 86,\n",
              " \"'t\": 87,\n",
              " 'were': 88,\n",
              " 'may': 89,\n",
              " 'us': 90,\n",
              " 'make': 91,\n",
              " 'upon': 92,\n",
              " 'richard': 93,\n",
              " 'yet': 94,\n",
              " 'queen': 95,\n",
              " 'like': 96,\n",
              " 'man': 97,\n",
              " 'must': 98,\n",
              " 'should': 99,\n",
              " 'an': 100,\n",
              " 'first': 101,\n",
              " 'why': 102,\n",
              " 'know': 103,\n",
              " 'had': 104,\n",
              " 'where': 105,\n",
              " 'edward': 106,\n",
              " 'did': 107,\n",
              " 'father': 108,\n",
              " 'see': 109,\n",
              " 'death': 110,\n",
              " 'some': 111,\n",
              " 'too': 112,\n",
              " 'who': 113,\n",
              " 'henry': 114,\n",
              " 'give': 115,\n",
              " 'these': 116,\n",
              " 'york': 117,\n",
              " 'speak': 118,\n",
              " 'take': 119,\n",
              " 'romeo': 120,\n",
              " 'mine': 121,\n",
              " 'such': 122,\n",
              " 'out': 123,\n",
              " 'up': 124,\n",
              " 'god': 125,\n",
              " 'gloucester': 126,\n",
              " 'tell': 127,\n",
              " 'time': 128,\n",
              " 'lady': 129,\n",
              " 'most': 130,\n",
              " 'son': 131,\n",
              " 'brother': 132,\n",
              " 'nor': 133,\n",
              " 'life': 134,\n",
              " 'vincentio': 135,\n",
              " 'heart': 136,\n",
              " 'warwick': 137,\n",
              " 'hear': 138,\n",
              " 'made': 139,\n",
              " 'art': 140,\n",
              " 'much': 141,\n",
              " 'think': 142,\n",
              " 'never': 143,\n",
              " 'look': 144,\n",
              " 'doth': 145,\n",
              " 'men': 146,\n",
              " 'before': 147,\n",
              " 'petruchio': 148,\n",
              " 'both': 149,\n",
              " 'true': 150,\n",
              " 'thus': 151,\n",
              " 'any': 152,\n",
              " 'being': 153,\n",
              " 'ay': 154,\n",
              " 'away': 155,\n",
              " 'blood': 156,\n",
              " 'day': 157,\n",
              " 'name': 158,\n",
              " 'coriolanus': 159,\n",
              " 'been': 160,\n",
              " 'fair': 161,\n",
              " 'noble': 162,\n",
              " 'again': 163,\n",
              " 'menenius': 164,\n",
              " 'very': 165,\n",
              " 'call': 166,\n",
              " 'pray': 167,\n",
              " 'hand': 168,\n",
              " 'juliet': 169,\n",
              " 'honour': 170,\n",
              " 'own': 171,\n",
              " 'done': 172,\n",
              " 'sweet': 173,\n",
              " 'second': 174,\n",
              " 'myself': 175,\n",
              " 'fear': 176,\n",
              " 'therefore': 177,\n",
              " 'leave': 178,\n",
              " 'great': 179,\n",
              " 'prince': 180,\n",
              " 'against': 181,\n",
              " 'though': 182,\n",
              " 'poor': 183,\n",
              " 'angelo': 184,\n",
              " 'world': 185,\n",
              " 'down': 186,\n",
              " 'hast': 187,\n",
              " 'way': 188,\n",
              " 'heaven': 189,\n",
              " 'nay': 190,\n",
              " 'old': 191,\n",
              " 'stay': 192,\n",
              " 'wife': 193,\n",
              " 'till': 194,\n",
              " 'clarence': 195,\n",
              " 'eyes': 196,\n",
              " 'other': 197,\n",
              " 'nurse': 198,\n",
              " 'grace': 199,\n",
              " 'night': 200,\n",
              " 'live': 201,\n",
              " 'many': 202,\n",
              " 'mother': 203,\n",
              " 'comes': 204,\n",
              " 'even': 205,\n",
              " 'bolingbroke': 206,\n",
              " 'stand': 207,\n",
              " 'dead': 208,\n",
              " 'die': 209,\n",
              " 'ever': 210,\n",
              " 'bear': 211,\n",
              " 'nothing': 212,\n",
              " 'iii': 213,\n",
              " 'whose': 214,\n",
              " 'master': 215,\n",
              " 'isabella': 216,\n",
              " 'friends': 217,\n",
              " 'head': 218,\n",
              " 'friar': 219,\n",
              " 'leontes': 220,\n",
              " 'buckingham': 221,\n",
              " 'unto': 222,\n",
              " 'those': 223,\n",
              " 'peace': 224,\n",
              " 'daughter': 225,\n",
              " 'better': 226,\n",
              " 'word': 227,\n",
              " 'soul': 228,\n",
              " 'gone': 229,\n",
              " 'off': 230,\n",
              " 'tranio': 231,\n",
              " 'still': 232,\n",
              " 'hence': 233,\n",
              " 'marcius': 234,\n",
              " 'house': 235,\n",
              " 'two': 236,\n",
              " 'lucio': 237,\n",
              " 'since': 238,\n",
              " 'could': 239,\n",
              " 'gentleman': 240,\n",
              " 'news': 241,\n",
              " 'little': 242,\n",
              " 'sicinius': 243,\n",
              " 'lords': 244,\n",
              " 'margaret': 245,\n",
              " 'crown': 246,\n",
              " 'thing': 247,\n",
              " 'once': 248,\n",
              " 'put': 249,\n",
              " 'whom': 250,\n",
              " 'camillo': 251,\n",
              " 'himself': 252,\n",
              " 'set': 253,\n",
              " 'face': 254,\n",
              " 'long': 255,\n",
              " 'capulet': 256,\n",
              " 'thine': 257,\n",
              " 'iv': 258,\n",
              " 'else': 259,\n",
              " 'ere': 260,\n",
              " 'elizabeth': 261,\n",
              " 'words': 262,\n",
              " 'none': 263,\n",
              " 'katharina': 264,\n",
              " 'might': 265,\n",
              " 'rest': 266,\n",
              " 'tongue': 267,\n",
              " 'young': 268,\n",
              " 'best': 269,\n",
              " 'power': 270,\n",
              " 'show': 271,\n",
              " 'part': 272,\n",
              " 'madam': 273,\n",
              " 'dear': 274,\n",
              " 'bring': 275,\n",
              " 'citizen': 276,\n",
              " 'pardon': 277,\n",
              " 'lucentio': 278,\n",
              " 'gentle': 279,\n",
              " 'vi': 280,\n",
              " 'people': 281,\n",
              " 'keep': 282,\n",
              " 'ii': 283,\n",
              " 'farewell': 284,\n",
              " 'hope': 285,\n",
              " 'earth': 286,\n",
              " 'right': 287,\n",
              " 'back': 288,\n",
              " 'hastings': 289,\n",
              " 'baptista': 290,\n",
              " 'husband': 291,\n",
              " 'find': 292,\n",
              " 'every': 293,\n",
              " 'said': 294,\n",
              " 'hortensio': 295,\n",
              " 'forth': 296,\n",
              " 'bid': 297,\n",
              " 'came': 298,\n",
              " 'home': 299,\n",
              " 'hands': 300,\n",
              " 'into': 301,\n",
              " 'cousin': 302,\n",
              " 'cause': 303,\n",
              " 'boy': 304,\n",
              " 'rome': 305,\n",
              " 'brutus': 306,\n",
              " 'hold': 307,\n",
              " 'tears': 308,\n",
              " 'welcome': 309,\n",
              " 'dost': 310,\n",
              " 'about': 311,\n",
              " 'please': 312,\n",
              " 'mistress': 313,\n",
              " 'provost': 314,\n",
              " 'help': 315,\n",
              " 'thought': 316,\n",
              " 'makes': 317,\n",
              " 'full': 318,\n",
              " 'heard': 319,\n",
              " 'indeed': 320,\n",
              " 'mind': 321,\n",
              " 'after': 322,\n",
              " 'grumio': 323,\n",
              " 'place': 324,\n",
              " 'cominius': 325,\n",
              " 'escalus': 326,\n",
              " 'answer': 327,\n",
              " 'has': 328,\n",
              " 'pompey': 329,\n",
              " 'marry': 330,\n",
              " 'clifford': 331,\n",
              " 'wilt': 332,\n",
              " 'friend': 333,\n",
              " 'state': 334,\n",
              " 'mean': 335,\n",
              " 'shame': 336,\n",
              " 'mercutio': 337,\n",
              " 'within': 338,\n",
              " 'servant': 339,\n",
              " 'gremio': 340,\n",
              " 'while': 341,\n",
              " 'another': 342,\n",
              " 'hither': 343,\n",
              " 'claudio': 344,\n",
              " 'only': 345,\n",
              " 'sorrow': 346,\n",
              " 'last': 347,\n",
              " 'northumberland': 348,\n",
              " 'aufidius': 349,\n",
              " 'gracious': 350,\n",
              " 'eye': 351,\n",
              " 'royal': 352,\n",
              " 'kill': 353,\n",
              " 'duchess': 354,\n",
              " 'rather': 355,\n",
              " 'prove': 356,\n",
              " 'fortune': 357,\n",
              " 'far': 358,\n",
              " 'third': 359,\n",
              " 'thousand': 360,\n",
              " 'lie': 361,\n",
              " 'paulina': 362,\n",
              " 'war': 363,\n",
              " 'child': 364,\n",
              " 'body': 365,\n",
              " 'meet': 366,\n",
              " 'murderer': 367,\n",
              " 'shalt': 368,\n",
              " 'comfort': 369,\n",
              " 'use': 370,\n",
              " 'lies': 371,\n",
              " 'tybalt': 372,\n",
              " 'lay': 373,\n",
              " 'woman': 374,\n",
              " 'hour': 375,\n",
              " 'fellow': 376,\n",
              " 'joy': 377,\n",
              " 'benvolio': 378,\n",
              " 'sun': 379,\n",
              " 'grief': 380,\n",
              " 'polixenes': 381,\n",
              " 'beseech': 382,\n",
              " 'turn': 383,\n",
              " 'less': 384,\n",
              " 'montague': 385,\n",
              " 'autolycus': 386,\n",
              " 'follow': 387,\n",
              " 'thank': 388,\n",
              " 'years': 389,\n",
              " 'happy': 390,\n",
              " 'grave': 391,\n",
              " 'end': 392,\n",
              " 'enough': 393,\n",
              " 'matter': 394,\n",
              " 'holy': 395,\n",
              " 'talk': 396,\n",
              " 'nature': 397,\n",
              " 'play': 398,\n",
              " 'business': 399,\n",
              " \"n't\": 400,\n",
              " 'hate': 401,\n",
              " 'things': 402,\n",
              " 'arms': 403,\n",
              " 'bianca': 404,\n",
              " 'light': 405,\n",
              " 'bed': 406,\n",
              " 'to-morrow': 407,\n",
              " 'prospero': 408,\n",
              " 'lives': 409,\n",
              " 'clown': 410,\n",
              " 'truth': 411,\n",
              " 'fall': 412,\n",
              " 'pity': 413,\n",
              " 'without': 414,\n",
              " 'faith': 415,\n",
              " 'three': 416,\n",
              " 'wish': 417,\n",
              " 'shepherd': 418,\n",
              " 'get': 419,\n",
              " 'kind': 420,\n",
              " 'swear': 421,\n",
              " 'save': 422,\n",
              " 'villain': 423,\n",
              " 'believe': 424,\n",
              " 'send': 425,\n",
              " 'kate': 426,\n",
              " 'ah': 427,\n",
              " 'laurence': 428,\n",
              " 'saw': 429,\n",
              " 'wrong': 430,\n",
              " 'fight': 431,\n",
              " 'gods': 432,\n",
              " 'false': 433,\n",
              " 'uncle': 434,\n",
              " 'law': 435,\n",
              " 'sleep': 436,\n",
              " 'city': 437,\n",
              " 'yourself': 438,\n",
              " 'present': 439,\n",
              " 'looks': 440,\n",
              " 'does': 441,\n",
              " 'means': 442,\n",
              " 'yours': 443,\n",
              " 'sovereign': 444,\n",
              " 'country': 445,\n",
              " 'land': 446,\n",
              " 'bloody': 447,\n",
              " 'children': 448,\n",
              " 'aumerle': 449,\n",
              " \"ne'er\": 450,\n",
              " 'left': 451,\n",
              " 'anne': 452,\n",
              " 'volumnia': 453,\n",
              " 'foul': 454,\n",
              " 'england': 455,\n",
              " 'servingman': 456,\n",
              " 'sister': 457,\n",
              " 'worthy': 458,\n",
              " 'sit': 459,\n",
              " 'mercy': 460,\n",
              " 'told': 461,\n",
              " 'need': 462,\n",
              " 'woe': 463,\n",
              " 'mark': 464,\n",
              " 'sea': 465,\n",
              " 'sword': 466,\n",
              " 'gaunt': 467,\n",
              " 'doubt': 468,\n",
              " 'proud': 469,\n",
              " 'messenger': 470,\n",
              " 'traitor': 471,\n",
              " 'sound': 472,\n",
              " 'justice': 473,\n",
              " 'breath': 474,\n",
              " 'majesty': 475,\n",
              " 'thyself': 476,\n",
              " 'high': 477,\n",
              " 'because': 478,\n",
              " 'together': 479,\n",
              " 'either': 480,\n",
              " 'seem': 481,\n",
              " 'biondello': 482,\n",
              " 'fire': 483,\n",
              " 'john': 484,\n",
              " 'maid': 485,\n",
              " 'through': 486,\n",
              " 'seen': 487,\n",
              " 'horse': 488,\n",
              " 'days': 489,\n",
              " 'paris': 490,\n",
              " 'under': 491,\n",
              " 'break': 492,\n",
              " 'kiss': 493,\n",
              " 'catesby': 494,\n",
              " 'arm': 495,\n",
              " 'heavy': 496,\n",
              " 'return': 497,\n",
              " 'care': 498,\n",
              " 'gentlemen': 499,\n",
              " 'ears': 500,\n",
              " 'norfolk': 501,\n",
              " 'lost': 502,\n",
              " 'ye': 503,\n",
              " 'florizel': 504,\n",
              " 'hermione': 505,\n",
              " 'age': 506,\n",
              " 'remember': 507,\n",
              " 'fly': 508,\n",
              " 'times': 509,\n",
              " 'reason': 510,\n",
              " 'warrant': 511,\n",
              " 'purpose': 512,\n",
              " 'content': 513,\n",
              " 'haste': 514,\n",
              " 'oath': 515,\n",
              " 'ready': 516,\n",
              " 'signior': 517,\n",
              " 'says': 518,\n",
              " 'canst': 519,\n",
              " 'late': 520,\n",
              " 'liege': 521,\n",
              " 'alas': 522,\n",
              " 'strange': 523,\n",
              " 'each': 524,\n",
              " 'widow': 525,\n",
              " 'banish': 526,\n",
              " 'grey': 527,\n",
              " 'weep': 528,\n",
              " 'alone': 529,\n",
              " 'new': 530,\n",
              " 'person': 531,\n",
              " 'stands': 532,\n",
              " 'sent': 533,\n",
              " 'pass': 534,\n",
              " 'rivers': 535,\n",
              " 'spirit': 536,\n",
              " 'slain': 537,\n",
              " 'brought': 538,\n",
              " 'thoughts': 539,\n",
              " 'cry': 540,\n",
              " 'straight': 541,\n",
              " 'having': 542,\n",
              " 'married': 543,\n",
              " 'strike': 544,\n",
              " 'knows': 545,\n",
              " 'free': 546,\n",
              " 'didst': 547,\n",
              " 'ground': 548,\n",
              " 'lest': 549,\n",
              " 'france': 550,\n",
              " 'loss': 551,\n",
              " 'sin': 552,\n",
              " 'women': 553,\n",
              " 'beauty': 554,\n",
              " 'born': 555,\n",
              " 'service': 556,\n",
              " 'found': 557,\n",
              " 'cold': 558,\n",
              " 'near': 559,\n",
              " 'fault': 560,\n",
              " 'richmond': 561,\n",
              " 'sebastian': 562,\n",
              " 'report': 563,\n",
              " 'thanks': 564,\n",
              " 'enemy': 565,\n",
              " 'charge': 566,\n",
              " 'sight': 567,\n",
              " 'general': 568,\n",
              " 'common': 569,\n",
              " 'hours': 570,\n",
              " 'fool': 571,\n",
              " 'lose': 572,\n",
              " 'senator': 573,\n",
              " 'desire': 574,\n",
              " \"'twere\": 575,\n",
              " 'tender': 576,\n",
              " 'ha': 577,\n",
              " 'itself': 578,\n",
              " 'air': 579,\n",
              " 'touch': 580,\n",
              " 'sure': 581,\n",
              " 'foot': 582,\n",
              " 'soon': 583,\n",
              " 'yield': 584,\n",
              " 'deep': 585,\n",
              " 'fie': 586,\n",
              " 'antonio': 587,\n",
              " 'duty': 588,\n",
              " 'prithee': 589,\n",
              " 'mad': 590,\n",
              " 'prison': 591,\n",
              " 'yea': 592,\n",
              " 'pluck': 593,\n",
              " 'known': 594,\n",
              " 'saint': 595,\n",
              " 'command': 596,\n",
              " 'patience': 597,\n",
              " 'heavens': 598,\n",
              " 'past': 599,\n",
              " 'trust': 600,\n",
              " 'honest': 601,\n",
              " 'open': 602,\n",
              " 'twenty': 603,\n",
              " 'unless': 604,\n",
              " 'deed': 605,\n",
              " 'dare': 606,\n",
              " 'something': 607,\n",
              " \"o'er\": 608,\n",
              " 'oxford': 609,\n",
              " 'fearful': 610,\n",
              " 'ten': 611,\n",
              " 'citizens': 612,\n",
              " 'lewis': 613,\n",
              " 'ask': 614,\n",
              " 'bound': 615,\n",
              " 'cut': 616,\n",
              " 'heir': 617,\n",
              " 'yes': 618,\n",
              " 'peter': 619,\n",
              " 'tale': 620,\n",
              " 'highness': 621,\n",
              " 'voices': 622,\n",
              " 'draw': 623,\n",
              " 'half': 624,\n",
              " 'hearts': 625,\n",
              " 'revenge': 626,\n",
              " 'gonzalo': 627,\n",
              " 'company': 628,\n",
              " 'hark': 629,\n",
              " 'counsel': 630,\n",
              " 'beat': 631,\n",
              " 'wear': 632,\n",
              " 'withal': 633,\n",
              " 'virtue': 634,\n",
              " 'serve': 635,\n",
              " 'ear': 636,\n",
              " 'dream': 637,\n",
              " 'sirrah': 638,\n",
              " 'learn': 639,\n",
              " 'next': 640,\n",
              " 'work': 641,\n",
              " 'read': 642,\n",
              " \"is't\": 643,\n",
              " 'side': 644,\n",
              " 'neither': 645,\n",
              " 'marriage': 646,\n",
              " 'worse': 647,\n",
              " 'brave': 648,\n",
              " 'hell': 649,\n",
              " 'point': 650,\n",
              " 'elbow': 651,\n",
              " 'loving': 652,\n",
              " 'knew': 653,\n",
              " 'sake': 654,\n",
              " 'pleasure': 655,\n",
              " 'field': 656,\n",
              " 'enemies': 657,\n",
              " 'seek': 658,\n",
              " 'methinks': 659,\n",
              " 'lancaster': 660,\n",
              " 'become': 661,\n",
              " 'youth': 662,\n",
              " 'change': 663,\n",
              " 'pale': 664,\n",
              " 'further': 665,\n",
              " 'tower': 666,\n",
              " 'fast': 667,\n",
              " 'court': 668,\n",
              " 'souls': 669,\n",
              " 'coming': 670,\n",
              " 'ill': 671,\n",
              " 'given': 672,\n",
              " 'strength': 673,\n",
              " 'course': 674,\n",
              " 'took': 675,\n",
              " 'between': 676,\n",
              " 'gates': 677,\n",
              " 'confess': 678,\n",
              " 'miranda': 679,\n",
              " 'behold': 680,\n",
              " 'devil': 681,\n",
              " 'met': 682,\n",
              " 'title': 683,\n",
              " 'run': 684,\n",
              " 'to-day': 685,\n",
              " 'themselves': 686,\n",
              " 'rich': 687,\n",
              " 'ho': 688,\n",
              " 'gave': 689,\n",
              " 'merry': 690,\n",
              " 'george': 691,\n",
              " 'murder': 692,\n",
              " 'bosom': 693,\n",
              " 'deliver': 694,\n",
              " 'lips': 695,\n",
              " 'same': 696,\n",
              " 'just': 697,\n",
              " 'along': 698,\n",
              " 'sad': 699,\n",
              " 'already': 700,\n",
              " 'sworn': 701,\n",
              " 'soldier': 702,\n",
              " 'curse': 703,\n",
              " 'watch': 704,\n",
              " 'subject': 705,\n",
              " 'over': 706,\n",
              " 'loves': 707,\n",
              " 'office': 708,\n",
              " 'wind': 709,\n",
              " 'soldiers': 710,\n",
              " 'morning': 711,\n",
              " 'hang': 712,\n",
              " 'mowbray': 713,\n",
              " 'tribunes': 714,\n",
              " 'bold': 715,\n",
              " 'perdita': 716,\n",
              " 'issue': 717,\n",
              " 'sons': 718,\n",
              " 'loved': 719,\n",
              " 'whilst': 720,\n",
              " 'spoke': 721,\n",
              " 'fetch': 722,\n",
              " 'post': 723,\n",
              " 'goes': 724,\n",
              " 'bad': 725,\n",
              " 'hereford': 726,\n",
              " 'thomas': 727,\n",
              " 'stanley': 728,\n",
              " 'wonder': 729,\n",
              " 'sly': 730,\n",
              " 'mariana': 731,\n",
              " 'suit': 732,\n",
              " 'officer': 733,\n",
              " 'hadst': 734,\n",
              " 'jest': 735,\n",
              " 'appear': 736,\n",
              " 'kings': 737,\n",
              " 'wounds': 738,\n",
              " 'march': 739,\n",
              " 'foe': 740,\n",
              " 'often': 741,\n",
              " 'wit': 742,\n",
              " 'to-night': 743,\n",
              " 'presence': 744,\n",
              " 'dangerous': 745,\n",
              " 'fit': 746,\n",
              " 'forget': 747,\n",
              " 'voice': 748,\n",
              " 'gold': 749,\n",
              " 'speed': 750,\n",
              " 'soft': 751,\n",
              " 'wars': 752,\n",
              " 'entreat': 753,\n",
              " 'request': 754,\n",
              " 'enter': 755,\n",
              " 'grant': 756,\n",
              " 'battle': 757,\n",
              " 'thence': 758,\n",
              " 'green': 759,\n",
              " 'wherein': 760,\n",
              " 'poison': 761,\n",
              " 'consul': 762,\n",
              " 'london': 763,\n",
              " 'seems': 764,\n",
              " 'order': 765,\n",
              " 'quarrel': 766,\n",
              " 'rage': 767,\n",
              " 'wert': 768,\n",
              " 'mighty': 769,\n",
              " 'woo': 770,\n",
              " 'black': 771,\n",
              " 'strong': 772,\n",
              " 'worth': 773,\n",
              " 'attend': 774,\n",
              " 'throne': 775,\n",
              " 'brief': 776,\n",
              " 'somerset': 777,\n",
              " 'buy': 778,\n",
              " 'lartius': 779,\n",
              " 'wash': 780,\n",
              " 'deeds': 781,\n",
              " 'princely': 782,\n",
              " 'want': 783,\n",
              " 'prayers': 784,\n",
              " 'deny': 785,\n",
              " 'consent': 786,\n",
              " 'begin': 787,\n",
              " 'throw': 788,\n",
              " 'win': 789,\n",
              " 'water': 790,\n",
              " 'case': 791,\n",
              " 'thither': 792,\n",
              " 'valiant': 793,\n",
              " 'keeper': 794,\n",
              " 'speech': 795,\n",
              " 'earl': 796,\n",
              " 'ratcliff': 797,\n",
              " 'breast': 798,\n",
              " 'whence': 799,\n",
              " 'faults': 800,\n",
              " 'above': 801,\n",
              " \"to't\": 802,\n",
              " 'knock': 803,\n",
              " 'almost': 804,\n",
              " 'got': 805,\n",
              " 'feel': 806,\n",
              " 'move': 807,\n",
              " 'pretty': 808,\n",
              " 'slave': 809,\n",
              " 'ancient': 810,\n",
              " 'wise': 811,\n",
              " 'heads': 812,\n",
              " 'mock': 813,\n",
              " 'hot': 814,\n",
              " 'presently': 815,\n",
              " 'harm': 816,\n",
              " 'flesh': 817,\n",
              " 'vow': 818,\n",
              " 'music': 819,\n",
              " \"e'er\": 820,\n",
              " 'least': 821,\n",
              " 'alack': 822,\n",
              " 'mayor': 823,\n",
              " 'towards': 824,\n",
              " 'whether': 825,\n",
              " 'subjects': 826,\n",
              " '3': 827,\n",
              " 'measure': 828,\n",
              " 'forward': 829,\n",
              " 'five': 830,\n",
              " 'roman': 831,\n",
              " 'suffer': 832,\n",
              " 'awhile': 833,\n",
              " 'wouldst': 834,\n",
              " 'worship': 835,\n",
              " 'living': 836,\n",
              " 'virgilia': 837,\n",
              " 'hearing': 838,\n",
              " 'dispatch': 839,\n",
              " 'ariel': 840,\n",
              " 'curtis': 841,\n",
              " 'promise': 842,\n",
              " 'moon': 843,\n",
              " 'close': 844,\n",
              " \"'em\": 845,\n",
              " 'witness': 846,\n",
              " 'kingdom': 847,\n",
              " 'virtuous': 848,\n",
              " 'offer': 849,\n",
              " 'mortal': 850,\n",
              " 'besides': 851,\n",
              " 'ladies': 852,\n",
              " 'deserved': 853,\n",
              " 'blows': 854,\n",
              " 'antigonus': 855,\n",
              " 'perform': 856,\n",
              " 'bohemia': 857,\n",
              " 'toward': 858,\n",
              " 'mouth': 859,\n",
              " 'lawful': 860,\n",
              " 'worst': 861,\n",
              " 'quickly': 862,\n",
              " 'grow': 863,\n",
              " 'pay': 864,\n",
              " 'goodly': 865,\n",
              " 'anon': 866,\n",
              " 'wherefore': 867,\n",
              " \"do't\": 868,\n",
              " 'ourselves': 869,\n",
              " 'breathe': 870,\n",
              " 'chance': 871,\n",
              " 'greater': 872,\n",
              " 'weeping': 873,\n",
              " 'wast': 874,\n",
              " 'patient': 875,\n",
              " 'guilty': 876,\n",
              " 'whither': 877,\n",
              " 'base': 878,\n",
              " 'needs': 879,\n",
              " 'golden': 880,\n",
              " 'longer': 881,\n",
              " 'pedant': 882,\n",
              " 'beg': 883,\n",
              " 'isabel': 884,\n",
              " 'match': 885,\n",
              " 'letters': 886,\n",
              " 'rutland': 887,\n",
              " 'shows': 888,\n",
              " 'derby': 889,\n",
              " 'truly': 890,\n",
              " 'angry': 891,\n",
              " 'stir': 892,\n",
              " 'exeter': 893,\n",
              " 'feast': 894,\n",
              " 'join': 895,\n",
              " 'laid': 896,\n",
              " 'fled': 897,\n",
              " 'offence': 898,\n",
              " 'small': 899,\n",
              " 'note': 900,\n",
              " 'tear': 901,\n",
              " 'sudden': 902,\n",
              " 'year': 903,\n",
              " 'choose': 904,\n",
              " 'obey': 905,\n",
              " 'clouds': 906,\n",
              " 'padua': 907,\n",
              " 'plain': 908,\n",
              " 'knee': 909,\n",
              " 'masters': 910,\n",
              " 'town': 911,\n",
              " 'book': 912,\n",
              " 'letter': 913,\n",
              " 'speaks': 914,\n",
              " 'sense': 915,\n",
              " 'behind': 916,\n",
              " 'won': 917,\n",
              " 'held': 918,\n",
              " 'doing': 919,\n",
              " 'action': 920,\n",
              " 'prisoner': 921,\n",
              " 'slew': 922,\n",
              " 'proclaim': 923,\n",
              " 'defend': 924,\n",
              " 'rough': 925,\n",
              " \"ta'en\": 926,\n",
              " 'kneel': 927,\n",
              " 'banishment': 928,\n",
              " 'shed': 929,\n",
              " 'bawd': 930,\n",
              " 'until': 931,\n",
              " 'amen': 932,\n",
              " 'short': 933,\n",
              " 'hard': 934,\n",
              " 'liberty': 935,\n",
              " 'aside': 936,\n",
              " 'seat': 937,\n",
              " 'bless': 938,\n",
              " 'hide': 939,\n",
              " 'barnardine': 940,\n",
              " 'four': 941,\n",
              " 'victory': 942,\n",
              " 'noise': 943,\n",
              " 'plantagenet': 944,\n",
              " 'dishonour': 945,\n",
              " 'dry': 946,\n",
              " 'bears': 947,\n",
              " 'lead': 948,\n",
              " 'act': 949,\n",
              " 'leisure': 950,\n",
              " 'forgot': 951,\n",
              " 'blow': 952,\n",
              " 'broke': 953,\n",
              " 'lack': 954,\n",
              " 'slaughter': 955,\n",
              " 'oft': 956,\n",
              " 'stood': 957,\n",
              " 'piece': 958,\n",
              " 'hundred': 959,\n",
              " 'certain': 960,\n",
              " 'chamber': 961,\n",
              " 'lived': 962,\n",
              " 'neck': 963,\n",
              " 'bride': 964,\n",
              " 'womb': 965,\n",
              " 'bones': 966,\n",
              " 'scorn': 967,\n",
              " 'visit': 968,\n",
              " 'walk': 969,\n",
              " 'conscience': 970,\n",
              " 'seal': 971,\n",
              " 'steel': 972,\n",
              " 'flatter': 973,\n",
              " 'xi': 974,\n",
              " 'pride': 975,\n",
              " 'guess': 976,\n",
              " 'bishop': 977,\n",
              " 'glad': 978,\n",
              " 'yourselves': 979,\n",
              " 'blessed': 980,\n",
              " 'few': 981,\n",
              " 'alive': 982,\n",
              " 'knowledge': 983,\n",
              " 'herself': 984,\n",
              " 'teach': 985,\n",
              " 'secret': 986,\n",
              " 'glory': 987,\n",
              " 'bushy': 988,\n",
              " 'warm': 989,\n",
              " 'bitter': 990,\n",
              " 'morrow': 991,\n",
              " 'knees': 992,\n",
              " 'commend': 993,\n",
              " 'dorset': 994,\n",
              " 'watchman': 995,\n",
              " 'shake': 996,\n",
              " \"'twixt\": 997,\n",
              " 'frown': 998,\n",
              " 'kept': 999,\n",
              " ...}"
            ]
          },
          "metadata": {},
          "execution_count": 11
        }
      ]
    },
    {
      "cell_type": "code",
      "source": [
        "model.wv.get_vector(\"capitol\", norm=True)"
      ],
      "metadata": {
        "colab": {
          "base_uri": "https://localhost:8080/"
        },
        "id": "jmQWT9eeDYBl",
        "outputId": "6b1ce610-b220-460c-fdc0-31b1a1955809"
      },
      "execution_count": 12,
      "outputs": [
        {
          "output_type": "execute_result",
          "data": {
            "text/plain": [
              "array([ 0.02986406,  0.1806875 ,  0.02490574,  0.09115872,  0.08444811,\n",
              "       -0.23976475,  0.04411848,  0.295047  , -0.11704274, -0.00109933,\n",
              "       -0.08252694, -0.18968351, -0.00119338,  0.00100474, -0.01936859,\n",
              "       -0.13583428,  0.12148727, -0.04676766, -0.03226032, -0.18612173,\n",
              "        0.10054263,  0.06375446,  0.11611838, -0.04628352, -0.01838294,\n",
              "        0.00454212, -0.08500984, -0.1261628 , -0.10317995,  0.04379881,\n",
              "        0.1463406 ,  0.08833412,  0.06760371, -0.03764277, -0.05796076,\n",
              "        0.23377134,  0.02881967, -0.04154485, -0.08400314, -0.22034577,\n",
              "        0.15209521, -0.12756795, -0.00880649,  0.00821594,  0.06196216,\n",
              "        0.10151175, -0.07676652, -0.07857922,  0.1480414 , -0.01968728,\n",
              "        0.04295071, -0.10672782,  0.03297111, -0.02379044, -0.05515874,\n",
              "        0.10263839,  0.13737309,  0.09606674, -0.18337995,  0.1015814 ,\n",
              "        0.00375844, -0.00433426, -0.06444325, -0.10239557, -0.05573447,\n",
              "        0.11040115,  0.11646521, -0.02348942, -0.1757142 ,  0.09313267,\n",
              "       -0.13120125, -0.09763116,  0.12315657,  0.01621567,  0.0669002 ,\n",
              "        0.03610489,  0.0399592 ,  0.01215718,  0.02380932,  0.02539909,\n",
              "       -0.11596753,  0.11556568, -0.00387546, -0.00037573, -0.09570115,\n",
              "        0.01082933,  0.14583921,  0.13045022,  0.15417266,  0.02940479,\n",
              "        0.10421354,  0.00702461,  0.02893406, -0.00642774,  0.13483064,\n",
              "        0.01112992,  0.06911545, -0.00175479, -0.03632532,  0.01975917],\n",
              "      dtype=float32)"
            ]
          },
          "metadata": {},
          "execution_count": 12
        }
      ]
    },
    {
      "cell_type": "code",
      "source": [
        "model.wv.most_similar('capitol')"
      ],
      "metadata": {
        "colab": {
          "base_uri": "https://localhost:8080/"
        },
        "id": "R5_XXK9CDftl",
        "outputId": "b2fa1745-51f0-4fa7-92d0-fbd517b09a9e"
      },
      "execution_count": 13,
      "outputs": [
        {
          "output_type": "execute_result",
          "data": {
            "text/plain": [
              "[('noble', 0.9839791655540466),\n",
              " ('prince', 0.9811720252037048),\n",
              " ('woful', 0.9803705811500549),\n",
              " ('bishop', 0.9787943959236145),\n",
              " ('england', 0.9757127165794373),\n",
              " ('ghost', 0.9747578501701355),\n",
              " ('thomas', 0.9725897312164307),\n",
              " ('harry', 0.9715391993522644),\n",
              " ('clock', 0.9708663821220398),\n",
              " ('earl', 0.9704935550689697)]"
            ]
          },
          "metadata": {},
          "execution_count": 13
        }
      ]
    },
    {
      "cell_type": "code",
      "source": [
        "model.wv.get_vector(\"womb\", norm=True)"
      ],
      "metadata": {
        "colab": {
          "base_uri": "https://localhost:8080/"
        },
        "id": "DoYbXbWbNEQK",
        "outputId": "dea906db-b748-4c0c-b568-0e4f1a9f2e87"
      },
      "execution_count": 32,
      "outputs": [
        {
          "output_type": "execute_result",
          "data": {
            "text/plain": [
              "array([ 0.05722551,  0.18167305,  0.08131784,  0.13190733,  0.10816308,\n",
              "       -0.2713045 ,  0.05026222,  0.25205165, -0.08426108,  0.03219622,\n",
              "       -0.06932745, -0.18023773,  0.03175979, -0.03212557, -0.06264999,\n",
              "       -0.09875689,  0.07147744, -0.04758279, -0.0464458 , -0.23362768,\n",
              "        0.08070499,  0.00218496,  0.08293413, -0.06924725, -0.05092931,\n",
              "        0.04218041, -0.06994154, -0.0551922 , -0.1187392 ,  0.02107646,\n",
              "        0.18222563,  0.09608551,  0.06982826, -0.04762114, -0.0823678 ,\n",
              "        0.23679101,  0.02397023, -0.11076894, -0.09569205, -0.20958816,\n",
              "        0.09933322, -0.16845606, -0.04044187,  0.04779511,  0.09100706,\n",
              "        0.0319363 , -0.08857049, -0.08383724,  0.11282952, -0.00268365,\n",
              "        0.03972015, -0.11481712,  0.00291608, -0.0113642 , -0.12001505,\n",
              "        0.08881155,  0.09248193,  0.05938087, -0.18345156,  0.06408081,\n",
              "        0.0281182 , -0.02367407, -0.04549247, -0.09697891, -0.09617632,\n",
              "        0.11331609,  0.10878257,  0.0501825 , -0.22460583,  0.11334238,\n",
              "       -0.09756301, -0.06157178,  0.07129663,  0.03579843,  0.06494457,\n",
              "        0.04908598,  0.01648443, -0.01990173,  0.01765036, -0.01516117,\n",
              "       -0.11753219,  0.09368391, -0.0412833 ,  0.03044643, -0.08126459,\n",
              "        0.02632673,  0.14163938,  0.12396135,  0.15518527,  0.02845964,\n",
              "        0.09191936,  0.00958505,  0.01874492,  0.02951498,  0.15138848,\n",
              "       -0.01723295,  0.07208087, -0.01401202, -0.04074692,  0.02500791],\n",
              "      dtype=float32)"
            ]
          },
          "metadata": {},
          "execution_count": 32
        }
      ]
    },
    {
      "cell_type": "code",
      "source": [
        "model.wv.most_similar('womb')"
      ],
      "metadata": {
        "colab": {
          "base_uri": "https://localhost:8080/"
        },
        "id": "RBy29OfiNKoN",
        "outputId": "49acb0d9-118a-4321-a3ad-2c6587b702a3"
      },
      "execution_count": 33,
      "outputs": [
        {
          "output_type": "execute_result",
          "data": {
            "text/plain": [
              "[('mouth', 0.9912853837013245),\n",
              " ('throne', 0.9909251928329468),\n",
              " ('royal', 0.9904167652130127),\n",
              " ('gown', 0.9903414249420166),\n",
              " ('bosom', 0.9902135729789734),\n",
              " ('seal', 0.990199625492096),\n",
              " ('cries', 0.9898045063018799),\n",
              " ('warlike', 0.9894130825996399),\n",
              " ('peril', 0.989284098148346),\n",
              " ('untimely', 0.9890856146812439)]"
            ]
          },
          "metadata": {},
          "execution_count": 33
        }
      ]
    },
    {
      "cell_type": "code",
      "source": [
        "model.wv.similarity('womb', 'tomb')"
      ],
      "metadata": {
        "colab": {
          "base_uri": "https://localhost:8080/"
        },
        "id": "YjnwdfZHNXWt",
        "outputId": "0fe102f2-ac79-4880-9d9a-a25aec2ede67"
      },
      "execution_count": 35,
      "outputs": [
        {
          "output_type": "execute_result",
          "data": {
            "text/plain": [
              "0.97630525"
            ]
          },
          "metadata": {},
          "execution_count": 35
        }
      ]
    },
    {
      "cell_type": "markdown",
      "source": [
        "woot woot!  my inference that the two are linked (cf Titus and Venus & Adonis) is supported."
      ],
      "metadata": {
        "id": "o4A3a27hQDkn"
      }
    },
    {
      "cell_type": "code",
      "source": [
        "model.wv.similarity('ariel', 'spirit')"
      ],
      "metadata": {
        "colab": {
          "base_uri": "https://localhost:8080/"
        },
        "id": "B1Li6mhbEfgb",
        "outputId": "3a834a74-9090-48aa-ca92-a853fc4faf6f"
      },
      "execution_count": 34,
      "outputs": [
        {
          "output_type": "execute_result",
          "data": {
            "text/plain": [
              "0.94084644"
            ]
          },
          "metadata": {},
          "execution_count": 34
        }
      ]
    },
    {
      "cell_type": "markdown",
      "source": [
        "yawn--but see below"
      ],
      "metadata": {
        "id": "i0arT9UJQWJc"
      }
    },
    {
      "cell_type": "code",
      "source": [
        "model.wv.similarity('caliban', 'monster')"
      ],
      "metadata": {
        "colab": {
          "base_uri": "https://localhost:8080/"
        },
        "id": "22KmnX6iEnAb",
        "outputId": "56dc6b4a-1e07-46cb-c698-688bf0627cfd"
      },
      "execution_count": 17,
      "outputs": [
        {
          "output_type": "execute_result",
          "data": {
            "text/plain": [
              "0.9438924"
            ]
          },
          "metadata": {},
          "execution_count": 17
        }
      ]
    },
    {
      "cell_type": "markdown",
      "source": [
        "yawn--again but see below"
      ],
      "metadata": {
        "id": "SjwaEaCNQY_9"
      }
    },
    {
      "cell_type": "code",
      "source": [
        "model.wv.similarity('queen', 'maid')"
      ],
      "metadata": {
        "colab": {
          "base_uri": "https://localhost:8080/"
        },
        "id": "lWO_m3jyE7P_",
        "outputId": "3b7ed3f7-a13f-4312-8d94-dd77fe870013"
      },
      "execution_count": 18,
      "outputs": [
        {
          "output_type": "execute_result",
          "data": {
            "text/plain": [
              "0.7497171"
            ]
          },
          "metadata": {},
          "execution_count": 18
        }
      ]
    },
    {
      "cell_type": "markdown",
      "source": [
        "interesting--nb; maid in this case means 'virgin'"
      ],
      "metadata": {
        "id": "cz2YxIGvQay5"
      }
    },
    {
      "cell_type": "code",
      "source": [
        "model.wv.similarity('queen', 'maiden')"
      ],
      "metadata": {
        "colab": {
          "base_uri": "https://localhost:8080/"
        },
        "id": "BPy-2CuMFH-I",
        "outputId": "20f4f1ec-d3e1-4360-8b96-dc3f4be2c373"
      },
      "execution_count": 19,
      "outputs": [
        {
          "output_type": "execute_result",
          "data": {
            "text/plain": [
              "0.711332"
            ]
          },
          "metadata": {},
          "execution_count": 19
        }
      ]
    },
    {
      "cell_type": "code",
      "source": [
        "model.wv.similarity('ariel', 'maid')"
      ],
      "metadata": {
        "colab": {
          "base_uri": "https://localhost:8080/"
        },
        "id": "XdCMRZ48FO78",
        "outputId": "da1efd2b-5285-4787-fbc0-257e23698d4d"
      },
      "execution_count": 20,
      "outputs": [
        {
          "output_type": "execute_result",
          "data": {
            "text/plain": [
              "0.9587278"
            ]
          },
          "metadata": {},
          "execution_count": 20
        }
      ]
    },
    {
      "cell_type": "markdown",
      "source": [
        "intersection with Miranda?"
      ],
      "metadata": {
        "id": "9iPAHStjQltA"
      }
    },
    {
      "cell_type": "code",
      "source": [
        "model.wv.similarity('ariel', 'slave')"
      ],
      "metadata": {
        "colab": {
          "base_uri": "https://localhost:8080/"
        },
        "id": "uMx0c5BhFU3e",
        "outputId": "0feaeead-6aa4-427b-a967-b08d3f67a0df"
      },
      "execution_count": 21,
      "outputs": [
        {
          "output_type": "execute_result",
          "data": {
            "text/plain": [
              "0.98073643"
            ]
          },
          "metadata": {},
          "execution_count": 21
        }
      ]
    },
    {
      "cell_type": "markdown",
      "source": [
        "this and next are VERY interesting"
      ],
      "metadata": {
        "id": "KlEY2ykvQon2"
      }
    },
    {
      "cell_type": "code",
      "source": [
        "model.wv.similarity('caliban', 'slave')"
      ],
      "metadata": {
        "colab": {
          "base_uri": "https://localhost:8080/"
        },
        "id": "rBZy8f1dFaWM",
        "outputId": "d4477764-5bbd-425a-9f99-c62fcc0b13dc"
      },
      "execution_count": 22,
      "outputs": [
        {
          "output_type": "execute_result",
          "data": {
            "text/plain": [
              "0.98558086"
            ]
          },
          "metadata": {},
          "execution_count": 22
        }
      ]
    },
    {
      "cell_type": "markdown",
      "source": [
        "ok--hypothesis--however the two roles have been interpreted by scholars, the text (as I surmised) does present both characters equally as enslaved.  What differs is the presentation of the character itself as demonized (monster) or idealized (spirit). See above"
      ],
      "metadata": {
        "id": "_PgbAQgbQukC"
      }
    },
    {
      "cell_type": "code",
      "source": [
        "model.wv.similarity('caliban', 'maid')"
      ],
      "metadata": {
        "colab": {
          "base_uri": "https://localhost:8080/"
        },
        "id": "RY5GpcbmFgv6",
        "outputId": "929aab93-313b-46d0-91c3-c0f82ff28b8b"
      },
      "execution_count": 23,
      "outputs": [
        {
          "output_type": "execute_result",
          "data": {
            "text/plain": [
              "0.9699431"
            ]
          },
          "metadata": {},
          "execution_count": 23
        }
      ]
    },
    {
      "cell_type": "markdown",
      "source": [
        "note how close this is to the ariel pairing--what are implications for the accusation of rape of Miranda"
      ],
      "metadata": {
        "id": "Z69kBzNzRIi-"
      }
    },
    {
      "cell_type": "code",
      "source": [
        "model.wv.similarity('prince', 'maid')"
      ],
      "metadata": {
        "colab": {
          "base_uri": "https://localhost:8080/"
        },
        "id": "x4u-lsmWFtpz",
        "outputId": "39f3c077-d722-47b1-ad8f-f826bb87015e"
      },
      "execution_count": 25,
      "outputs": [
        {
          "output_type": "execute_result",
          "data": {
            "text/plain": [
              "0.92818433"
            ]
          },
          "metadata": {},
          "execution_count": 25
        }
      ]
    },
    {
      "cell_type": "markdown",
      "source": [
        "marriage moments?"
      ],
      "metadata": {
        "id": "JgZAlky1RQjF"
      }
    },
    {
      "cell_type": "code",
      "source": [
        "model.wv.similarity('king', 'maid')"
      ],
      "metadata": {
        "colab": {
          "base_uri": "https://localhost:8080/"
        },
        "id": "qJdyrFFeFpES",
        "outputId": "0b2cb3d4-6c79-4157-c4f4-769239f79204"
      },
      "execution_count": 24,
      "outputs": [
        {
          "output_type": "execute_result",
          "data": {
            "text/plain": [
              "0.5652889"
            ]
          },
          "metadata": {},
          "execution_count": 24
        }
      ]
    },
    {
      "cell_type": "markdown",
      "source": [
        "strikingly not overlapping."
      ],
      "metadata": {
        "id": "UHUgDWRpRTQF"
      }
    }
  ]
}