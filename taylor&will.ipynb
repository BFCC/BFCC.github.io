{
  "nbformat": 4,
  "nbformat_minor": 0,
  "metadata": {
    "colab": {
      "provenance": [],
      "authorship_tag": "ABX9TyOrnFTa27sXbCrA5STir0XE",
      "include_colab_link": true
    },
    "kernelspec": {
      "name": "python3",
      "display_name": "Python 3"
    },
    "language_info": {
      "name": "python"
    }
  },
  "cells": [
    {
      "cell_type": "markdown",
      "metadata": {
        "id": "view-in-github",
        "colab_type": "text"
      },
      "source": [
        "<a href=\"https://colab.research.google.com/github/BFCC/BFCC.github.io/blob/main/taylor%26will.ipynb\" target=\"_parent\"><img src=\"https://colab.research.google.com/assets/colab-badge.svg\" alt=\"Open In Colab\"/></a>"
      ]
    },
    {
      "cell_type": "code",
      "execution_count": 1,
      "metadata": {
        "id": "WFmUmJC8ZnqF"
      },
      "outputs": [],
      "source": [
        "import re\n",
        "import nltk\n",
        "import numpy as np\n",
        "import matplotlib.pyplot as plt\n",
        "import random\n",
        "\n",
        "from gensim.models import Word2Vec\n",
        "\n",
        "from sklearn.decomposition import IncrementalPCA\n",
        "from sklearn.manifold import TSNE"
      ]
    },
    {
      "cell_type": "code",
      "source": [
        "import nltk\n",
        "nltk.download('punkt')"
      ],
      "metadata": {
        "colab": {
          "base_uri": "https://localhost:8080/"
        },
        "id": "NaudaXF9Z9BB",
        "outputId": "5bbc70e4-0321-4c95-ac82-d7de2c8ac53f"
      },
      "execution_count": 2,
      "outputs": [
        {
          "output_type": "stream",
          "name": "stderr",
          "text": [
            "[nltk_data] Downloading package punkt to /root/nltk_data...\n",
            "[nltk_data]   Unzipping tokenizers/punkt.zip.\n"
          ]
        },
        {
          "output_type": "execute_result",
          "data": {
            "text/plain": [
              "True"
            ]
          },
          "metadata": {},
          "execution_count": 2
        }
      ]
    },
    {
      "cell_type": "code",
      "source": [
        "file = open(\"taylorvsshakes 2.csv\", 'r').read()"
      ],
      "metadata": {
        "id": "wHAgZtkkaCxu"
      },
      "execution_count": 3,
      "outputs": []
    },
    {
      "cell_type": "code",
      "source": [
        "for char in [\"\\n\", \"\\r\", \"\\d\", \"\\t\"]:\n",
        "    file = file.replace(char, \" \")"
      ],
      "metadata": {
        "id": "jKPPa4UeaMpZ"
      },
      "execution_count": 4,
      "outputs": []
    },
    {
      "cell_type": "code",
      "source": [
        "print(file[:100])"
      ],
      "metadata": {
        "colab": {
          "base_uri": "https://localhost:8080/"
        },
        "id": "LYs5ycSjac30",
        "outputId": "fa2b2d72-137e-40ff-c520-00dc12fa4519"
      },
      "execution_count": 5,
      "outputs": [
        {
          "output_type": "stream",
          "name": "stdout",
          "text": [
            "Text,Author \"Nice to meet you, where you been?\",TAYLOR I could show you incredible things,TAYLOR \"Ma\n"
          ]
        }
      ]
    },
    {
      "cell_type": "code",
      "source": [
        "def sample_clean_text(text: str):\n",
        "\n",
        "    sentences = nltk.sent_tokenize(text)\n",
        "\n",
        "\n",
        "    tokenized_sentences = [nltk.word_tokenize(sent) for sent in sentences]\n",
        "\n",
        "\n",
        "    tokenized_text = [[word.lower() for word in sent] for sent in tokenized_sentences]\n",
        "\n",
        "\n",
        "    return tokenized_text\n",
        "\n",
        "\n",
        "tokens = sample_clean_text(text = file)\n",
        "\n",
        "\n",
        "print(tokens[:10])"
      ],
      "metadata": {
        "colab": {
          "base_uri": "https://localhost:8080/"
        },
        "id": "EFjYlVx7alwk",
        "outputId": "3bd69206-2404-4138-9c05-0865aee8fd2b"
      },
      "execution_count": 6,
      "outputs": [
        {
          "output_type": "stream",
          "name": "stdout",
          "text": [
            "[['text', ',', 'author', '``', 'nice', 'to', 'meet', 'you', ',', 'where', 'you', 'been', '?'], ['``', ',', 'taylor', 'i', 'could', 'show', 'you', 'incredible', 'things', ',', 'taylor', '``', 'magic', ',', 'madness', ',', 'heaven', 'sin', \"''\", ',', 'taylor', 'saw', 'you', 'there', 'and', 'i', 'thought', ',', 'taylor', '``', 'oh', 'my', 'god', ',', 'look', 'at', 'that', 'face', \"''\", ',', 'taylor', 'you', 'look', 'like', 'my', 'next', 'mistake', ',', 'taylor', '``', 'love', \"'s\", 'a', 'game', ',', 'want', 'to', 'play', '?'], ['``', ',', 'taylor', '``', 'new', 'money', ',', 'suit', 'and', 'tie', \"''\", ',', 'taylor', 'i', 'can', 'read', 'you', 'like', 'a', 'magazine', ',', 'taylor', '``', 'ai', \"n't\", 'it', 'funny', ',', 'rumors', ',', 'lie', \"''\", ',', 'taylor', 'and', 'i', 'know', 'you', 'heard', 'about', 'me', ',', 'taylor', '``', 'so', 'hey', ',', 'let', \"'s\", 'be', 'friends', \"''\", ',', 'taylor', 'i', \"'m\", 'dying', 'to', 'see', 'how', 'this', 'one', 'ends', ',', 'taylor', 'grab', 'your', 'passport', 'and', 'my', 'hand', ',', 'taylor', 'i', 'can', 'make', 'the', 'bad', 'guys', 'good', 'for', 'a', 'weekend', ',', 'taylor', 'so', 'it', \"'s\", 'gon', 'na', 'be', 'forever', ',', 'taylor', 'or', 'it', \"'s\", 'gon', 'na', 'go', 'down', 'in', 'flames', ',', 'taylor', 'you', 'can', 'tell', 'me', 'when', 'it', \"'s\", 'over', ',', 'taylor', 'if', 'the', 'high', 'was', 'worth', 'the', 'pain', ',', 'taylor', 'got', 'a', 'long', 'list', 'of', 'ex-lovers', ',', 'taylor', 'they', \"'ll\", 'tell', 'you', 'i', \"'m\", 'insane', ',', 'taylor', 'cause', 'you', 'know', 'i', 'love', 'the', 'players', ',', 'taylor', 'and', 'you', 'love', 'the', 'game', ',', 'taylor', 'cause', 'we', \"'re\", 'young', 'and', 'we', \"'re\", 'reckless', ',', 'taylor', 'we', \"'ll\", 'take', 'this', 'way', 'too', 'far', ',', 'taylor', 'it', \"'ll\", 'leave', 'you', 'breathless', ',', 'taylor', 'or', 'with', 'a', 'nasty', 'scar', ',', 'taylor', 'got', 'a', 'long', 'list', 'of', 'ex-lovers', ',', 'taylor', 'they', \"'ll\", 'tell', 'you', 'i', \"'m\", 'insane', ',', 'taylor', 'but', 'i', \"'ve\", 'got', 'a', 'blank', 'space', 'baby', ',', 'taylor', 'and', 'i', \"'ll\", 'write', 'your', 'name', ',', 'taylor', '``', 'cherry', 'lips', ',', 'crystal', 'skies', \"''\", ',', 'taylor', 'i', 'could', 'show', 'you', 'incredible', 'things', ',', 'taylor', '``', 'stolen', 'kisses', ',', 'pretty', 'lies', \"''\", ',', 'taylor', 'you', \"'re\", 'the', 'king', 'baby', 'i', \"'m\", 'your', 'queen', ',', 'taylor', 'find', 'out', 'what', 'you', 'want', ',', 'taylor', 'be', 'that', 'girl', 'for', 'a', 'month', ',', 'taylor', '``', 'wait', 'the', 'worst', 'is', 'yet', 'to', 'come', ',', 'oh', 'no', \"''\", ',', 'taylor', '``', 'screaming', ',', 'crying', ',', 'perfect', 'storm', \"''\", ',', 'taylor', 'i', 'can', 'make', 'all', 'the', 'tables', 'turn', ',', 'taylor', 'rose', 'gardens', 'filled', 'with', 'thorns', ',', 'taylor', 'keep', 'you', 'second', 'guessing', 'like', ',', 'taylor', '``', \"''\", \"''\", 'oh', 'my', 'god', ',', 'who', 'is', 'she', '?'], ['``', '``', \"''\", ',', 'taylor', 'i', 'get', 'drunk', 'on', 'jealousy', ',', 'taylor', 'but', 'you', \"'ll\", 'come', 'back', 'each', 'time', 'you', 'leave', ',', 'taylor', 'cause', 'darling', 'i', \"'m\", 'a', 'nightmare', 'dressed', 'like', 'a', 'daydream', ',', 'taylor', 'i', 'do', \"n't\", 'like', 'your', 'little', 'games', ',', 'taylor', 'do', \"n't\", 'like', 'your', 'tilted', 'stage', ',', 'taylor', 'the', 'role', 'you', 'made', 'me', 'play', ',', 'taylor', '``', 'of', 'the', 'fool', ',', 'no', ',', 'i', 'do', \"n't\", 'like', 'you', \"''\", ',', 'taylor', 'i', 'do', \"n't\", 'like', 'your', 'perfect', 'crime', ',', 'taylor', 'how', 'you', 'laugh', 'when', 'you', 'lie', ',', 'taylor', 'you', 'said', 'the', 'gun', 'was', 'mine', ',', 'taylor', '``', 'is', \"n't\", 'cool', ',', 'no', ',', 'i', 'do', \"n't\", 'like', 'you', \"''\", ',', 'taylor', '``', 'but', 'i', 'got', 'smarter', ',', 'i', 'got', 'harder', 'in', 'the', 'nick', 'of', 'time', \"''\", ',', 'taylor', '``', 'honey', ',', 'i', 'rose', 'up', 'from', 'the', 'dead', ',', 'i', 'do', 'it', 'all', 'the', 'time', \"''\", ',', 'taylor', '``', 'i', \"'ve\", 'got', 'a', 'list', 'of', 'names', 'and', 'yours', 'is', 'in', 'red', ',', 'underlined', \"''\", ',', 'taylor', '``', 'i', 'check', 'it', 'once', ',', 'then', 'i', 'check', 'it', 'twice', \"''\", ',', 'taylor', 'i', 'do', \"n't\", 'like', 'your', 'kingdom', 'keys', ',', 'taylor', 'they', 'once', 'belonged', 'to', 'me', ',', 'taylor', 'you', 'ask', 'me', 'for', 'a', 'place', 'to', 'sleep', ',', 'taylor', 'locked', 'me', 'out', 'and', 'threw', 'a', 'feast', ',', 'taylor', '``', 'the', 'world', 'moves', 'on', ',', 'another', 'day', ',', 'another', 'drama', ',', 'drama', \"''\", ',', 'taylor', '``', 'but', 'not', 'for', 'me', ',', 'not', 'for', 'me', ',', 'all', 'i', 'think', 'about', 'is', 'karma', \"''\", ',', 'taylor', '``', 'and', 'then', 'the', 'world', 'moves', 'on', ',', 'but', 'one', 'thing', \"'s\", 'for', 'sure', \"''\", ',', 'taylor', '``', 'maybe', 'i', 'got', 'mine', ',', 'but', 'you', \"'ll\", 'all', 'get', 'yours', \"''\", ',', 'taylor', 'you', 'are', 'somebody', 'that', 'i', 'do', \"n't\", 'know', ',', 'taylor', 'but', 'you', \"'re\", 'takin', \"'\", 'shots', 'at', 'me', 'like', 'it', \"'s\", 'patrón', ',', 'taylor', '``', 'and', 'i', \"'m\", 'just', 'like', ',', 'damn', ',', 'it', \"'s\", '7', 'am', \"''\", ',', 'taylor', '``', 'say', 'it', 'in', 'the', 'street', ',', 'that', \"'s\", 'a', 'knock-out', \"''\", ',', 'taylor', '``', 'but', 'you', 'say', 'it', 'in', 'a', 'tweet', ',', 'that', \"'s\", 'a', 'cop-out', \"''\", ',', 'taylor', '``', 'and', 'i', \"'m\", 'just', 'like', ',', '``', \"''\", 'hey', ',', 'are', 'you', 'okay', '?'], ['``', '``', \"''\", ',', 'taylor', 'and', 'i', 'ai', \"n't\", 'tryna', 'mess', 'with', 'your', 'self-expression', ',', 'taylor', 'but', 'i', \"'ve\", 'learned', 'a', 'lesson', 'that', 'stressin', \"'\", 'and', 'obsessin', \"'\", \"'bout\", 'somebody', 'else', 'is', 'no', 'fun', ',', 'taylor', 'and', 'snakes', 'and', 'stones', 'never', 'broke', 'my', 'bones', ',', 'taylor', '``', 'you', 'need', 'to', 'calm', 'down', ',', 'you', \"'re\", 'being', 'too', 'loud', \"''\", ',', 'taylor', 'you', 'need', 'to', 'just', 'stop', ',', 'taylor', 'like', 'can', 'you', 'just', 'not', 'step', 'on', 'my', 'gown', '?', ',', 'taylor', 'you', 'need', 'to', 'calm', 'down', ',', 'taylor', 'you', 'are', 'somebody', 'that', 'we', 'do', \"n't\", 'know', ',', 'taylor', 'but', 'you', \"'re\", 'comin', \"'\", 'at', 'my', 'friends', 'like', 'a', 'missile', ',', 'taylor', 'why', 'are', 'you', 'mad', '?', ',', 'taylor', 'when', 'you', 'could', 'be', 'glaad', '?'], ['(', 'you', 'could', 'be', 'glaad', ')', ',', 'taylor', 'sunshine', 'on', 'the', 'street', 'at', 'the', 'parade', ',', 'taylor', 'but', 'you', 'would', 'rather', 'be', 'in', 'the', 'dark', 'age', ',', 'taylor', 'just', 'makin', \"'\", 'that', 'sign', 'must', \"'ve\", 'taken', 'all', 'night', ',', 'taylor', 'you', 'just', 'need', 'to', 'take', 'several', 'seats', 'and', 'then', 'try', 'to', 'restore', 'the', 'peace', ',', 'taylor', 'and', 'control', 'your', 'urges', 'to', 'scream', 'about', 'all', 'the', 'people', 'you', 'hate', ',', 'taylor', 'cause', 'shade', 'never', 'made', 'anybody', 'less', 'gay', ',', 'taylor', 'and', 'we', 'see', 'you', 'over', 'there', 'on', 'the', 'internet', ',', 'taylor', 'comparing', 'all', 'the', 'girls', 'who', 'are', 'killing', 'it', ',', 'taylor', 'but', 'we', 'figured', 'you', 'out', ',', 'taylor', 'we', 'all', 'know', 'now', 'we', 'all', 'got', 'crowns', ',', 'taylor', 'you', 'need', 'to', 'calm', 'down', ',', 'taylor', 'we', 'could', 'leave', 'the', 'christmas', 'lights', 'up', \"'til\", 'january', ',', 'taylor', '``', 'this', 'is', 'our', 'place', ',', 'we', 'make', 'the', 'rules', \"''\", ',', 'taylor', '``', 'and', 'there', \"'s\", 'a', 'dazzling', 'haze', ',', 'a', 'mysterious', 'way', 'about', 'you', ',', 'dear', \"''\", ',', 'taylor', 'have', 'i', 'known', 'you', 'twenty', 'seconds', 'or', 'twenty', 'years', '?', ',', 'taylor', 'can', 'i', 'go', 'where', 'you', 'go', '?', ',', 'taylor', 'can', 'we', 'always', 'be', 'this', 'close', 'forever', 'and', 'ever', '?', ',', 'taylor', '``', 'and', 'ah', ',', 'take', 'me', 'out', ',', 'and', 'take', 'me', 'home', \"''\", ',', 'taylor', '``', 'you', \"'re\", 'my', ',', 'my', ',', 'my', ',', 'my', 'lover', \"''\", ',', 'taylor', 'we', 'could', 'let', 'our', 'friends', 'crash', 'in', 'the', 'living', 'room', ',', 'taylor', '``', 'this', 'is', 'our', 'place', ',', 'we', 'make', 'the', 'call', \"''\", ',', 'taylor', 'and', 'i', \"'m\", 'highly', 'suspicious', 'that', 'everyone', 'who', 'sees', 'you', 'wants', 'you', ',', 'taylor', '``', 'i', \"'ve\", 'loved', 'you', 'three', 'summers', 'now', ',', 'honey', ',', 'but', 'i', 'want', \"'em\", 'all', \"''\", ',', 'taylor', '``', 'ladies', 'and', 'gentlemen', ',', 'will', 'you', 'please', 'stand', '?'], ['``', ',', 'taylor', 'with', 'every', 'guitar', 'string', 'scar', 'on', 'my', 'hand', ',', 'taylor', 'i', 'take', 'this', 'magnetic', 'force', 'of', 'a', 'man', 'to', 'be', 'my', 'lover', ',', 'taylor', 'my', 'heart', \"'s\", 'been', 'borrowed', 'and', 'yours', 'has', 'been', 'blue', ',', 'taylor', 'all', \"'s\", 'well', 'that', 'ends', 'well', 'to', 'end', 'up', 'with', 'you', ',', 'taylor', 'swear', 'to', 'be', 'overdramatic', 'and', 'true', 'to', 'my', 'lover', ',', 'taylor', 'and', 'you', \"'ll\", 'save', 'all', 'your', 'dirtiest', 'jokes', 'for', 'me', ',', 'taylor', '``', 'and', 'at', 'every', 'table', ',', 'i', \"'ll\", 'save', 'you', 'a', 'seat', ',', 'lover', \"''\", ',', 'taylor', 'shall', 'i', 'compare', 'thee', 'to', 'a', 'summer', \"'s\", 'day', '?', ',', 'shakes', 'thou', 'art', 'more', 'lovely', 'and', 'more', 'temperate', ':', ',shakes', '``', 'rough', 'winds', 'do', 'shake', 'the', 'darling', 'buds', 'of', 'may', ',', \"''\", ',', 'shakes', 'and', 'summer', \"'s\", 'lease', 'hath', 'all', 'too', 'short', 'a', 'date', ':', ',shakes', '``', 'sometime', 'too', 'hot', 'the', 'eye', 'of', 'heaven', 'shines', ',', \"''\", ',', 'shakes', 'and', 'often', 'is', 'his', 'gold', 'complexion', 'dimm', \"'d\", ';', ',', 'shakes', '``', 'and', 'every', 'fair', 'from', 'fair', 'sometime', 'declines', ',', \"''\", ',', 'shakes', 'by', 'chance', 'or', 'nature', \"'s\", 'changing', 'course', 'untrimm', \"'d\", ';', ',', 'shakes', 'but', 'thy', 'eternal', 'summer', 'shall', 'not', 'fade', ',', 'shakes', 'nor', 'lose', 'possession', 'of', 'that', 'fair', 'thou', 'owest', ';', ',', 'shakes', '``', 'nor', 'shall', 'death', 'brag', 'thou', \"wander'st\", 'in', 'his', 'shade', ',', \"''\", ',', 'shakes', 'when', 'in', 'eternal', 'lines', 'to', 'time', 'thou', 'growest', ':', ',shakes', '``', 'so', 'long', 'as', 'men', 'can', 'breathe', 'or', 'eyes', 'can', 'see', ',', \"''\", ',', 'shakes', 'so', 'long', 'lives', 'this', 'and', 'this', 'gives', 'life', 'to', 'thee.', ',', 'shakes', 'that', 'time', 'of', 'year', 'thou', 'mayst', 'in', 'me', 'behold', ',', 'shakes', '``', 'when', 'yellow', 'leaves', ',', 'or', 'none', ',', 'or', 'few', ',', 'do', 'hang', \"''\", ',', 'shakes', '``', 'upon', 'those', 'boughs', 'which', 'shake', 'against', 'the', 'cold', ',', \"''\", ',', 'shakes', '``', 'bare', 'ruin', \"'d\", 'choirs', ',', 'where', 'late', 'the', 'sweet', 'birds', 'sang', '.'], ['``', ',', 'shakes', 'in', 'me', 'thou', \"see'st\", 'the', 'twilight', 'of', 'such', 'day', ',', 'shakes', '``', 'as', 'after', 'sunset', 'fadeth', 'in', 'the', 'west', ',', \"''\", ',', 'shakes', '``', 'which', 'by', 'and', 'by', 'black', 'night', 'doth', 'take', 'away', ',', \"''\", ',', 'shakes', '``', 'death', \"'s\", 'second', 'self', ',', 'that', 'seals', 'up', 'all', 'in', 'rest', '.'], ['``', ',', 'shakes', 'in', 'me', 'thou', \"see'st\", 'the', 'glowing', 'of', 'such', 'fire', ',', 'shakes', '``', 'that', 'on', 'the', 'ashes', 'of', 'his', 'youth', 'doth', 'lie', ',', \"''\", ',', 'shakes', '``', 'as', 'the', 'death-bed', 'whereon', 'it', 'must', 'expire', ',', \"''\", ',', 'shakes', 'consum', \"'d\", 'with', 'that', 'which', 'it', 'was', 'nourish', \"'d\", 'by.', ',', 'shakes', '``', 'this', 'thou', \"perceiv'st\", ',', 'which', 'makes', 'thy', 'love', 'more', 'strong', ',', \"''\", ',', 'shakes', 'to', 'love', 'that', 'well', 'which', 'thou', 'must', 'leave', 'ere', 'long.', ',', 'shakes', 'let', 'me', 'not', 'to', 'the', 'marriage', 'of', 'true', 'minds', ',', 'shakes', 'admit', 'impediments', '.'], ['love', 'is', 'not', 'love', ',', 'shakes', '``', 'which', 'alters', 'when', 'it', 'alteration', 'finds', ',', \"''\", ',', 'shakes', 'or', 'bends', 'with', 'the', 'remover', 'to', 'remove.', ',', 'shakes', 'o', 'no', '!']]\n"
          ]
        }
      ]
    },
    {
      "cell_type": "code",
      "source": [
        "model = Word2Vec(tokens,vector_size=100)"
      ],
      "metadata": {
        "id": "HABwz-ona2ld"
      },
      "execution_count": 7,
      "outputs": []
    },
    {
      "cell_type": "code",
      "source": [
        "model.wv.key_to_index"
      ],
      "metadata": {
        "colab": {
          "base_uri": "https://localhost:8080/"
        },
        "id": "cOALiNjCa7ea",
        "outputId": "3b3fa58c-7ffe-4983-abbf-2246b19e2926"
      },
      "execution_count": 8,
      "outputs": [
        {
          "output_type": "execute_result",
          "data": {
            "text/plain": [
              "{',': 0,\n",
              " '``': 1,\n",
              " 'taylor': 2,\n",
              " \"''\": 3,\n",
              " 'shakes': 4,\n",
              " 'the': 5,\n",
              " 'i': 6,\n",
              " 'and': 7,\n",
              " 'you': 8,\n",
              " 'to': 9,\n",
              " 'of': 10,\n",
              " \"'s\": 11,\n",
              " 'a': 12,\n",
              " 'that': 13,\n",
              " 'in': 14,\n",
              " 'my': 15,\n",
              " 'is': 16,\n",
              " 'it': 17,\n",
              " ';': 18,\n",
              " 'but': 19,\n",
              " 'be': 20,\n",
              " 'we': 21,\n",
              " 'on': 22,\n",
              " \"n't\": 23,\n",
              " 'me': 24,\n",
              " 'love': 25,\n",
              " 'do': 26,\n",
              " 'like': 27,\n",
              " 'shake': 28,\n",
              " 'with': 29,\n",
              " 'your': 30,\n",
              " 'all': 31,\n",
              " '.': 32,\n",
              " 'this': 33,\n",
              " 'for': 34,\n",
              " 'so': 35,\n",
              " 'not': 36,\n",
              " '?': 37,\n",
              " \"'d\": 38,\n",
              " \"'ll\": 39,\n",
              " 'as': 40,\n",
              " \"'m\": 41,\n",
              " \"'\": 42,\n",
              " 'mmm': 43,\n",
              " 'what': 44,\n",
              " 'can': 45,\n",
              " 'when': 46,\n",
              " 'know': 47,\n",
              " 'his': 48,\n",
              " 'see': 49,\n",
              " 'got': 50,\n",
              " 'go': 51,\n",
              " 'or': 52,\n",
              " 'just': 53,\n",
              " 'from': 54,\n",
              " 'no': 55,\n",
              " 'there': 56,\n",
              " 'gon': 57,\n",
              " 'na': 58,\n",
              " 'say': 59,\n",
              " 'he': 60,\n",
              " ':': 61,\n",
              " 'make': 62,\n",
              " 'which': 63,\n",
              " 'up': 64,\n",
              " 'out': 65,\n",
              " 'take': 66,\n",
              " 'thou': 67,\n",
              " 'more': 68,\n",
              " 'they': 69,\n",
              " 'our': 70,\n",
              " 'was': 71,\n",
              " 'if': 72,\n",
              " 'never': 73,\n",
              " 'their': 74,\n",
              " \"'re\": 75,\n",
              " 'have': 76,\n",
              " 'are': 77,\n",
              " 'said': 78,\n",
              " 'could': 79,\n",
              " 'play': 80,\n",
              " 'were': 81,\n",
              " 'fair': 82,\n",
              " 'eyes': 83,\n",
              " 'baby': 84,\n",
              " 'time': 85,\n",
              " 'then': 86,\n",
              " 'by': 87,\n",
              " ',shakes': 88,\n",
              " 'at': 89,\n",
              " 'her': 90,\n",
              " 'now': 91,\n",
              " 'hate': 92,\n",
              " \"'ve\": 93,\n",
              " 'come': 94,\n",
              " 'let': 95,\n",
              " 'break': 96,\n",
              " 'too': 97,\n",
              " 'cause': 98,\n",
              " 'sleep': 99,\n",
              " 'off': 100,\n",
              " 'where': 101,\n",
              " 'us': 102,\n",
              " 'whose': 103,\n",
              " 'death': 104,\n",
              " 'down': 105,\n",
              " 'oh': 106,\n",
              " 'shall': 107,\n",
              " 'every': 108,\n",
              " 'long': 109,\n",
              " 'people': 110,\n",
              " 'need': 111,\n",
              " 'who': 112,\n",
              " 'fake': 113,\n",
              " 'will': 114}"
            ]
          },
          "metadata": {},
          "execution_count": 8
        }
      ]
    },
    {
      "cell_type": "code",
      "source": [
        "model.wv.get_vector(\"death\", norm=True)"
      ],
      "metadata": {
        "colab": {
          "base_uri": "https://localhost:8080/"
        },
        "id": "X442cKmebCGL",
        "outputId": "980b7bb2-ad84-4629-a737-f3487b831ab5"
      },
      "execution_count": 9,
      "outputs": [
        {
          "output_type": "execute_result",
          "data": {
            "text/plain": [
              "array([ 0.03732007,  0.14967726, -0.00601758, -0.02490525,  0.08126235,\n",
              "       -0.1882974 ,  0.14207923,  0.2374641 , -0.09849568, -0.11770702,\n",
              "        0.00891372, -0.21229823,  0.04152203,  0.05256933,  0.04083044,\n",
              "       -0.1327475 ,  0.12131168, -0.06315383, -0.09185275, -0.27652737,\n",
              "        0.05991343,  0.06557025,  0.08306471, -0.10013004,  0.01047172,\n",
              "       -0.01434702, -0.1105504 ,  0.02169454, -0.1068116 , -0.04092912,\n",
              "        0.10041431, -0.04990015,  0.11182851, -0.1850298 , -0.1319202 ,\n",
              "        0.06711014,  0.04578491, -0.02195937,  0.02760672, -0.17083587,\n",
              "        0.06924748, -0.07316588, -0.05699669, -0.01883047,  0.07726715,\n",
              "       -0.03924341, -0.10877076, -0.06623753,  0.03971658,  0.06305327,\n",
              "        0.00987042, -0.1204038 ,  0.03692139, -0.05199769, -0.04035149,\n",
              "       -0.00264712,  0.06280641,  0.00169137, -0.09158985,  0.05827159,\n",
              "        0.0639695 , -0.10219302,  0.09591613,  0.03842493, -0.03904617,\n",
              "        0.18796057,  0.02721249,  0.1034448 , -0.22831947,  0.10132696,\n",
              "       -0.05286708,  0.11979606,  0.14205733, -0.00581857,  0.12102187,\n",
              "        0.00241731,  0.03833797,  0.04771675, -0.0637072 , -0.01017911,\n",
              "       -0.06721009, -0.01326525, -0.14343129,  0.14936896, -0.05797569,\n",
              "       -0.0758439 ,  0.20037125,  0.02501588,  0.10230713,  0.05815094,\n",
              "        0.1566133 ,  0.10802281,  0.08699723, -0.02572669,  0.23058341,\n",
              "        0.07243372,  0.04487451,  0.01122305,  0.04692508, -0.05275082],\n",
              "      dtype=float32)"
            ]
          },
          "metadata": {},
          "execution_count": 9
        }
      ]
    },
    {
      "cell_type": "code",
      "source": [
        "model.wv.most_similar('death')"
      ],
      "metadata": {
        "colab": {
          "base_uri": "https://localhost:8080/"
        },
        "id": "S4GRq9rdbO3z",
        "outputId": "0fa49ef7-caeb-4053-ae09-591e3040c551"
      },
      "execution_count": 10,
      "outputs": [
        {
          "output_type": "execute_result",
          "data": {
            "text/plain": [
              "[('``', 0.9946966767311096),\n",
              " ('taylor', 0.9945957064628601),\n",
              " ('shakes', 0.994552493095398),\n",
              " (',', 0.9945502877235413),\n",
              " ('my', 0.9945136308670044),\n",
              " ('a', 0.9944970607757568),\n",
              " (\"''\", 0.9943837523460388),\n",
              " ('the', 0.9943334460258484),\n",
              " ('of', 0.9942627549171448),\n",
              " ('you', 0.9941490888595581)]"
            ]
          },
          "metadata": {},
          "execution_count": 10
        }
      ]
    },
    {
      "cell_type": "code",
      "source": [
        "model.wv.get_vector(\"love\", norm=True)"
      ],
      "metadata": {
        "colab": {
          "base_uri": "https://localhost:8080/"
        },
        "id": "uhVg15qXbWZL",
        "outputId": "3fa92720-5d0b-4f74-8c43-880d7ec28023"
      },
      "execution_count": 11,
      "outputs": [
        {
          "output_type": "execute_result",
          "data": {
            "text/plain": [
              "array([ 0.03869933,  0.14505129, -0.00673938, -0.01762222,  0.07354008,\n",
              "       -0.17575277,  0.14685652,  0.23534706, -0.10783093, -0.11470313,\n",
              "        0.00172757, -0.21102771,  0.02784563,  0.05041481,  0.03290256,\n",
              "       -0.14027373,  0.13312502, -0.07480015, -0.10397276, -0.29327995,\n",
              "        0.04916355,  0.07043865,  0.06557265, -0.09706345, -0.00492925,\n",
              "        0.00125061, -0.12142361,  0.01112762, -0.09159099, -0.02570204,\n",
              "        0.11491308, -0.0427514 ,  0.08839045, -0.19190884, -0.13617896,\n",
              "        0.07346626,  0.03777103, -0.02054047,  0.01936608, -0.19889972,\n",
              "        0.05533275, -0.07105474, -0.04582891, -0.02469933,  0.09081151,\n",
              "       -0.03020617, -0.10515442, -0.05755127,  0.03219212,  0.07153885,\n",
              "        0.00192083, -0.11675661,  0.01618808, -0.05268459, -0.03519103,\n",
              "       -0.00935916,  0.06021016,  0.01043542, -0.10662184,  0.05558914,\n",
              "        0.07323193, -0.09001484,  0.10653879,  0.04704834, -0.04854148,\n",
              "        0.18470669,  0.02150476,  0.09679823, -0.2215865 ,  0.09011019,\n",
              "       -0.05329921,  0.12376659,  0.13487518, -0.01599266,  0.1396856 ,\n",
              "       -0.01875927,  0.01722644,  0.04760601, -0.04898538, -0.02452314,\n",
              "       -0.0548458 , -0.01847903, -0.14561841,  0.14439543, -0.04442883,\n",
              "       -0.07401545,  0.21390635,  0.03187418,  0.10765053,  0.07088247,\n",
              "        0.1471063 ,  0.09306046,  0.10034642, -0.01094967,  0.21480054,\n",
              "        0.05391667,  0.03954504,  0.00258819,  0.03833535, -0.04207865],\n",
              "      dtype=float32)"
            ]
          },
          "metadata": {},
          "execution_count": 11
        }
      ]
    },
    {
      "cell_type": "code",
      "source": [
        "model.wv.most_similar('love')"
      ],
      "metadata": {
        "colab": {
          "base_uri": "https://localhost:8080/"
        },
        "id": "RZIc55YNbd7b",
        "outputId": "8630d978-1812-42ec-b682-c8e4cf1c024c"
      },
      "execution_count": 12,
      "outputs": [
        {
          "output_type": "execute_result",
          "data": {
            "text/plain": [
              "[(',', 0.998344361782074),\n",
              " ('i', 0.9982649683952332),\n",
              " (\"''\", 0.9981521964073181),\n",
              " ('taylor', 0.9981345534324646),\n",
              " ('shakes', 0.9980949759483337),\n",
              " ('``', 0.9980793595314026),\n",
              " ('that', 0.9980533719062805),\n",
              " ('the', 0.9980270266532898),\n",
              " (\"'s\", 0.9979459047317505),\n",
              " ('and', 0.9979361891746521)]"
            ]
          },
          "metadata": {},
          "execution_count": 12
        }
      ]
    },
    {
      "cell_type": "code",
      "source": [
        "model.wv.get_vector(\"mmm\", norm=True)"
      ],
      "metadata": {
        "colab": {
          "base_uri": "https://localhost:8080/"
        },
        "id": "t_ZxZOovbtHr",
        "outputId": "b4be3cc3-ed5b-48a1-a689-2f5a4dc703bd"
      },
      "execution_count": 13,
      "outputs": [
        {
          "output_type": "execute_result",
          "data": {
            "text/plain": [
              "array([ 0.02743972,  0.13163498, -0.01500742, -0.02037563,  0.07647328,\n",
              "       -0.18186069,  0.15050493,  0.23533241, -0.10521757, -0.12333383,\n",
              "        0.01411603, -0.22555228,  0.02776257,  0.05553158,  0.03868165,\n",
              "       -0.13608372,  0.12726419, -0.07851797, -0.09272287, -0.29415202,\n",
              "        0.04875661,  0.06505334,  0.07254047, -0.09541202, -0.00300066,\n",
              "       -0.00671285, -0.11255924,  0.01399268, -0.08725787, -0.03990055,\n",
              "        0.11129236, -0.03683847,  0.10355371, -0.18709745, -0.13544007,\n",
              "        0.06130896,  0.03250006, -0.02551309,  0.01204846, -0.18967839,\n",
              "        0.05731816, -0.0627571 , -0.05964075, -0.02100167,  0.09645843,\n",
              "       -0.02627806, -0.1043077 , -0.04602854,  0.02698823,  0.07651369,\n",
              "        0.00656581, -0.11276673,  0.02566782, -0.04492257, -0.03118272,\n",
              "       -0.00282771,  0.07336242,  0.00786697, -0.09278889,  0.05960841,\n",
              "        0.06312086, -0.09067119,  0.10957237,  0.0477951 , -0.06519677,\n",
              "        0.18018417,  0.01238544,  0.10718615, -0.20842549,  0.09046295,\n",
              "       -0.0376673 ,  0.12383008,  0.14756873, -0.0055691 ,  0.13601495,\n",
              "       -0.02411626,  0.030318  ,  0.03573643, -0.05626161, -0.0298302 ,\n",
              "       -0.06643038, -0.01920188, -0.13890515,  0.1431895 , -0.03333246,\n",
              "       -0.06785293,  0.2144061 ,  0.02608065,  0.11523739,  0.07305954,\n",
              "        0.1561775 ,  0.10121112,  0.08703495,  0.00073035,  0.22290839,\n",
              "        0.07009612,  0.04117844, -0.00850023,  0.0438059 , -0.04305873],\n",
              "      dtype=float32)"
            ]
          },
          "metadata": {},
          "execution_count": 13
        }
      ]
    },
    {
      "cell_type": "code",
      "source": [
        "model.wv.most_similar('mmm')"
      ],
      "metadata": {
        "colab": {
          "base_uri": "https://localhost:8080/"
        },
        "id": "vLjKmMyeb2IP",
        "outputId": "978b3f89-e31a-4df3-8f8b-657788ca4068"
      },
      "execution_count": 14,
      "outputs": [
        {
          "output_type": "execute_result",
          "data": {
            "text/plain": [
              "[(',', 0.9987058043479919),\n",
              " ('``', 0.9983758926391602),\n",
              " ('of', 0.9983509182929993),\n",
              " (\"''\", 0.9983238577842712),\n",
              " ('you', 0.998282253742218),\n",
              " ('to', 0.9982641339302063),\n",
              " ('the', 0.9981599450111389),\n",
              " (\"'s\", 0.9981294870376587),\n",
              " ('a', 0.9981272220611572),\n",
              " ('and', 0.9981270432472229)]"
            ]
          },
          "metadata": {},
          "execution_count": 14
        }
      ]
    },
    {
      "cell_type": "code",
      "source": [
        "model.wv.get_vector(\"will\", norm=True)"
      ],
      "metadata": {
        "colab": {
          "base_uri": "https://localhost:8080/"
        },
        "id": "-UqlX6Chb-il",
        "outputId": "ccb2d4d2-41bf-40c8-eaa6-001ea84eca97"
      },
      "execution_count": 15,
      "outputs": [
        {
          "output_type": "execute_result",
          "data": {
            "text/plain": [
              "array([ 0.04890462,  0.15061645, -0.0259628 , -0.02852299,  0.05696489,\n",
              "       -0.1670265 ,  0.17009224,  0.21885936, -0.12685007, -0.12042943,\n",
              "        0.00280561, -0.21551472,  0.03713944,  0.05116274,  0.05074117,\n",
              "       -0.12512584,  0.11011785, -0.06996835, -0.09645201, -0.3006    ,\n",
              "        0.0433888 ,  0.07914016,  0.08877099, -0.10077985, -0.01197877,\n",
              "       -0.004927  , -0.11912718, -0.00465451, -0.0889166 , -0.04674909,\n",
              "        0.10011875, -0.03376823,  0.08413515, -0.19102094, -0.1335842 ,\n",
              "        0.08480057,  0.02181308, -0.01713104,  0.00476477, -0.17590122,\n",
              "        0.07585592, -0.04731556, -0.05962211, -0.00349965,  0.10874093,\n",
              "       -0.02129218, -0.11086662, -0.04698379,  0.04119139,  0.06147755,\n",
              "        0.01064568, -0.10728984,  0.02530456, -0.05712559, -0.0313221 ,\n",
              "        0.00603616,  0.0604454 ,  0.01664931, -0.0865401 ,  0.05792908,\n",
              "        0.08264389, -0.07577629,  0.09605885,  0.05527743, -0.05140765,\n",
              "        0.18372233,  0.0108276 ,  0.08985939, -0.22534844,  0.09545581,\n",
              "       -0.05181446,  0.14619409,  0.14746451, -0.00390072,  0.1379622 ,\n",
              "       -0.01201429,  0.0246394 ,  0.02523865, -0.04600673, -0.01047421,\n",
              "       -0.05114901, -0.04428367, -0.12785786,  0.1265333 , -0.03662444,\n",
              "       -0.09239593,  0.22643374,  0.02749467,  0.10988171,  0.06711192,\n",
              "        0.14584701,  0.11180368,  0.10381292, -0.00205402,  0.2126844 ,\n",
              "        0.06527574,  0.05280123, -0.02488039,  0.02616883, -0.02907631],\n",
              "      dtype=float32)"
            ]
          },
          "metadata": {},
          "execution_count": 15
        }
      ]
    },
    {
      "cell_type": "code",
      "source": [
        "model.wv.most_similar('will')"
      ],
      "metadata": {
        "colab": {
          "base_uri": "https://localhost:8080/"
        },
        "id": "QwaIHQ_-cDhl",
        "outputId": "2d48bb3f-a397-45cf-f3dc-0761ba432897"
      },
      "execution_count": 16,
      "outputs": [
        {
          "output_type": "execute_result",
          "data": {
            "text/plain": [
              "[('and', 0.9934272170066833),\n",
              " ('the', 0.9934083223342896),\n",
              " ('i', 0.9932969808578491),\n",
              " ('that', 0.9931701421737671),\n",
              " (',', 0.9931309223175049),\n",
              " ('of', 0.9931129217147827),\n",
              " ('shakes', 0.9931001663208008),\n",
              " ('you', 0.9930810928344727),\n",
              " (\"''\", 0.9930498600006104),\n",
              " ('not', 0.9930294752120972)]"
            ]
          },
          "metadata": {},
          "execution_count": 16
        }
      ]
    },
    {
      "cell_type": "code",
      "source": [
        "model.wv.similarity('will', 'mmm')"
      ],
      "metadata": {
        "colab": {
          "base_uri": "https://localhost:8080/"
        },
        "id": "GPJcwTLUcNRY",
        "outputId": "86ad955b-24b7-4985-adf2-1571ba6a17df"
      },
      "execution_count": 17,
      "outputs": [
        {
          "output_type": "execute_result",
          "data": {
            "text/plain": [
              "0.9924109"
            ]
          },
          "metadata": {},
          "execution_count": 17
        }
      ]
    },
    {
      "cell_type": "code",
      "source": [
        "model.wv.similarity('will', 'love')"
      ],
      "metadata": {
        "colab": {
          "base_uri": "https://localhost:8080/"
        },
        "id": "xTmPShCscR5D",
        "outputId": "6837722f-c5c8-48d0-ddf0-3c44e6c54a38"
      },
      "execution_count": 18,
      "outputs": [
        {
          "output_type": "execute_result",
          "data": {
            "text/plain": [
              "0.9921148"
            ]
          },
          "metadata": {},
          "execution_count": 18
        }
      ]
    },
    {
      "cell_type": "code",
      "source": [
        "model.wv.similarity('will', 'taylor')"
      ],
      "metadata": {
        "colab": {
          "base_uri": "https://localhost:8080/"
        },
        "id": "mEyiI_QxcXzr",
        "outputId": "770e3962-a4ad-437e-da8e-808aaf86b59a"
      },
      "execution_count": 21,
      "outputs": [
        {
          "output_type": "execute_result",
          "data": {
            "text/plain": [
              "0.9928342"
            ]
          },
          "metadata": {},
          "execution_count": 21
        }
      ]
    },
    {
      "cell_type": "code",
      "source": [
        "model.wv.similarity('will', 'baby')"
      ],
      "metadata": {
        "colab": {
          "base_uri": "https://localhost:8080/"
        },
        "id": "DstGNLDZcha1",
        "outputId": "7738d032-f4ed-4b52-a6d6-449da5c0ef63"
      },
      "execution_count": 23,
      "outputs": [
        {
          "output_type": "execute_result",
          "data": {
            "text/plain": [
              "0.9890929"
            ]
          },
          "metadata": {},
          "execution_count": 23
        }
      ]
    },
    {
      "cell_type": "code",
      "source": [
        "model.wv.similarity('will', 'death')"
      ],
      "metadata": {
        "colab": {
          "base_uri": "https://localhost:8080/"
        },
        "id": "p7ICJSC5dU-e",
        "outputId": "8d75ddd8-105e-405c-fe7a-c07a7c0dfbdd"
      },
      "execution_count": 25,
      "outputs": [
        {
          "output_type": "execute_result",
          "data": {
            "text/plain": [
              "0.98794025"
            ]
          },
          "metadata": {},
          "execution_count": 25
        }
      ]
    }
  ]
}