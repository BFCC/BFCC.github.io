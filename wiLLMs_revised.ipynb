{
  "nbformat": 4,
  "nbformat_minor": 0,
  "metadata": {
    "colab": {
      "provenance": [],
      "authorship_tag": "ABX9TyN095Ohj1BhN650vo77PewP",
      "include_colab_link": true
    },
    "kernelspec": {
      "name": "python3",
      "display_name": "Python 3"
    },
    "language_info": {
      "name": "python"
    }
  },
  "cells": [
    {
      "cell_type": "markdown",
      "metadata": {
        "id": "view-in-github",
        "colab_type": "text"
      },
      "source": [
        "<a href=\"https://colab.research.google.com/github/BFCC/BFCC.github.io/blob/main/wiLLMs_revised.ipynb\" target=\"_parent\"><img src=\"https://colab.research.google.com/assets/colab-badge.svg\" alt=\"Open In Colab\"/></a>"
      ]
    },
    {
      "cell_type": "code",
      "execution_count": 6,
      "metadata": {
        "id": "B-e2OEqUQ4yh"
      },
      "outputs": [],
      "source": [
        "import re\n",
        "import nltk\n",
        "import numpy as np\n",
        "import matplotlib.pyplot as plt\n",
        "import random\n",
        "\n",
        "from gensim.models import Word2Vec\n",
        "\n",
        "from sklearn.decomposition import IncrementalPCA\n",
        "from sklearn.manifold import TSNE"
      ]
    },
    {
      "cell_type": "code",
      "source": [
        "file = open(\"input.txt\", 'r').read()"
      ],
      "metadata": {
        "id": "P36yrgKbRAbd"
      },
      "execution_count": 8,
      "outputs": []
    },
    {
      "cell_type": "code",
      "source": [
        "for char in [\"\\n\", \"\\r\", \"\\d\", \"\\t\"]:\n",
        "    file = file.replace(char, \" \")"
      ],
      "metadata": {
        "id": "Pw0f29YSRWAj"
      },
      "execution_count": 9,
      "outputs": []
    },
    {
      "cell_type": "code",
      "source": [
        "print(file[:100])"
      ],
      "metadata": {
        "colab": {
          "base_uri": "https://localhost:8080/"
        },
        "id": "Yk7DjeKqRXnO",
        "outputId": "4b0d4c10-91aa-4618-ed3f-2da83f59bfa7"
      },
      "execution_count": 10,
      "outputs": [
        {
          "output_type": "stream",
          "name": "stdout",
          "text": [
            "First Citizen: Before we proceed any further, hear me speak.  All: Speak, speak.  First Citizen: You\n"
          ]
        }
      ]
    },
    {
      "cell_type": "code",
      "source": [
        "import nltk\n",
        "nltk.download('punkt')"
      ],
      "metadata": {
        "colab": {
          "base_uri": "https://localhost:8080/"
        },
        "id": "Uk5L9TNwReCB",
        "outputId": "82abb6f1-1775-49fa-f735-630f08ba0095"
      },
      "execution_count": 11,
      "outputs": [
        {
          "output_type": "stream",
          "name": "stderr",
          "text": [
            "[nltk_data] Downloading package punkt to /root/nltk_data...\n",
            "[nltk_data]   Unzipping tokenizers/punkt.zip.\n"
          ]
        },
        {
          "output_type": "execute_result",
          "data": {
            "text/plain": [
              "True"
            ]
          },
          "metadata": {},
          "execution_count": 11
        }
      ]
    },
    {
      "cell_type": "code",
      "source": [
        "def sample_clean_text(text: str):\n",
        "    # step 1: tokenize the text into sentences\n",
        "    sentences = nltk.sent_tokenize(text)\n",
        "\n",
        "    # step 2: tokenize each sentence into words\n",
        "    tokenized_sentences = [nltk.word_tokenize(sent) for sent in sentences]\n",
        "\n",
        "    # step 3: convert each word to lowercase\n",
        "    tokenized_text = [[word.lower() for word in sent] for sent in tokenized_sentences]\n",
        "\n",
        "    # return your tokens\n",
        "    return tokenized_text\n",
        "\n",
        "# call the function\n",
        "tokens = sample_clean_text(text = file)\n",
        "\n",
        "# check\n",
        "print(tokens[:10])"
      ],
      "metadata": {
        "colab": {
          "base_uri": "https://localhost:8080/"
        },
        "id": "jxiBzIFvRjqm",
        "outputId": "eb445fbb-4f54-4395-c752-04e65728134a"
      },
      "execution_count": 12,
      "outputs": [
        {
          "output_type": "stream",
          "name": "stdout",
          "text": [
            "[['first', 'citizen', ':', 'before', 'we', 'proceed', 'any', 'further', ',', 'hear', 'me', 'speak', '.'], ['all', ':', 'speak', ',', 'speak', '.'], ['first', 'citizen', ':', 'you', 'are', 'all', 'resolved', 'rather', 'to', 'die', 'than', 'to', 'famish', '?'], ['all', ':', 'resolved', '.'], ['resolved', '.'], ['first', 'citizen', ':', 'first', ',', 'you', 'know', 'caius', 'marcius', 'is', 'chief', 'enemy', 'to', 'the', 'people', '.'], ['all', ':', 'we', \"know't\", ',', 'we', \"know't\", '.'], ['first', 'citizen', ':', 'let', 'us', 'kill', 'him', ',', 'and', 'we', \"'ll\", 'have', 'corn', 'at', 'our', 'own', 'price', '.'], [\"is't\", 'a', 'verdict', '?'], ['all', ':', 'no', 'more', 'talking', 'o', \"n't\", ';', 'let', 'it', 'be', 'done', ':', 'away', ',', 'away', '!']]\n"
          ]
        }
      ]
    },
    {
      "cell_type": "code",
      "source": [
        "model = Word2Vec(tokens,vector_size=100)"
      ],
      "metadata": {
        "id": "HywCfpoDRsW1"
      },
      "execution_count": 13,
      "outputs": []
    },
    {
      "cell_type": "code",
      "source": [
        "model.wv.key_to_index"
      ],
      "metadata": {
        "colab": {
          "base_uri": "https://localhost:8080/"
        },
        "id": "HZ4GcEMtRz3c",
        "outputId": "c978e5a2-1f5f-42ab-f19d-228c0b9c846d"
      },
      "execution_count": 14,
      "outputs": [
        {
          "output_type": "execute_result",
          "data": {
            "text/plain": [
              "{',': 0,\n",
              " ':': 1,\n",
              " '.': 2,\n",
              " 'the': 3,\n",
              " 'and': 4,\n",
              " 'i': 5,\n",
              " 'to': 6,\n",
              " 'of': 7,\n",
              " ';': 8,\n",
              " 'you': 9,\n",
              " 'my': 10,\n",
              " 'a': 11,\n",
              " 'that': 12,\n",
              " '?': 13,\n",
              " 'is': 14,\n",
              " 'in': 15,\n",
              " 'not': 16,\n",
              " '!': 17,\n",
              " 'for': 18,\n",
              " \"'s\": 19,\n",
              " 'with': 20,\n",
              " 'it': 21,\n",
              " 'me': 22,\n",
              " 'be': 23,\n",
              " 'your': 24,\n",
              " 'he': 25,\n",
              " 'his': 26,\n",
              " 'but': 27,\n",
              " 'this': 28,\n",
              " 'have': 29,\n",
              " \"'d\": 30,\n",
              " 'as': 31,\n",
              " 'thou': 32,\n",
              " 'him': 33,\n",
              " 'what': 34,\n",
              " 'so': 35,\n",
              " 'thy': 36,\n",
              " 'will': 37,\n",
              " 'we': 38,\n",
              " 'king': 39,\n",
              " 'no': 40,\n",
              " 'by': 41,\n",
              " 'all': 42,\n",
              " 'shall': 43,\n",
              " 'her': 44,\n",
              " 'if': 45,\n",
              " 'our': 46,\n",
              " 'are': 47,\n",
              " 'do': 48,\n",
              " 'thee': 49,\n",
              " 'lord': 50,\n",
              " 'now': 51,\n",
              " 'o': 52,\n",
              " 'on': 53,\n",
              " 'good': 54,\n",
              " \"'\": 55,\n",
              " 'from': 56,\n",
              " 'come': 57,\n",
              " 'sir': 58,\n",
              " 'or': 59,\n",
              " 'which': 60,\n",
              " 'more': 61,\n",
              " 'was': 62,\n",
              " \"'ll\": 63,\n",
              " 'then': 64,\n",
              " 'here': 65,\n",
              " 'at': 66,\n",
              " 'they': 67,\n",
              " 'she': 68,\n",
              " 'would': 69,\n",
              " 'let': 70,\n",
              " 'how': 71,\n",
              " 'well': 72,\n",
              " 'than': 73,\n",
              " 'their': 74,\n",
              " 'them': 75,\n",
              " 'duke': 76,\n",
              " 'can': 77,\n",
              " 'am': 78,\n",
              " 'hath': 79,\n",
              " '--': 80,\n",
              " 'say': 81,\n",
              " 'there': 82,\n",
              " 'when': 83,\n",
              " 'one': 84,\n",
              " 'love': 85,\n",
              " 'go': 86,\n",
              " \"'t\": 87,\n",
              " 'were': 88,\n",
              " 'may': 89,\n",
              " 'us': 90,\n",
              " 'make': 91,\n",
              " 'upon': 92,\n",
              " 'richard': 93,\n",
              " 'yet': 94,\n",
              " 'queen': 95,\n",
              " 'like': 96,\n",
              " 'man': 97,\n",
              " 'must': 98,\n",
              " 'should': 99,\n",
              " 'an': 100,\n",
              " 'first': 101,\n",
              " 'why': 102,\n",
              " 'know': 103,\n",
              " 'had': 104,\n",
              " 'where': 105,\n",
              " 'edward': 106,\n",
              " 'did': 107,\n",
              " 'father': 108,\n",
              " 'see': 109,\n",
              " 'death': 110,\n",
              " 'some': 111,\n",
              " 'too': 112,\n",
              " 'who': 113,\n",
              " 'henry': 114,\n",
              " 'give': 115,\n",
              " 'these': 116,\n",
              " 'york': 117,\n",
              " 'speak': 118,\n",
              " 'take': 119,\n",
              " 'romeo': 120,\n",
              " 'mine': 121,\n",
              " 'such': 122,\n",
              " 'out': 123,\n",
              " 'up': 124,\n",
              " 'god': 125,\n",
              " 'gloucester': 126,\n",
              " 'tell': 127,\n",
              " 'time': 128,\n",
              " 'lady': 129,\n",
              " 'most': 130,\n",
              " 'son': 131,\n",
              " 'brother': 132,\n",
              " 'nor': 133,\n",
              " 'life': 134,\n",
              " 'vincentio': 135,\n",
              " 'heart': 136,\n",
              " 'warwick': 137,\n",
              " 'hear': 138,\n",
              " 'made': 139,\n",
              " 'art': 140,\n",
              " 'much': 141,\n",
              " 'think': 142,\n",
              " 'never': 143,\n",
              " 'look': 144,\n",
              " 'doth': 145,\n",
              " 'men': 146,\n",
              " 'before': 147,\n",
              " 'petruchio': 148,\n",
              " 'both': 149,\n",
              " 'true': 150,\n",
              " 'thus': 151,\n",
              " 'any': 152,\n",
              " 'being': 153,\n",
              " 'ay': 154,\n",
              " 'away': 155,\n",
              " 'blood': 156,\n",
              " 'day': 157,\n",
              " 'name': 158,\n",
              " 'coriolanus': 159,\n",
              " 'been': 160,\n",
              " 'fair': 161,\n",
              " 'noble': 162,\n",
              " 'again': 163,\n",
              " 'menenius': 164,\n",
              " 'very': 165,\n",
              " 'call': 166,\n",
              " 'pray': 167,\n",
              " 'hand': 168,\n",
              " 'juliet': 169,\n",
              " 'honour': 170,\n",
              " 'own': 171,\n",
              " 'done': 172,\n",
              " 'sweet': 173,\n",
              " 'second': 174,\n",
              " 'myself': 175,\n",
              " 'fear': 176,\n",
              " 'therefore': 177,\n",
              " 'leave': 178,\n",
              " 'great': 179,\n",
              " 'prince': 180,\n",
              " 'against': 181,\n",
              " 'though': 182,\n",
              " 'poor': 183,\n",
              " 'angelo': 184,\n",
              " 'world': 185,\n",
              " 'down': 186,\n",
              " 'hast': 187,\n",
              " 'way': 188,\n",
              " 'heaven': 189,\n",
              " 'nay': 190,\n",
              " 'old': 191,\n",
              " 'stay': 192,\n",
              " 'wife': 193,\n",
              " 'till': 194,\n",
              " 'clarence': 195,\n",
              " 'eyes': 196,\n",
              " 'other': 197,\n",
              " 'nurse': 198,\n",
              " 'grace': 199,\n",
              " 'night': 200,\n",
              " 'live': 201,\n",
              " 'many': 202,\n",
              " 'mother': 203,\n",
              " 'comes': 204,\n",
              " 'even': 205,\n",
              " 'bolingbroke': 206,\n",
              " 'stand': 207,\n",
              " 'dead': 208,\n",
              " 'die': 209,\n",
              " 'ever': 210,\n",
              " 'bear': 211,\n",
              " 'nothing': 212,\n",
              " 'iii': 213,\n",
              " 'whose': 214,\n",
              " 'master': 215,\n",
              " 'isabella': 216,\n",
              " 'friends': 217,\n",
              " 'head': 218,\n",
              " 'friar': 219,\n",
              " 'leontes': 220,\n",
              " 'buckingham': 221,\n",
              " 'unto': 222,\n",
              " 'those': 223,\n",
              " 'peace': 224,\n",
              " 'daughter': 225,\n",
              " 'better': 226,\n",
              " 'word': 227,\n",
              " 'soul': 228,\n",
              " 'gone': 229,\n",
              " 'off': 230,\n",
              " 'tranio': 231,\n",
              " 'still': 232,\n",
              " 'hence': 233,\n",
              " 'marcius': 234,\n",
              " 'house': 235,\n",
              " 'two': 236,\n",
              " 'lucio': 237,\n",
              " 'since': 238,\n",
              " 'could': 239,\n",
              " 'gentleman': 240,\n",
              " 'news': 241,\n",
              " 'little': 242,\n",
              " 'sicinius': 243,\n",
              " 'lords': 244,\n",
              " 'margaret': 245,\n",
              " 'crown': 246,\n",
              " 'thing': 247,\n",
              " 'once': 248,\n",
              " 'put': 249,\n",
              " 'whom': 250,\n",
              " 'camillo': 251,\n",
              " 'himself': 252,\n",
              " 'set': 253,\n",
              " 'face': 254,\n",
              " 'long': 255,\n",
              " 'capulet': 256,\n",
              " 'thine': 257,\n",
              " 'iv': 258,\n",
              " 'else': 259,\n",
              " 'ere': 260,\n",
              " 'elizabeth': 261,\n",
              " 'words': 262,\n",
              " 'none': 263,\n",
              " 'katharina': 264,\n",
              " 'might': 265,\n",
              " 'rest': 266,\n",
              " 'tongue': 267,\n",
              " 'young': 268,\n",
              " 'best': 269,\n",
              " 'power': 270,\n",
              " 'show': 271,\n",
              " 'part': 272,\n",
              " 'madam': 273,\n",
              " 'dear': 274,\n",
              " 'bring': 275,\n",
              " 'citizen': 276,\n",
              " 'pardon': 277,\n",
              " 'lucentio': 278,\n",
              " 'gentle': 279,\n",
              " 'vi': 280,\n",
              " 'people': 281,\n",
              " 'keep': 282,\n",
              " 'ii': 283,\n",
              " 'farewell': 284,\n",
              " 'hope': 285,\n",
              " 'earth': 286,\n",
              " 'right': 287,\n",
              " 'back': 288,\n",
              " 'hastings': 289,\n",
              " 'baptista': 290,\n",
              " 'husband': 291,\n",
              " 'find': 292,\n",
              " 'every': 293,\n",
              " 'said': 294,\n",
              " 'hortensio': 295,\n",
              " 'forth': 296,\n",
              " 'bid': 297,\n",
              " 'came': 298,\n",
              " 'home': 299,\n",
              " 'hands': 300,\n",
              " 'into': 301,\n",
              " 'cousin': 302,\n",
              " 'cause': 303,\n",
              " 'boy': 304,\n",
              " 'rome': 305,\n",
              " 'brutus': 306,\n",
              " 'hold': 307,\n",
              " 'tears': 308,\n",
              " 'welcome': 309,\n",
              " 'dost': 310,\n",
              " 'about': 311,\n",
              " 'please': 312,\n",
              " 'mistress': 313,\n",
              " 'provost': 314,\n",
              " 'help': 315,\n",
              " 'thought': 316,\n",
              " 'makes': 317,\n",
              " 'full': 318,\n",
              " 'heard': 319,\n",
              " 'indeed': 320,\n",
              " 'mind': 321,\n",
              " 'after': 322,\n",
              " 'grumio': 323,\n",
              " 'place': 324,\n",
              " 'cominius': 325,\n",
              " 'escalus': 326,\n",
              " 'answer': 327,\n",
              " 'has': 328,\n",
              " 'pompey': 329,\n",
              " 'marry': 330,\n",
              " 'clifford': 331,\n",
              " 'wilt': 332,\n",
              " 'friend': 333,\n",
              " 'state': 334,\n",
              " 'mean': 335,\n",
              " 'shame': 336,\n",
              " 'mercutio': 337,\n",
              " 'within': 338,\n",
              " 'servant': 339,\n",
              " 'gremio': 340,\n",
              " 'while': 341,\n",
              " 'another': 342,\n",
              " 'hither': 343,\n",
              " 'claudio': 344,\n",
              " 'only': 345,\n",
              " 'sorrow': 346,\n",
              " 'last': 347,\n",
              " 'northumberland': 348,\n",
              " 'aufidius': 349,\n",
              " 'gracious': 350,\n",
              " 'eye': 351,\n",
              " 'royal': 352,\n",
              " 'kill': 353,\n",
              " 'duchess': 354,\n",
              " 'rather': 355,\n",
              " 'prove': 356,\n",
              " 'fortune': 357,\n",
              " 'far': 358,\n",
              " 'third': 359,\n",
              " 'thousand': 360,\n",
              " 'lie': 361,\n",
              " 'paulina': 362,\n",
              " 'war': 363,\n",
              " 'child': 364,\n",
              " 'body': 365,\n",
              " 'meet': 366,\n",
              " 'murderer': 367,\n",
              " 'shalt': 368,\n",
              " 'comfort': 369,\n",
              " 'use': 370,\n",
              " 'lies': 371,\n",
              " 'tybalt': 372,\n",
              " 'lay': 373,\n",
              " 'woman': 374,\n",
              " 'hour': 375,\n",
              " 'fellow': 376,\n",
              " 'joy': 377,\n",
              " 'benvolio': 378,\n",
              " 'sun': 379,\n",
              " 'grief': 380,\n",
              " 'polixenes': 381,\n",
              " 'beseech': 382,\n",
              " 'turn': 383,\n",
              " 'less': 384,\n",
              " 'montague': 385,\n",
              " 'autolycus': 386,\n",
              " 'follow': 387,\n",
              " 'thank': 388,\n",
              " 'years': 389,\n",
              " 'happy': 390,\n",
              " 'grave': 391,\n",
              " 'end': 392,\n",
              " 'enough': 393,\n",
              " 'matter': 394,\n",
              " 'holy': 395,\n",
              " 'talk': 396,\n",
              " 'nature': 397,\n",
              " 'play': 398,\n",
              " 'business': 399,\n",
              " \"n't\": 400,\n",
              " 'hate': 401,\n",
              " 'things': 402,\n",
              " 'arms': 403,\n",
              " 'bianca': 404,\n",
              " 'light': 405,\n",
              " 'bed': 406,\n",
              " 'to-morrow': 407,\n",
              " 'prospero': 408,\n",
              " 'lives': 409,\n",
              " 'clown': 410,\n",
              " 'truth': 411,\n",
              " 'fall': 412,\n",
              " 'pity': 413,\n",
              " 'without': 414,\n",
              " 'faith': 415,\n",
              " 'three': 416,\n",
              " 'wish': 417,\n",
              " 'shepherd': 418,\n",
              " 'get': 419,\n",
              " 'kind': 420,\n",
              " 'swear': 421,\n",
              " 'save': 422,\n",
              " 'villain': 423,\n",
              " 'believe': 424,\n",
              " 'send': 425,\n",
              " 'kate': 426,\n",
              " 'ah': 427,\n",
              " 'laurence': 428,\n",
              " 'saw': 429,\n",
              " 'wrong': 430,\n",
              " 'fight': 431,\n",
              " 'gods': 432,\n",
              " 'false': 433,\n",
              " 'uncle': 434,\n",
              " 'law': 435,\n",
              " 'sleep': 436,\n",
              " 'city': 437,\n",
              " 'yourself': 438,\n",
              " 'present': 439,\n",
              " 'looks': 440,\n",
              " 'does': 441,\n",
              " 'means': 442,\n",
              " 'yours': 443,\n",
              " 'sovereign': 444,\n",
              " 'country': 445,\n",
              " 'land': 446,\n",
              " 'bloody': 447,\n",
              " 'children': 448,\n",
              " 'aumerle': 449,\n",
              " \"ne'er\": 450,\n",
              " 'left': 451,\n",
              " 'anne': 452,\n",
              " 'volumnia': 453,\n",
              " 'foul': 454,\n",
              " 'england': 455,\n",
              " 'servingman': 456,\n",
              " 'sister': 457,\n",
              " 'worthy': 458,\n",
              " 'sit': 459,\n",
              " 'mercy': 460,\n",
              " 'told': 461,\n",
              " 'need': 462,\n",
              " 'woe': 463,\n",
              " 'mark': 464,\n",
              " 'sea': 465,\n",
              " 'sword': 466,\n",
              " 'gaunt': 467,\n",
              " 'doubt': 468,\n",
              " 'proud': 469,\n",
              " 'messenger': 470,\n",
              " 'traitor': 471,\n",
              " 'sound': 472,\n",
              " 'justice': 473,\n",
              " 'breath': 474,\n",
              " 'majesty': 475,\n",
              " 'thyself': 476,\n",
              " 'high': 477,\n",
              " 'because': 478,\n",
              " 'together': 479,\n",
              " 'either': 480,\n",
              " 'seem': 481,\n",
              " 'biondello': 482,\n",
              " 'fire': 483,\n",
              " 'john': 484,\n",
              " 'maid': 485,\n",
              " 'through': 486,\n",
              " 'seen': 487,\n",
              " 'horse': 488,\n",
              " 'days': 489,\n",
              " 'paris': 490,\n",
              " 'under': 491,\n",
              " 'break': 492,\n",
              " 'kiss': 493,\n",
              " 'catesby': 494,\n",
              " 'arm': 495,\n",
              " 'heavy': 496,\n",
              " 'return': 497,\n",
              " 'care': 498,\n",
              " 'gentlemen': 499,\n",
              " 'ears': 500,\n",
              " 'norfolk': 501,\n",
              " 'lost': 502,\n",
              " 'ye': 503,\n",
              " 'florizel': 504,\n",
              " 'hermione': 505,\n",
              " 'age': 506,\n",
              " 'remember': 507,\n",
              " 'fly': 508,\n",
              " 'times': 509,\n",
              " 'reason': 510,\n",
              " 'warrant': 511,\n",
              " 'purpose': 512,\n",
              " 'content': 513,\n",
              " 'haste': 514,\n",
              " 'oath': 515,\n",
              " 'ready': 516,\n",
              " 'signior': 517,\n",
              " 'says': 518,\n",
              " 'canst': 519,\n",
              " 'late': 520,\n",
              " 'liege': 521,\n",
              " 'alas': 522,\n",
              " 'strange': 523,\n",
              " 'each': 524,\n",
              " 'widow': 525,\n",
              " 'banish': 526,\n",
              " 'grey': 527,\n",
              " 'weep': 528,\n",
              " 'alone': 529,\n",
              " 'new': 530,\n",
              " 'person': 531,\n",
              " 'stands': 532,\n",
              " 'sent': 533,\n",
              " 'pass': 534,\n",
              " 'rivers': 535,\n",
              " 'spirit': 536,\n",
              " 'slain': 537,\n",
              " 'brought': 538,\n",
              " 'thoughts': 539,\n",
              " 'cry': 540,\n",
              " 'straight': 541,\n",
              " 'having': 542,\n",
              " 'married': 543,\n",
              " 'strike': 544,\n",
              " 'knows': 545,\n",
              " 'free': 546,\n",
              " 'didst': 547,\n",
              " 'ground': 548,\n",
              " 'lest': 549,\n",
              " 'france': 550,\n",
              " 'loss': 551,\n",
              " 'sin': 552,\n",
              " 'women': 553,\n",
              " 'beauty': 554,\n",
              " 'born': 555,\n",
              " 'service': 556,\n",
              " 'found': 557,\n",
              " 'cold': 558,\n",
              " 'near': 559,\n",
              " 'fault': 560,\n",
              " 'richmond': 561,\n",
              " 'sebastian': 562,\n",
              " 'report': 563,\n",
              " 'thanks': 564,\n",
              " 'enemy': 565,\n",
              " 'charge': 566,\n",
              " 'sight': 567,\n",
              " 'general': 568,\n",
              " 'common': 569,\n",
              " 'hours': 570,\n",
              " 'fool': 571,\n",
              " 'lose': 572,\n",
              " 'senator': 573,\n",
              " 'desire': 574,\n",
              " \"'twere\": 575,\n",
              " 'tender': 576,\n",
              " 'ha': 577,\n",
              " 'itself': 578,\n",
              " 'air': 579,\n",
              " 'touch': 580,\n",
              " 'sure': 581,\n",
              " 'foot': 582,\n",
              " 'soon': 583,\n",
              " 'yield': 584,\n",
              " 'deep': 585,\n",
              " 'fie': 586,\n",
              " 'antonio': 587,\n",
              " 'duty': 588,\n",
              " 'prithee': 589,\n",
              " 'mad': 590,\n",
              " 'prison': 591,\n",
              " 'yea': 592,\n",
              " 'pluck': 593,\n",
              " 'known': 594,\n",
              " 'saint': 595,\n",
              " 'command': 596,\n",
              " 'patience': 597,\n",
              " 'heavens': 598,\n",
              " 'past': 599,\n",
              " 'trust': 600,\n",
              " 'honest': 601,\n",
              " 'open': 602,\n",
              " 'twenty': 603,\n",
              " 'unless': 604,\n",
              " 'deed': 605,\n",
              " 'dare': 606,\n",
              " 'something': 607,\n",
              " \"o'er\": 608,\n",
              " 'oxford': 609,\n",
              " 'fearful': 610,\n",
              " 'ten': 611,\n",
              " 'citizens': 612,\n",
              " 'lewis': 613,\n",
              " 'ask': 614,\n",
              " 'bound': 615,\n",
              " 'cut': 616,\n",
              " 'heir': 617,\n",
              " 'yes': 618,\n",
              " 'peter': 619,\n",
              " 'tale': 620,\n",
              " 'highness': 621,\n",
              " 'voices': 622,\n",
              " 'draw': 623,\n",
              " 'half': 624,\n",
              " 'hearts': 625,\n",
              " 'revenge': 626,\n",
              " 'gonzalo': 627,\n",
              " 'company': 628,\n",
              " 'hark': 629,\n",
              " 'counsel': 630,\n",
              " 'beat': 631,\n",
              " 'wear': 632,\n",
              " 'withal': 633,\n",
              " 'virtue': 634,\n",
              " 'serve': 635,\n",
              " 'ear': 636,\n",
              " 'dream': 637,\n",
              " 'sirrah': 638,\n",
              " 'learn': 639,\n",
              " 'next': 640,\n",
              " 'work': 641,\n",
              " 'read': 642,\n",
              " \"is't\": 643,\n",
              " 'side': 644,\n",
              " 'neither': 645,\n",
              " 'marriage': 646,\n",
              " 'worse': 647,\n",
              " 'brave': 648,\n",
              " 'hell': 649,\n",
              " 'point': 650,\n",
              " 'elbow': 651,\n",
              " 'loving': 652,\n",
              " 'knew': 653,\n",
              " 'sake': 654,\n",
              " 'pleasure': 655,\n",
              " 'field': 656,\n",
              " 'enemies': 657,\n",
              " 'seek': 658,\n",
              " 'methinks': 659,\n",
              " 'lancaster': 660,\n",
              " 'become': 661,\n",
              " 'youth': 662,\n",
              " 'change': 663,\n",
              " 'pale': 664,\n",
              " 'further': 665,\n",
              " 'tower': 666,\n",
              " 'fast': 667,\n",
              " 'court': 668,\n",
              " 'souls': 669,\n",
              " 'coming': 670,\n",
              " 'ill': 671,\n",
              " 'given': 672,\n",
              " 'strength': 673,\n",
              " 'course': 674,\n",
              " 'took': 675,\n",
              " 'between': 676,\n",
              " 'gates': 677,\n",
              " 'confess': 678,\n",
              " 'miranda': 679,\n",
              " 'behold': 680,\n",
              " 'devil': 681,\n",
              " 'met': 682,\n",
              " 'title': 683,\n",
              " 'run': 684,\n",
              " 'to-day': 685,\n",
              " 'themselves': 686,\n",
              " 'rich': 687,\n",
              " 'ho': 688,\n",
              " 'gave': 689,\n",
              " 'merry': 690,\n",
              " 'george': 691,\n",
              " 'murder': 692,\n",
              " 'bosom': 693,\n",
              " 'deliver': 694,\n",
              " 'lips': 695,\n",
              " 'same': 696,\n",
              " 'just': 697,\n",
              " 'along': 698,\n",
              " 'sad': 699,\n",
              " 'already': 700,\n",
              " 'sworn': 701,\n",
              " 'soldier': 702,\n",
              " 'curse': 703,\n",
              " 'watch': 704,\n",
              " 'subject': 705,\n",
              " 'over': 706,\n",
              " 'loves': 707,\n",
              " 'office': 708,\n",
              " 'wind': 709,\n",
              " 'soldiers': 710,\n",
              " 'morning': 711,\n",
              " 'hang': 712,\n",
              " 'mowbray': 713,\n",
              " 'tribunes': 714,\n",
              " 'bold': 715,\n",
              " 'perdita': 716,\n",
              " 'issue': 717,\n",
              " 'sons': 718,\n",
              " 'loved': 719,\n",
              " 'whilst': 720,\n",
              " 'spoke': 721,\n",
              " 'fetch': 722,\n",
              " 'post': 723,\n",
              " 'goes': 724,\n",
              " 'bad': 725,\n",
              " 'hereford': 726,\n",
              " 'thomas': 727,\n",
              " 'stanley': 728,\n",
              " 'wonder': 729,\n",
              " 'sly': 730,\n",
              " 'mariana': 731,\n",
              " 'suit': 732,\n",
              " 'officer': 733,\n",
              " 'hadst': 734,\n",
              " 'jest': 735,\n",
              " 'appear': 736,\n",
              " 'kings': 737,\n",
              " 'wounds': 738,\n",
              " 'march': 739,\n",
              " 'foe': 740,\n",
              " 'often': 741,\n",
              " 'wit': 742,\n",
              " 'to-night': 743,\n",
              " 'presence': 744,\n",
              " 'dangerous': 745,\n",
              " 'fit': 746,\n",
              " 'forget': 747,\n",
              " 'voice': 748,\n",
              " 'gold': 749,\n",
              " 'speed': 750,\n",
              " 'soft': 751,\n",
              " 'wars': 752,\n",
              " 'entreat': 753,\n",
              " 'request': 754,\n",
              " 'enter': 755,\n",
              " 'grant': 756,\n",
              " 'battle': 757,\n",
              " 'thence': 758,\n",
              " 'green': 759,\n",
              " 'wherein': 760,\n",
              " 'poison': 761,\n",
              " 'consul': 762,\n",
              " 'london': 763,\n",
              " 'seems': 764,\n",
              " 'order': 765,\n",
              " 'quarrel': 766,\n",
              " 'rage': 767,\n",
              " 'wert': 768,\n",
              " 'mighty': 769,\n",
              " 'woo': 770,\n",
              " 'black': 771,\n",
              " 'strong': 772,\n",
              " 'worth': 773,\n",
              " 'attend': 774,\n",
              " 'throne': 775,\n",
              " 'brief': 776,\n",
              " 'somerset': 777,\n",
              " 'buy': 778,\n",
              " 'lartius': 779,\n",
              " 'wash': 780,\n",
              " 'deeds': 781,\n",
              " 'princely': 782,\n",
              " 'want': 783,\n",
              " 'prayers': 784,\n",
              " 'deny': 785,\n",
              " 'consent': 786,\n",
              " 'begin': 787,\n",
              " 'throw': 788,\n",
              " 'win': 789,\n",
              " 'water': 790,\n",
              " 'case': 791,\n",
              " 'thither': 792,\n",
              " 'valiant': 793,\n",
              " 'keeper': 794,\n",
              " 'speech': 795,\n",
              " 'earl': 796,\n",
              " 'ratcliff': 797,\n",
              " 'breast': 798,\n",
              " 'whence': 799,\n",
              " 'faults': 800,\n",
              " 'above': 801,\n",
              " \"to't\": 802,\n",
              " 'knock': 803,\n",
              " 'almost': 804,\n",
              " 'got': 805,\n",
              " 'feel': 806,\n",
              " 'move': 807,\n",
              " 'pretty': 808,\n",
              " 'slave': 809,\n",
              " 'ancient': 810,\n",
              " 'wise': 811,\n",
              " 'heads': 812,\n",
              " 'mock': 813,\n",
              " 'hot': 814,\n",
              " 'presently': 815,\n",
              " 'harm': 816,\n",
              " 'flesh': 817,\n",
              " 'vow': 818,\n",
              " 'music': 819,\n",
              " \"e'er\": 820,\n",
              " 'least': 821,\n",
              " 'alack': 822,\n",
              " 'mayor': 823,\n",
              " 'towards': 824,\n",
              " 'whether': 825,\n",
              " 'subjects': 826,\n",
              " '3': 827,\n",
              " 'measure': 828,\n",
              " 'forward': 829,\n",
              " 'five': 830,\n",
              " 'roman': 831,\n",
              " 'suffer': 832,\n",
              " 'awhile': 833,\n",
              " 'wouldst': 834,\n",
              " 'worship': 835,\n",
              " 'living': 836,\n",
              " 'virgilia': 837,\n",
              " 'hearing': 838,\n",
              " 'dispatch': 839,\n",
              " 'ariel': 840,\n",
              " 'curtis': 841,\n",
              " 'promise': 842,\n",
              " 'moon': 843,\n",
              " 'close': 844,\n",
              " \"'em\": 845,\n",
              " 'witness': 846,\n",
              " 'kingdom': 847,\n",
              " 'virtuous': 848,\n",
              " 'offer': 849,\n",
              " 'mortal': 850,\n",
              " 'besides': 851,\n",
              " 'ladies': 852,\n",
              " 'deserved': 853,\n",
              " 'blows': 854,\n",
              " 'antigonus': 855,\n",
              " 'perform': 856,\n",
              " 'bohemia': 857,\n",
              " 'toward': 858,\n",
              " 'mouth': 859,\n",
              " 'lawful': 860,\n",
              " 'worst': 861,\n",
              " 'quickly': 862,\n",
              " 'grow': 863,\n",
              " 'pay': 864,\n",
              " 'goodly': 865,\n",
              " 'anon': 866,\n",
              " 'wherefore': 867,\n",
              " \"do't\": 868,\n",
              " 'ourselves': 869,\n",
              " 'breathe': 870,\n",
              " 'chance': 871,\n",
              " 'greater': 872,\n",
              " 'weeping': 873,\n",
              " 'wast': 874,\n",
              " 'patient': 875,\n",
              " 'guilty': 876,\n",
              " 'whither': 877,\n",
              " 'base': 878,\n",
              " 'needs': 879,\n",
              " 'golden': 880,\n",
              " 'longer': 881,\n",
              " 'pedant': 882,\n",
              " 'beg': 883,\n",
              " 'isabel': 884,\n",
              " 'match': 885,\n",
              " 'letters': 886,\n",
              " 'rutland': 887,\n",
              " 'shows': 888,\n",
              " 'derby': 889,\n",
              " 'truly': 890,\n",
              " 'angry': 891,\n",
              " 'stir': 892,\n",
              " 'exeter': 893,\n",
              " 'feast': 894,\n",
              " 'join': 895,\n",
              " 'laid': 896,\n",
              " 'fled': 897,\n",
              " 'offence': 898,\n",
              " 'small': 899,\n",
              " 'note': 900,\n",
              " 'tear': 901,\n",
              " 'sudden': 902,\n",
              " 'year': 903,\n",
              " 'choose': 904,\n",
              " 'obey': 905,\n",
              " 'clouds': 906,\n",
              " 'padua': 907,\n",
              " 'plain': 908,\n",
              " 'knee': 909,\n",
              " 'masters': 910,\n",
              " 'town': 911,\n",
              " 'book': 912,\n",
              " 'letter': 913,\n",
              " 'speaks': 914,\n",
              " 'sense': 915,\n",
              " 'behind': 916,\n",
              " 'won': 917,\n",
              " 'held': 918,\n",
              " 'doing': 919,\n",
              " 'action': 920,\n",
              " 'prisoner': 921,\n",
              " 'slew': 922,\n",
              " 'proclaim': 923,\n",
              " 'defend': 924,\n",
              " 'rough': 925,\n",
              " \"ta'en\": 926,\n",
              " 'kneel': 927,\n",
              " 'banishment': 928,\n",
              " 'shed': 929,\n",
              " 'bawd': 930,\n",
              " 'until': 931,\n",
              " 'amen': 932,\n",
              " 'short': 933,\n",
              " 'hard': 934,\n",
              " 'liberty': 935,\n",
              " 'aside': 936,\n",
              " 'seat': 937,\n",
              " 'bless': 938,\n",
              " 'hide': 939,\n",
              " 'barnardine': 940,\n",
              " 'four': 941,\n",
              " 'victory': 942,\n",
              " 'noise': 943,\n",
              " 'plantagenet': 944,\n",
              " 'dishonour': 945,\n",
              " 'dry': 946,\n",
              " 'bears': 947,\n",
              " 'lead': 948,\n",
              " 'act': 949,\n",
              " 'leisure': 950,\n",
              " 'forgot': 951,\n",
              " 'blow': 952,\n",
              " 'broke': 953,\n",
              " 'lack': 954,\n",
              " 'slaughter': 955,\n",
              " 'oft': 956,\n",
              " 'stood': 957,\n",
              " 'piece': 958,\n",
              " 'hundred': 959,\n",
              " 'certain': 960,\n",
              " 'chamber': 961,\n",
              " 'lived': 962,\n",
              " 'neck': 963,\n",
              " 'bride': 964,\n",
              " 'womb': 965,\n",
              " 'bones': 966,\n",
              " 'scorn': 967,\n",
              " 'visit': 968,\n",
              " 'walk': 969,\n",
              " 'conscience': 970,\n",
              " 'seal': 971,\n",
              " 'steel': 972,\n",
              " 'flatter': 973,\n",
              " 'xi': 974,\n",
              " 'pride': 975,\n",
              " 'guess': 976,\n",
              " 'bishop': 977,\n",
              " 'glad': 978,\n",
              " 'yourselves': 979,\n",
              " 'blessed': 980,\n",
              " 'few': 981,\n",
              " 'alive': 982,\n",
              " 'knowledge': 983,\n",
              " 'herself': 984,\n",
              " 'teach': 985,\n",
              " 'secret': 986,\n",
              " 'glory': 987,\n",
              " 'bushy': 988,\n",
              " 'warm': 989,\n",
              " 'bitter': 990,\n",
              " 'morrow': 991,\n",
              " 'knees': 992,\n",
              " 'commend': 993,\n",
              " 'dorset': 994,\n",
              " 'watchman': 995,\n",
              " 'shake': 996,\n",
              " \"'twixt\": 997,\n",
              " 'frown': 998,\n",
              " 'kept': 999,\n",
              " ...}"
            ]
          },
          "metadata": {},
          "execution_count": 14
        }
      ]
    },
    {
      "cell_type": "code",
      "source": [
        "model.wv.get_vector(\"kate\", norm=True)"
      ],
      "metadata": {
        "colab": {
          "base_uri": "https://localhost:8080/"
        },
        "id": "4nuX0-QmHSTR",
        "outputId": "6cb54873-bd48-41c0-e05c-5b9f8c37bc68"
      },
      "execution_count": 49,
      "outputs": [
        {
          "output_type": "execute_result",
          "data": {
            "text/plain": [
              "array([-0.01933577,  0.04677144,  0.01654928,  0.11584157,  0.10374434,\n",
              "       -0.30219635,  0.07282429,  0.333535  , -0.07287282, -0.0450923 ,\n",
              "        0.01519664, -0.17196772, -0.00907077,  0.04084505, -0.04892579,\n",
              "       -0.11243871,  0.07600474, -0.04960907, -0.00966576, -0.22862326,\n",
              "        0.08918396,  0.02511481,  0.07456524, -0.05168753,  0.07903016,\n",
              "       -0.01158264, -0.10044956, -0.04230422, -0.13498864,  0.0388631 ,\n",
              "        0.12204558,  0.07849641,  0.13193488, -0.11378178, -0.03126972,\n",
              "        0.15226965,  0.05695671, -0.11478041, -0.02356885, -0.22255658,\n",
              "        0.06438415, -0.17008913, -0.01160255, -0.03771301,  0.04847882,\n",
              "        0.0380516 , -0.08595534,  0.04989558,  0.06525116,  0.02173018,\n",
              "        0.07205766, -0.14796789, -0.02568386,  0.00508823, -0.05074114,\n",
              "        0.10482439,  0.13693361,  0.06373763, -0.10777524,  0.03807615,\n",
              "       -0.02456915, -0.02029794,  0.04356632, -0.07573704, -0.10573927,\n",
              "        0.15015425,  0.14240552,  0.1055517 , -0.26315078,  0.14808829,\n",
              "       -0.05621238, -0.00754608,  0.10164985, -0.01211188,  0.11512317,\n",
              "       -0.00120917, -0.00528167, -0.01637367, -0.09738054,  0.00688387,\n",
              "       -0.08569377,  0.07230695, -0.0578602 ,  0.06414797, -0.0806524 ,\n",
              "       -0.00489951,  0.08221697,  0.04857004,  0.12703489,  0.05388258,\n",
              "        0.11130522,  0.02492309, -0.01237065,  0.05194731,  0.16994524,\n",
              "        0.08661351,  0.09198163, -0.06882726, -0.02715911,  0.02793671],\n",
              "      dtype=float32)"
            ]
          },
          "metadata": {},
          "execution_count": 49
        }
      ]
    },
    {
      "cell_type": "code",
      "source": [
        "model.wv.most_similar('kate')"
      ],
      "metadata": {
        "colab": {
          "base_uri": "https://localhost:8080/"
        },
        "id": "Pu7KnRnFHYOr",
        "outputId": "33f62510-5674-43f5-cc41-c5fcae48a901"
      },
      "execution_count": 50,
      "outputs": [
        {
          "output_type": "execute_result",
          "data": {
            "text/plain": [
              "[('gentlemen', 0.9930965900421143),\n",
              " ('hie', 0.992615818977356),\n",
              " ('commend', 0.9907503128051758),\n",
              " ('knock', 0.9905545115470886),\n",
              " ('masters', 0.9894234538078308),\n",
              " ('worship', 0.989274799823761),\n",
              " ('morrow', 0.9891580939292908),\n",
              " ('sirrah', 0.9889315962791443),\n",
              " ('signior', 0.9887718558311462),\n",
              " ('plain', 0.9885265827178955)]"
            ]
          },
          "metadata": {},
          "execution_count": 50
        }
      ]
    },
    {
      "cell_type": "code",
      "source": [
        "model.wv.similarity('eat', 'kate')"
      ],
      "metadata": {
        "colab": {
          "base_uri": "https://localhost:8080/"
        },
        "id": "QkpmICBOHfXX",
        "outputId": "95eab9b0-d85f-415e-8bbb-a39c8d46b98a"
      },
      "execution_count": 51,
      "outputs": [
        {
          "output_type": "execute_result",
          "data": {
            "text/plain": [
              "0.9703561"
            ]
          },
          "metadata": {},
          "execution_count": 51
        }
      ]
    },
    {
      "cell_type": "code",
      "source": [
        "model.wv.similarity('nay', 'kate')"
      ],
      "metadata": {
        "colab": {
          "base_uri": "https://localhost:8080/"
        },
        "id": "nEtI4TYpHp7z",
        "outputId": "49c120be-788a-42a6-a700-09dcc0b43ee6"
      },
      "execution_count": 52,
      "outputs": [
        {
          "output_type": "execute_result",
          "data": {
            "text/plain": [
              "0.9330069"
            ]
          },
          "metadata": {},
          "execution_count": 52
        }
      ]
    },
    {
      "cell_type": "code",
      "source": [
        "model.wv.similarity('womb', 'kate')"
      ],
      "metadata": {
        "colab": {
          "base_uri": "https://localhost:8080/"
        },
        "id": "KLRd5XxcHtsf",
        "outputId": "671c728a-4da9-4334-f964-9538c0658e07"
      },
      "execution_count": 55,
      "outputs": [
        {
          "output_type": "execute_result",
          "data": {
            "text/plain": [
              "0.91203475"
            ]
          },
          "metadata": {},
          "execution_count": 55
        }
      ]
    },
    {
      "cell_type": "code",
      "source": [
        "model.wv.similarity('shrew', 'kate')"
      ],
      "metadata": {
        "colab": {
          "base_uri": "https://localhost:8080/"
        },
        "id": "bdFCLSooIAgC",
        "outputId": "7ef051e4-1b1f-4796-aa93-961de18bdac8"
      },
      "execution_count": 56,
      "outputs": [
        {
          "output_type": "execute_result",
          "data": {
            "text/plain": [
              "0.9087301"
            ]
          },
          "metadata": {},
          "execution_count": 56
        }
      ]
    },
    {
      "cell_type": "code",
      "source": [
        "model.wv.similarity('tame', 'kate')"
      ],
      "metadata": {
        "colab": {
          "base_uri": "https://localhost:8080/"
        },
        "id": "lDetadBSIFdi",
        "outputId": "f9cff6c1-547b-4746-c3db-fe6310c41a28"
      },
      "execution_count": 57,
      "outputs": [
        {
          "output_type": "execute_result",
          "data": {
            "text/plain": [
              "0.97108674"
            ]
          },
          "metadata": {},
          "execution_count": 57
        }
      ]
    },
    {
      "cell_type": "code",
      "source": [
        "model.wv.similarity('katharina', 'kate')"
      ],
      "metadata": {
        "colab": {
          "base_uri": "https://localhost:8080/"
        },
        "id": "AI9k5_YcILma",
        "outputId": "789c2f27-114f-4c18-9c36-205cda283844"
      },
      "execution_count": 64,
      "outputs": [
        {
          "output_type": "execute_result",
          "data": {
            "text/plain": [
              "0.94100547"
            ]
          },
          "metadata": {},
          "execution_count": 64
        }
      ]
    },
    {
      "cell_type": "code",
      "source": [
        "model.wv.similarity('king', 'kate')"
      ],
      "metadata": {
        "colab": {
          "base_uri": "https://localhost:8080/"
        },
        "id": "hoV6_3hgIqbO",
        "outputId": "531c3217-95cb-4d3c-cff0-ea3be10de953"
      },
      "execution_count": 65,
      "outputs": [
        {
          "output_type": "execute_result",
          "data": {
            "text/plain": [
              "0.57366985"
            ]
          },
          "metadata": {},
          "execution_count": 65
        }
      ]
    },
    {
      "cell_type": "code",
      "source": [
        "model.wv.similarity('france', 'kate')"
      ],
      "metadata": {
        "colab": {
          "base_uri": "https://localhost:8080/"
        },
        "id": "L7yM_3p3IuXS",
        "outputId": "5a0c056e-ada9-4e64-d1d5-afc4df1b25fa"
      },
      "execution_count": 66,
      "outputs": [
        {
          "output_type": "execute_result",
          "data": {
            "text/plain": [
              "0.9035554"
            ]
          },
          "metadata": {},
          "execution_count": 66
        }
      ]
    },
    {
      "cell_type": "code",
      "source": [
        "model.wv.similarity('harry', 'kate')"
      ],
      "metadata": {
        "colab": {
          "base_uri": "https://localhost:8080/"
        },
        "id": "u5W8Dv2OIyG2",
        "outputId": "14d0f39d-aec5-4a6b-97ce-19e9c3338934"
      },
      "execution_count": 68,
      "outputs": [
        {
          "output_type": "execute_result",
          "data": {
            "text/plain": [
              "0.94995624"
            ]
          },
          "metadata": {},
          "execution_count": 68
        }
      ]
    },
    {
      "cell_type": "code",
      "source": [
        "model.wv.similarity('will', 'kate')"
      ],
      "metadata": {
        "colab": {
          "base_uri": "https://localhost:8080/"
        },
        "id": "ThVI516qI8tY",
        "outputId": "6eab753f-c1cf-4d2e-8aae-9e567483183c"
      },
      "execution_count": 69,
      "outputs": [
        {
          "output_type": "execute_result",
          "data": {
            "text/plain": [
              "0.7142572"
            ]
          },
          "metadata": {},
          "execution_count": 69
        }
      ]
    },
    {
      "cell_type": "code",
      "source": [
        "model.wv.similarity('sit', 'kate')"
      ],
      "metadata": {
        "colab": {
          "base_uri": "https://localhost:8080/"
        },
        "id": "TGela-wxJCGL",
        "outputId": "042f0416-f8dc-4914-d6cb-4fafa21389b4"
      },
      "execution_count": 72,
      "outputs": [
        {
          "output_type": "execute_result",
          "data": {
            "text/plain": [
              "0.9875739"
            ]
          },
          "metadata": {},
          "execution_count": 72
        }
      ]
    },
    {
      "cell_type": "code",
      "source": [
        "model.wv.similarity('wedding', 'kate')"
      ],
      "metadata": {
        "colab": {
          "base_uri": "https://localhost:8080/"
        },
        "id": "N5Hm683hJJVr",
        "outputId": "6852cebe-8395-4609-b8a5-cbd9095d6f32"
      },
      "execution_count": 73,
      "outputs": [
        {
          "output_type": "execute_result",
          "data": {
            "text/plain": [
              "0.9175848"
            ]
          },
          "metadata": {},
          "execution_count": 73
        }
      ]
    },
    {
      "cell_type": "code",
      "source": [
        "model.wv.get_vector(\"bianca\", norm=True)"
      ],
      "metadata": {
        "colab": {
          "base_uri": "https://localhost:8080/"
        },
        "id": "gH-bm4D-_71s",
        "outputId": "464799f1-2797-4fde-c002-ec7e69e2c612"
      },
      "execution_count": 31,
      "outputs": [
        {
          "output_type": "execute_result",
          "data": {
            "text/plain": [
              "array([-0.013897  ,  0.06911439,  0.03799673,  0.09710885,  0.09491027,\n",
              "       -0.2975235 ,  0.07295135,  0.32855797, -0.06786937, -0.04132128,\n",
              "       -0.0027887 , -0.16070658, -0.01161983,  0.0238074 , -0.05335452,\n",
              "       -0.10364833,  0.09923995, -0.06705429, -0.02266516, -0.23659079,\n",
              "        0.10451613,  0.04141106,  0.06450705, -0.03070183,  0.06494054,\n",
              "        0.00325652, -0.12181978, -0.04878669, -0.11696023,  0.0575088 ,\n",
              "        0.15632924,  0.07651882,  0.0943197 , -0.12540092, -0.03826957,\n",
              "        0.17109767,  0.09557673, -0.09632498, -0.04886787, -0.22956973,\n",
              "        0.05689729, -0.16873643, -0.02049764, -0.05379177,  0.03197764,\n",
              "        0.04141934, -0.0603533 ,  0.05147323,  0.08935328,  0.04211857,\n",
              "        0.06455295, -0.13138111, -0.0310388 ,  0.00863762, -0.0884776 ,\n",
              "        0.13087302,  0.1335202 ,  0.07398657, -0.12433005,  0.03587458,\n",
              "       -0.01808414,  0.00348294,  0.0438596 , -0.05486177, -0.08351772,\n",
              "        0.14747645,  0.13014035,  0.09288564, -0.26509133,  0.1361181 ,\n",
              "       -0.04414441,  0.00458848,  0.09302245, -0.00701183,  0.09755481,\n",
              "       -0.00528741, -0.02853381,  0.00164917, -0.07675445,  0.04973754,\n",
              "       -0.0811954 ,  0.04990908, -0.05342982,  0.0733516 , -0.08884853,\n",
              "       -0.00496417,  0.088007  ,  0.06232369,  0.12992783,  0.05725894,\n",
              "        0.12014865,  0.02046337, -0.01100747,  0.03074628,  0.16070452,\n",
              "        0.07493883,  0.0894072 , -0.08218076, -0.03862748,  0.03280284],\n",
              "      dtype=float32)"
            ]
          },
          "metadata": {},
          "execution_count": 31
        }
      ]
    },
    {
      "cell_type": "code",
      "source": [
        "model.wv.most_similar('bianca')"
      ],
      "metadata": {
        "colab": {
          "base_uri": "https://localhost:8080/"
        },
        "id": "4ZFqn06tAGNY",
        "outputId": "faa71397-8fde-4763-82b5-39014a8c7bbc"
      },
      "execution_count": 32,
      "outputs": [
        {
          "output_type": "execute_result",
          "data": {
            "text/plain": [
              "[('paris', 0.9961642026901245),\n",
              " ('faith', 0.9954509139060974),\n",
              " ('thursday', 0.9947230815887451),\n",
              " ('oxford', 0.9947035908699036),\n",
              " ('marcius', 0.9943558573722839),\n",
              " ('plain', 0.9939066171646118),\n",
              " ('return', 0.9937164783477783),\n",
              " ('courage', 0.9936020970344543),\n",
              " ('amen', 0.993006706237793),\n",
              " ('roman', 0.9929357171058655)]"
            ]
          },
          "metadata": {},
          "execution_count": 32
        }
      ]
    },
    {
      "cell_type": "code",
      "source": [
        " feature of how infrequently 'bianca' appears in this corpus?"
      ],
      "metadata": {
        "id": "0q6BbvpGJb7q"
      },
      "execution_count": null,
      "outputs": []
    },
    {
      "cell_type": "markdown",
      "source": [
        "honestly makes no sense to me, neither 'paris' 'oxford' 'marcius' nor 'roman' appear in the two plays in which 'bianca' features."
      ],
      "metadata": {
        "id": "IzNHZM2NAPAW"
      }
    },
    {
      "cell_type": "code",
      "source": [
        "model.wv.similarity('bianca', 'virtue')"
      ],
      "metadata": {
        "colab": {
          "base_uri": "https://localhost:8080/"
        },
        "id": "WotaKoN5Ai2L",
        "outputId": "9322db37-ee40-4358-d994-8fd9df247ed5"
      },
      "execution_count": 34,
      "outputs": [
        {
          "output_type": "execute_result",
          "data": {
            "text/plain": [
              "0.95254445"
            ]
          },
          "metadata": {},
          "execution_count": 34
        }
      ]
    },
    {
      "cell_type": "code",
      "source": [
        "model.wv.similarity('bianca', 'kate')"
      ],
      "metadata": {
        "colab": {
          "base_uri": "https://localhost:8080/"
        },
        "id": "3zXe3JapApeM",
        "outputId": "7590e740-6a68-4d2e-dbae-e56912401cce"
      },
      "execution_count": 35,
      "outputs": [
        {
          "output_type": "execute_result",
          "data": {
            "text/plain": [
              "0.98759466"
            ]
          },
          "metadata": {},
          "execution_count": 35
        }
      ]
    },
    {
      "cell_type": "code",
      "source": [
        "model.wv.similarity('bianca', 'england')"
      ],
      "metadata": {
        "colab": {
          "base_uri": "https://localhost:8080/"
        },
        "id": "Rg_ywn_YAw4S",
        "outputId": "1cf9e0c3-f490-4e48-e052-5d7645eea3f9"
      },
      "execution_count": 38,
      "outputs": [
        {
          "output_type": "execute_result",
          "data": {
            "text/plain": [
              "0.93199825"
            ]
          },
          "metadata": {},
          "execution_count": 38
        }
      ]
    },
    {
      "cell_type": "code",
      "source": [
        "model.wv.similarity('bianca', 'master')"
      ],
      "metadata": {
        "colab": {
          "base_uri": "https://localhost:8080/"
        },
        "id": "x4zGHUPqA7MQ",
        "outputId": "fc8c7a30-54a8-498b-98f4-58ec403d4b99"
      },
      "execution_count": 43,
      "outputs": [
        {
          "output_type": "execute_result",
          "data": {
            "text/plain": [
              "0.9665985"
            ]
          },
          "metadata": {},
          "execution_count": 43
        }
      ]
    },
    {
      "cell_type": "code",
      "source": [
        "model.wv.similarity('bianca', 'government')"
      ],
      "metadata": {
        "colab": {
          "base_uri": "https://localhost:8080/"
        },
        "id": "VBDfcEoQB-Jt",
        "outputId": "dbf90092-8ea1-46f3-deea-fde977861a39"
      },
      "execution_count": 45,
      "outputs": [
        {
          "output_type": "execute_result",
          "data": {
            "text/plain": [
              "0.95105904"
            ]
          },
          "metadata": {},
          "execution_count": 45
        }
      ]
    },
    {
      "cell_type": "code",
      "source": [
        "model.wv.similarity('bianca', 'justice')"
      ],
      "metadata": {
        "colab": {
          "base_uri": "https://localhost:8080/"
        },
        "id": "VsEQat_UCOss",
        "outputId": "54f0cab7-9745-4d78-fecc-e8f3b501a104"
      },
      "execution_count": 46,
      "outputs": [
        {
          "output_type": "execute_result",
          "data": {
            "text/plain": [
              "0.9760213"
            ]
          },
          "metadata": {},
          "execution_count": 46
        }
      ]
    },
    {
      "cell_type": "code",
      "source": [
        "model.wv.similarity('bianca', 'juliet')"
      ],
      "metadata": {
        "colab": {
          "base_uri": "https://localhost:8080/"
        },
        "id": "dklh-gvoC4Ai",
        "outputId": "c7dfd12d-8f10-4229-da55-65749562ef31"
      },
      "execution_count": 47,
      "outputs": [
        {
          "output_type": "execute_result",
          "data": {
            "text/plain": [
              "0.92828006"
            ]
          },
          "metadata": {},
          "execution_count": 47
        }
      ]
    },
    {
      "cell_type": "code",
      "source": [
        "model.wv.similarity('bianca', 'wedding')"
      ],
      "metadata": {
        "colab": {
          "base_uri": "https://localhost:8080/"
        },
        "id": "ZBk_LajnJVs-",
        "outputId": "31bcfa6e-316c-415e-b941-1e390c73602b"
      },
      "execution_count": 74,
      "outputs": [
        {
          "output_type": "execute_result",
          "data": {
            "text/plain": [
              "0.938393"
            ]
          },
          "metadata": {},
          "execution_count": 74
        }
      ]
    },
    {
      "cell_type": "code",
      "source": [
        "model.wv.get_vector(\"will\", norm=True)"
      ],
      "metadata": {
        "colab": {
          "base_uri": "https://localhost:8080/"
        },
        "id": "HmRaL8-1R8XJ",
        "outputId": "d9a1642e-404e-4650-ffe7-23c84b0f951b"
      },
      "execution_count": 30,
      "outputs": [
        {
          "output_type": "execute_result",
          "data": {
            "text/plain": [
              "array([ 7.77228782e-03, -2.54198741e-02,  3.42907012e-02,  2.10436210e-02,\n",
              "        1.48924336e-01, -3.57080013e-01,  9.39758569e-02,  1.51385769e-01,\n",
              "       -9.02223401e-03, -3.41961952e-03,  1.17266074e-01, -1.67099029e-01,\n",
              "        7.27848187e-02,  9.14903283e-02, -1.14405714e-01, -6.10986538e-03,\n",
              "       -1.65246818e-02, -6.63282350e-02,  5.48732318e-02, -1.78070888e-01,\n",
              "       -3.38233449e-03,  2.77224425e-02,  4.25567254e-02, -7.54639134e-02,\n",
              "        1.01384655e-01,  7.57525042e-02, -3.37273441e-02,  6.03311360e-02,\n",
              "       -1.22360781e-01, -5.22072352e-02,  4.27334122e-02,  7.20910504e-02,\n",
              "        1.95981547e-01, -8.83398503e-02, -9.02782604e-02, -8.89194235e-02,\n",
              "       -5.02326526e-02, -1.86838791e-01, -7.70373940e-02, -1.16125032e-01,\n",
              "       -1.18996367e-01, -1.10732086e-01,  1.03017632e-02, -8.87077302e-03,\n",
              "        7.45778009e-02,  6.56640381e-02, -1.41245306e-01,  7.30385482e-02,\n",
              "       -5.77683672e-02, -1.53390858e-02,  2.63901614e-02, -9.80534106e-02,\n",
              "       -9.82407182e-02,  8.17399248e-02, -2.01446209e-02, -1.16670830e-02,\n",
              "       -1.96035653e-02, -3.05564783e-04, -2.11648811e-02, -5.31375110e-02,\n",
              "        4.51042391e-02, -9.15918723e-02,  6.56242147e-02,  6.85550719e-02,\n",
              "        2.69448943e-03,  1.88013136e-01,  1.00619942e-01,  9.03186202e-02,\n",
              "       -2.25763351e-01,  1.91344976e-01,  2.03367267e-02,  6.43085018e-02,\n",
              "        1.08754337e-01, -1.05944842e-01,  1.14024512e-01, -9.17161405e-02,\n",
              "       -1.79750100e-02, -1.78675111e-02, -1.29834518e-01, -6.47865757e-02,\n",
              "       -1.81389451e-01,  7.69690052e-02, -1.93243906e-01,  3.73751484e-03,\n",
              "        2.50150356e-02, -1.57102831e-02,  7.17141479e-02,  2.37431861e-02,\n",
              "        5.27389050e-02, -4.02342305e-02,  7.22058341e-02,  3.96028981e-02,\n",
              "       -1.00155510e-01,  1.40414402e-01,  1.59951076e-01,  1.30816177e-01,\n",
              "        1.26639798e-01, -1.00964997e-02, -1.44591317e-01,  6.62497804e-02],\n",
              "      dtype=float32)"
            ]
          },
          "metadata": {},
          "execution_count": 30
        }
      ]
    },
    {
      "cell_type": "code",
      "source": [
        "model.wv.most_similar('will')"
      ],
      "metadata": {
        "colab": {
          "base_uri": "https://localhost:8080/"
        },
        "id": "RVvPX5GaSJJZ",
        "outputId": "900ae725-8301-4ce8-f1e3-62486df5686b"
      },
      "execution_count": 16,
      "outputs": [
        {
          "output_type": "execute_result",
          "data": {
            "text/plain": [
              "[('shall', 0.9795094132423401),\n",
              " (\"'ll\", 0.9697742462158203),\n",
              " ('may', 0.9644275903701782),\n",
              " ('must', 0.9554563760757446),\n",
              " ('should', 0.9218795895576477),\n",
              " ('can', 0.9203559160232544),\n",
              " ('see', 0.9109951257705688),\n",
              " ('did', 0.910571813583374),\n",
              " ('do', 0.90828937292099),\n",
              " ('have', 0.9037193059921265)]"
            ]
          },
          "metadata": {},
          "execution_count": 16
        }
      ]
    },
    {
      "cell_type": "code",
      "source": [
        "model.wv.similarity('will', 'increase')"
      ],
      "metadata": {
        "colab": {
          "base_uri": "https://localhost:8080/"
        },
        "id": "M13DTSOLSqTg",
        "outputId": "776a49e5-19ac-4744-c65b-42f9c9284ef4"
      },
      "execution_count": 33,
      "outputs": [
        {
          "output_type": "execute_result",
          "data": {
            "text/plain": [
              "0.6769038"
            ]
          },
          "metadata": {},
          "execution_count": 33
        }
      ]
    },
    {
      "cell_type": "code",
      "source": [
        "model.wv.similarity('will', 'desire')"
      ],
      "metadata": {
        "colab": {
          "base_uri": "https://localhost:8080/"
        },
        "id": "Ca5D4NrgS6zJ",
        "outputId": "4ea3a950-3382-417e-86ab-d4ecb15ea45b"
      },
      "execution_count": 18,
      "outputs": [
        {
          "output_type": "execute_result",
          "data": {
            "text/plain": [
              "0.77950066"
            ]
          },
          "metadata": {},
          "execution_count": 18
        }
      ]
    },
    {
      "cell_type": "code",
      "source": [
        "model.wv.similarity('will', 'wish')"
      ],
      "metadata": {
        "colab": {
          "base_uri": "https://localhost:8080/"
        },
        "id": "_2zgNu5fS-0y",
        "outputId": "6fa04538-875e-4ca5-acde-7a77ca6a3119"
      },
      "execution_count": 19,
      "outputs": [
        {
          "output_type": "execute_result",
          "data": {
            "text/plain": [
              "0.8620475"
            ]
          },
          "metadata": {},
          "execution_count": 19
        }
      ]
    },
    {
      "cell_type": "code",
      "source": [
        "model.wv.similarity('will', 'cease')"
      ],
      "metadata": {
        "colab": {
          "base_uri": "https://localhost:8080/"
        },
        "id": "msFNeFuwTWoV",
        "outputId": "0223d3e6-9426-44a8-e740-03825bfb2cb0"
      },
      "execution_count": 20,
      "outputs": [
        {
          "output_type": "execute_result",
          "data": {
            "text/plain": [
              "0.7071471"
            ]
          },
          "metadata": {},
          "execution_count": 20
        }
      ]
    },
    {
      "cell_type": "code",
      "source": [
        "model.wv.similarity('will', 'sea')"
      ],
      "metadata": {
        "colab": {
          "base_uri": "https://localhost:8080/"
        },
        "id": "xIs_dwfeTnQ5",
        "outputId": "f993a80c-842c-4735-be1c-0fb85623a83b"
      },
      "execution_count": 21,
      "outputs": [
        {
          "output_type": "execute_result",
          "data": {
            "text/plain": [
              "0.6508622"
            ]
          },
          "metadata": {},
          "execution_count": 21
        }
      ]
    },
    {
      "cell_type": "code",
      "source": [
        "model.wv.similarity('will', 'die')"
      ],
      "metadata": {
        "colab": {
          "base_uri": "https://localhost:8080/"
        },
        "id": "XsttxQd6Ttx6",
        "outputId": "766499c0-3947-4364-89b8-f1466cb6ddec"
      },
      "execution_count": 22,
      "outputs": [
        {
          "output_type": "execute_result",
          "data": {
            "text/plain": [
              "0.7804762"
            ]
          },
          "metadata": {},
          "execution_count": 22
        }
      ]
    }
  ]
}